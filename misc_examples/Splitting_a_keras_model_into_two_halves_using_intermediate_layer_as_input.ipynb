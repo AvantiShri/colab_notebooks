{
  "nbformat": 4,
  "nbformat_minor": 0,
  "metadata": {
    "colab": {
      "name": "Splitting a keras model into two halves - using intermediate layer as input",
      "provenance": [],
      "authorship_tag": "ABX9TyM+ZpkxNpopL99jMqDsYjin",
      "include_colab_link": true
    },
    "kernelspec": {
      "name": "python3",
      "display_name": "Python 3"
    }
  },
  "cells": [
    {
      "cell_type": "markdown",
      "metadata": {
        "id": "view-in-github",
        "colab_type": "text"
      },
      "source": [
        "<a href=\"https://colab.research.google.com/github/AvantiShri/colab_notebooks/blob/master/misc_examples/Splitting_a_keras_model_into_two_halves_using_intermediate_layer_as_input.ipynb\" target=\"_parent\"><img src=\"https://colab.research.google.com/assets/colab-badge.svg\" alt=\"Open In Colab\"/></a>"
      ]
    },
    {
      "cell_type": "code",
      "metadata": {
        "id": "XbZqd-P2cb2O",
        "colab_type": "code",
        "colab": {
          "base_uri": "https://localhost:8080/",
          "height": 34
        },
        "outputId": "f847c0c1-b1c0-4159-f8c5-7dbe0a972d95"
      },
      "source": [
        "%tensorflow_version 1.x"
      ],
      "execution_count": 1,
      "outputs": [
        {
          "output_type": "stream",
          "text": [
            "TensorFlow 1.x selected.\n"
          ],
          "name": "stdout"
        }
      ]
    },
    {
      "cell_type": "code",
      "metadata": {
        "id": "8v2A8iOBcf-T",
        "colab_type": "code",
        "colab": {
          "base_uri": "https://localhost:8080/",
          "height": 34
        },
        "outputId": "efe8fff9-2fb5-427c-de52-6d0f789ce655"
      },
      "source": [
        "import keras"
      ],
      "execution_count": 2,
      "outputs": [
        {
          "output_type": "stream",
          "text": [
            "Using TensorFlow backend.\n"
          ],
          "name": "stderr"
        }
      ]
    },
    {
      "cell_type": "code",
      "metadata": {
        "id": "2WIpFbypiNNh",
        "colab_type": "code",
        "colab": {
          "base_uri": "https://localhost:8080/",
          "height": 232
        },
        "outputId": "35b4b617-e10d-48a6-d7c3-2972e10dc719"
      },
      "source": [
        "!wget https://zenodo.org/record/2648107/files/model_cifar10_balanced_seed-0_bestbefore-100_currentepoch-100_valacc-91_vgg.h5?download=1 -O themodel.h5"
      ],
      "execution_count": 3,
      "outputs": [
        {
          "output_type": "stream",
          "text": [
            "--2020-07-27 04:31:28--  https://zenodo.org/record/2648107/files/model_cifar10_balanced_seed-0_bestbefore-100_currentepoch-100_valacc-91_vgg.h5?download=1\n",
            "Resolving zenodo.org (zenodo.org)... 188.184.117.155\n",
            "Connecting to zenodo.org (zenodo.org)|188.184.117.155|:443... connected.\n",
            "HTTP request sent, awaiting response... 200 OK\n",
            "Length: 60157216 (57M) [application/octet-stream]\n",
            "Saving to: ‘themodel.h5’\n",
            "\n",
            "themodel.h5         100%[===================>]  57.37M  13.6MB/s    in 4.2s    \n",
            "\n",
            "2020-07-27 04:31:33 (13.6 MB/s) - ‘themodel.h5’ saved [60157216/60157216]\n",
            "\n"
          ],
          "name": "stdout"
        }
      ]
    },
    {
      "cell_type": "code",
      "metadata": {
        "id": "ZTvhCQNricBy",
        "colab_type": "code",
        "colab": {
          "base_uri": "https://localhost:8080/",
          "height": 161
        },
        "outputId": "5294d9fe-bd21-4d18-9fae-50dad071fcda"
      },
      "source": [
        "model = keras.models.load_model(\"themodel.h5\")"
      ],
      "execution_count": 4,
      "outputs": [
        {
          "output_type": "stream",
          "text": [
            "WARNING:tensorflow:From /tensorflow-1.15.2/python3.6/tensorflow_core/python/ops/resource_variable_ops.py:1630: calling BaseResourceVariable.__init__ (from tensorflow.python.ops.resource_variable_ops) with constraint is deprecated and will be removed in a future version.\n",
            "Instructions for updating:\n",
            "If using Keras pass *_constraint arguments to layers.\n",
            "WARNING:tensorflow:From /usr/local/lib/python3.6/dist-packages/keras/backend/tensorflow_backend.py:4070: The name tf.nn.max_pool is deprecated. Please use tf.nn.max_pool2d instead.\n",
            "\n"
          ],
          "name": "stdout"
        },
        {
          "output_type": "stream",
          "text": [
            "/usr/local/lib/python3.6/dist-packages/keras/engine/saving.py:341: UserWarning: No training configuration found in save file: the model was *not* compiled. Compile it manually.\n",
            "  warnings.warn('No training configuration found in save file: '\n"
          ],
          "name": "stderr"
        }
      ]
    },
    {
      "cell_type": "code",
      "metadata": {
        "id": "dulaFKLVdBqV",
        "colab_type": "code",
        "colab": {
          "base_uri": "https://localhost:8080/",
          "height": 1000
        },
        "outputId": "35c299c8-f228-43e7-a02a-d3a2ed2d918d"
      },
      "source": [
        "model.summary()"
      ],
      "execution_count": 5,
      "outputs": [
        {
          "output_type": "stream",
          "text": [
            "Model: \"sequential_1\"\n",
            "_________________________________________________________________\n",
            "Layer (type)                 Output Shape              Param #   \n",
            "=================================================================\n",
            "conv2d_1 (Conv2D)            (None, 32, 32, 64)        1792      \n",
            "_________________________________________________________________\n",
            "activation_1 (Activation)    (None, 32, 32, 64)        0         \n",
            "_________________________________________________________________\n",
            "batch_normalization_1 (Batch (None, 32, 32, 64)        256       \n",
            "_________________________________________________________________\n",
            "dropout_1 (Dropout)          (None, 32, 32, 64)        0         \n",
            "_________________________________________________________________\n",
            "conv2d_2 (Conv2D)            (None, 32, 32, 64)        36928     \n",
            "_________________________________________________________________\n",
            "activation_2 (Activation)    (None, 32, 32, 64)        0         \n",
            "_________________________________________________________________\n",
            "batch_normalization_2 (Batch (None, 32, 32, 64)        256       \n",
            "_________________________________________________________________\n",
            "max_pooling2d_1 (MaxPooling2 (None, 16, 16, 64)        0         \n",
            "_________________________________________________________________\n",
            "conv2d_3 (Conv2D)            (None, 16, 16, 128)       73856     \n",
            "_________________________________________________________________\n",
            "activation_3 (Activation)    (None, 16, 16, 128)       0         \n",
            "_________________________________________________________________\n",
            "batch_normalization_3 (Batch (None, 16, 16, 128)       512       \n",
            "_________________________________________________________________\n",
            "dropout_2 (Dropout)          (None, 16, 16, 128)       0         \n",
            "_________________________________________________________________\n",
            "conv2d_4 (Conv2D)            (None, 16, 16, 128)       147584    \n",
            "_________________________________________________________________\n",
            "activation_4 (Activation)    (None, 16, 16, 128)       0         \n",
            "_________________________________________________________________\n",
            "batch_normalization_4 (Batch (None, 16, 16, 128)       512       \n",
            "_________________________________________________________________\n",
            "max_pooling2d_2 (MaxPooling2 (None, 8, 8, 128)         0         \n",
            "_________________________________________________________________\n",
            "conv2d_5 (Conv2D)            (None, 8, 8, 256)         295168    \n",
            "_________________________________________________________________\n",
            "activation_5 (Activation)    (None, 8, 8, 256)         0         \n",
            "_________________________________________________________________\n",
            "batch_normalization_5 (Batch (None, 8, 8, 256)         1024      \n",
            "_________________________________________________________________\n",
            "dropout_3 (Dropout)          (None, 8, 8, 256)         0         \n",
            "_________________________________________________________________\n",
            "conv2d_6 (Conv2D)            (None, 8, 8, 256)         590080    \n",
            "_________________________________________________________________\n",
            "activation_6 (Activation)    (None, 8, 8, 256)         0         \n",
            "_________________________________________________________________\n",
            "batch_normalization_6 (Batch (None, 8, 8, 256)         1024      \n",
            "_________________________________________________________________\n",
            "dropout_4 (Dropout)          (None, 8, 8, 256)         0         \n",
            "_________________________________________________________________\n",
            "conv2d_7 (Conv2D)            (None, 8, 8, 256)         590080    \n",
            "_________________________________________________________________\n",
            "activation_7 (Activation)    (None, 8, 8, 256)         0         \n",
            "_________________________________________________________________\n",
            "batch_normalization_7 (Batch (None, 8, 8, 256)         1024      \n",
            "_________________________________________________________________\n",
            "max_pooling2d_3 (MaxPooling2 (None, 4, 4, 256)         0         \n",
            "_________________________________________________________________\n",
            "conv2d_8 (Conv2D)            (None, 4, 4, 512)         1180160   \n",
            "_________________________________________________________________\n",
            "activation_8 (Activation)    (None, 4, 4, 512)         0         \n",
            "_________________________________________________________________\n",
            "batch_normalization_8 (Batch (None, 4, 4, 512)         2048      \n",
            "_________________________________________________________________\n",
            "dropout_5 (Dropout)          (None, 4, 4, 512)         0         \n",
            "_________________________________________________________________\n",
            "conv2d_9 (Conv2D)            (None, 4, 4, 512)         2359808   \n",
            "_________________________________________________________________\n",
            "activation_9 (Activation)    (None, 4, 4, 512)         0         \n",
            "_________________________________________________________________\n",
            "batch_normalization_9 (Batch (None, 4, 4, 512)         2048      \n",
            "_________________________________________________________________\n",
            "dropout_6 (Dropout)          (None, 4, 4, 512)         0         \n",
            "_________________________________________________________________\n",
            "conv2d_10 (Conv2D)           (None, 4, 4, 512)         2359808   \n",
            "_________________________________________________________________\n",
            "activation_10 (Activation)   (None, 4, 4, 512)         0         \n",
            "_________________________________________________________________\n",
            "batch_normalization_10 (Batc (None, 4, 4, 512)         2048      \n",
            "_________________________________________________________________\n",
            "max_pooling2d_4 (MaxPooling2 (None, 2, 2, 512)         0         \n",
            "_________________________________________________________________\n",
            "conv2d_11 (Conv2D)           (None, 2, 2, 512)         2359808   \n",
            "_________________________________________________________________\n",
            "activation_11 (Activation)   (None, 2, 2, 512)         0         \n",
            "_________________________________________________________________\n",
            "batch_normalization_11 (Batc (None, 2, 2, 512)         2048      \n",
            "_________________________________________________________________\n",
            "dropout_7 (Dropout)          (None, 2, 2, 512)         0         \n",
            "_________________________________________________________________\n",
            "conv2d_12 (Conv2D)           (None, 2, 2, 512)         2359808   \n",
            "_________________________________________________________________\n",
            "activation_12 (Activation)   (None, 2, 2, 512)         0         \n",
            "_________________________________________________________________\n",
            "batch_normalization_12 (Batc (None, 2, 2, 512)         2048      \n",
            "_________________________________________________________________\n",
            "dropout_8 (Dropout)          (None, 2, 2, 512)         0         \n",
            "_________________________________________________________________\n",
            "conv2d_13 (Conv2D)           (None, 2, 2, 512)         2359808   \n",
            "_________________________________________________________________\n",
            "activation_13 (Activation)   (None, 2, 2, 512)         0         \n",
            "_________________________________________________________________\n",
            "batch_normalization_13 (Batc (None, 2, 2, 512)         2048      \n",
            "_________________________________________________________________\n",
            "max_pooling2d_5 (MaxPooling2 (None, 1, 1, 512)         0         \n",
            "_________________________________________________________________\n",
            "dropout_9 (Dropout)          (None, 1, 1, 512)         0         \n",
            "_________________________________________________________________\n",
            "flatten_1 (Flatten)          (None, 512)               0         \n",
            "_________________________________________________________________\n",
            "dense_1 (Dense)              (None, 512)               262656    \n",
            "_________________________________________________________________\n",
            "activation_14 (Activation)   (None, 512)               0         \n",
            "_________________________________________________________________\n",
            "batch_normalization_14 (Batc (None, 512)               2048      \n",
            "_________________________________________________________________\n",
            "dropout_10 (Dropout)         (None, 512)               0         \n",
            "_________________________________________________________________\n",
            "dense_2 (Dense)              (None, 10)                5130      \n",
            "_________________________________________________________________\n",
            "activation_15 (Activation)   (None, 10)                0         \n",
            "=================================================================\n",
            "Total params: 15,001,418\n",
            "Trainable params: 14,991,946\n",
            "Non-trainable params: 9,472\n",
            "_________________________________________________________________\n"
          ],
          "name": "stdout"
        }
      ]
    },
    {
      "cell_type": "code",
      "metadata": {
        "id": "r8ro5mXKeAJl",
        "colab_type": "code",
        "colab": {
          "base_uri": "https://localhost:8080/",
          "height": 34
        },
        "outputId": "0bc29a8a-f821-4413-8459-ada6012c0c4a"
      },
      "source": [
        "model.layers[1].input_shape"
      ],
      "execution_count": 6,
      "outputs": [
        {
          "output_type": "execute_result",
          "data": {
            "text/plain": [
              "(None, 32, 32, 64)"
            ]
          },
          "metadata": {
            "tags": []
          },
          "execution_count": 6
        }
      ]
    },
    {
      "cell_type": "code",
      "metadata": {
        "id": "7bm_VbZqdxnR",
        "colab_type": "code",
        "colab": {}
      },
      "source": [
        "def copy_layer(layer_to_copy, new_config_extra_kwargs={}):\n",
        "  new_config = layer_to_copy.get_config()\n",
        "  new_config.update(new_config_extra_kwargs)\n",
        "  new_layer = layer_to_copy.__class__.from_config(new_config)\n",
        "  new_layer.build(layer_to_copy.input_shape)\n",
        "  new_layer.set_weights(layer_to_copy.get_weights())\n",
        "  return new_layer\n",
        "\n",
        "def create_subset_model(model, layer_to_start_at, layer_to_end_at):\n",
        "  sequential_model = keras.models.Sequential()\n",
        "  layers_to_add = model.layers[layer_to_start_at:layer_to_end_at]\n",
        "\n",
        "  new_first_layer = copy_layer(\n",
        "      layer_to_copy=layers_to_add[0],\n",
        "      new_config_extra_kwargs={\n",
        "          'batch_input_shape': layers_to_add[0].input_shape\n",
        "      })\n",
        "  sequential_model.add(new_first_layer)\n",
        "  for layer in layers_to_add[1:]:\n",
        "    print(\"layer\", layer)\n",
        "    sequential_model.add(copy_layer(layer_to_copy=layer))\n",
        "\n",
        "  return sequential_model\n",
        "\n",
        "def split_model(model, layer_to_split_at):\n",
        "  first_half = create_subset_model(model=model,\n",
        "                  layer_to_start_at=0,\n",
        "                  layer_to_end_at=layer_to_split_at)\n",
        "  second_half = create_subset_model(model=model,\n",
        "                  layer_to_start_at=layer_to_split_at,\n",
        "                  layer_to_end_at=len(model.layers))\n",
        "  return first_half, second_half"
      ],
      "execution_count": 7,
      "outputs": []
    },
    {
      "cell_type": "code",
      "metadata": {
        "id": "ZUa_Sj2dd3wf",
        "colab_type": "code",
        "colab": {
          "base_uri": "https://localhost:8080/",
          "height": 1000
        },
        "outputId": "668bf89c-834c-4cb3-f52b-2ac1960a1b5c"
      },
      "source": [
        "first_half_model, second_half_model = split_model(model=model,\n",
        "                                                  layer_to_split_at=-9)"
      ],
      "execution_count": 8,
      "outputs": [
        {
          "output_type": "stream",
          "text": [
            "layer <keras.layers.core.Activation object at 0x7ff0a949bd68>\n",
            "layer <keras.layers.normalization.BatchNormalization object at 0x7ff0a949b9b0>\n",
            "layer <keras.layers.core.Dropout object at 0x7ff0a98f4e80>\n",
            "layer <keras.layers.convolutional.Conv2D object at 0x7ff0a949be10>\n",
            "layer <keras.layers.core.Activation object at 0x7ff0a8c66f28>\n",
            "layer <keras.layers.normalization.BatchNormalization object at 0x7ff0a276e898>\n",
            "layer <keras.layers.pooling.MaxPooling2D object at 0x7ff0a27676a0>\n",
            "layer <keras.layers.convolutional.Conv2D object at 0x7ff0a276e550>\n",
            "layer <keras.layers.core.Activation object at 0x7ff0a270e8d0>\n",
            "layer <keras.layers.normalization.BatchNormalization object at 0x7ff0a26b6b00>\n",
            "layer <keras.layers.core.Dropout object at 0x7ff0a2724940>\n",
            "layer <keras.layers.convolutional.Conv2D object at 0x7ff0a26b67b8>\n",
            "layer <keras.layers.core.Activation object at 0x7ff0a26cafd0>\n",
            "layer <keras.layers.normalization.BatchNormalization object at 0x7ff0a2683860>\n",
            "layer <keras.layers.pooling.MaxPooling2D object at 0x7ff0a26796a0>\n",
            "layer <keras.layers.convolutional.Conv2D object at 0x7ff0a26a74e0>\n",
            "layer <keras.layers.core.Activation object at 0x7ff0a2683518>\n",
            "layer <keras.layers.normalization.BatchNormalization object at 0x7ff0a2647be0>\n",
            "layer <keras.layers.core.Dropout object at 0x7ff0a26387f0>\n",
            "layer <keras.layers.convolutional.Conv2D object at 0x7ff0a2647898>\n",
            "layer <keras.layers.core.Activation object at 0x7ff0a265bf98>\n",
            "layer <keras.layers.normalization.BatchNormalization object at 0x7ff0a2609780>\n",
            "layer <keras.layers.core.Dropout object at 0x7ff0a264eef0>\n",
            "layer <keras.layers.convolutional.Conv2D object at 0x7ff0a26184a8>\n",
            "layer <keras.layers.core.Activation object at 0x7ff0a2626e80>\n",
            "layer <keras.layers.normalization.BatchNormalization object at 0x7ff0a25e56d8>\n",
            "layer <keras.layers.pooling.MaxPooling2D object at 0x7ff0a25d3fd0>\n",
            "layer <keras.layers.convolutional.Conv2D object at 0x7ff0a258cb70>\n",
            "layer <keras.layers.core.Activation object at 0x7ff0a25e5390>\n",
            "layer <keras.layers.normalization.BatchNormalization object at 0x7ff0a25aaa58>\n",
            "layer <keras.layers.core.Dropout object at 0x7ff0a259a668>\n",
            "layer <keras.layers.convolutional.Conv2D object at 0x7ff0a25aa710>\n",
            "layer <keras.layers.core.Activation object at 0x7ff0a253bf60>\n",
            "layer <keras.layers.normalization.BatchNormalization object at 0x7ff0a24fb7f0>\n",
            "layer <keras.layers.core.Dropout object at 0x7ff0a256f630>\n",
            "layer <keras.layers.convolutional.Conv2D object at 0x7ff0a24fb4a8>\n",
            "layer <keras.layers.core.Activation object at 0x7ff0a250dd68>\n",
            "layer <keras.layers.normalization.BatchNormalization object at 0x7ff0a24cb518>\n",
            "layer <keras.layers.pooling.MaxPooling2D object at 0x7ff0a24b8f28>\n",
            "layer <keras.layers.convolutional.Conv2D object at 0x7ff0a24f0b38>\n",
            "layer <keras.layers.core.Activation object at 0x7ff0a24cb240>\n",
            "layer <keras.layers.normalization.BatchNormalization object at 0x7ff0a2541ac8>\n",
            "layer <keras.layers.core.Dropout object at 0x7ff0a247e518>\n",
            "layer <keras.layers.convolutional.Conv2D object at 0x7ff0a25415c0>\n",
            "layer <keras.layers.core.Activation object at 0x7ff0a249edd8>\n",
            "layer <keras.layers.normalization.BatchNormalization object at 0x7ff0a245f860>\n",
            "layer <keras.layers.core.Dropout object at 0x7ff0a244bf98>\n",
            "layer <keras.layers.convolutional.Conv2D object at 0x7ff0a245f358>\n",
            "layer <keras.layers.core.Activation object at 0x7ff0a23f6fd0>\n",
            "layer <keras.layers.normalization.BatchNormalization object at 0x7ff0a241de10>\n",
            "layer <keras.layers.core.Dropout object at 0x7ff0a23d36d8>\n",
            "layer <keras.layers.core.Flatten object at 0x7ff0a24312e8>\n",
            "layer <keras.layers.core.Dense object at 0x7ff0a23d30b8>\n",
            "layer <keras.layers.core.Activation object at 0x7ff0a23e43c8>\n",
            "layer <keras.layers.normalization.BatchNormalization object at 0x7ff0a2387ef0>\n",
            "layer <keras.layers.core.Dropout object at 0x7ff0a237d0f0>\n",
            "layer <keras.layers.core.Dense object at 0x7ff0a2387fd0>\n",
            "layer <keras.layers.core.Activation object at 0x7ff0a239dc50>\n"
          ],
          "name": "stdout"
        }
      ]
    },
    {
      "cell_type": "code",
      "metadata": {
        "id": "_3yGuN3Fhc3h",
        "colab_type": "code",
        "colab": {
          "base_uri": "https://localhost:8080/",
          "height": 34
        },
        "outputId": "89b86cae-ea6a-41c8-9563-5fb6349779ea"
      },
      "source": [
        "model.input_shape"
      ],
      "execution_count": 9,
      "outputs": [
        {
          "output_type": "execute_result",
          "data": {
            "text/plain": [
              "(None, 32, 32, 3)"
            ]
          },
          "metadata": {
            "tags": []
          },
          "execution_count": 9
        }
      ]
    },
    {
      "cell_type": "code",
      "metadata": {
        "id": "k4G9qakrfxzw",
        "colab_type": "code",
        "colab": {
          "base_uri": "https://localhost:8080/",
          "height": 143
        },
        "outputId": "bc157274-1a2e-4432-da43-cd22254f76d7"
      },
      "source": [
        "import numpy as np\n",
        "an_input = np.random.RandomState(1234).random((1,32,32,3))\n",
        "print(model.predict(an_input))\n",
        "print(second_half_model.predict(first_half_model.predict(an_input)))"
      ],
      "execution_count": 10,
      "outputs": [
        {
          "output_type": "stream",
          "text": [
            "WARNING:tensorflow:From /usr/local/lib/python3.6/dist-packages/keras/backend/tensorflow_backend.py:422: The name tf.global_variables is deprecated. Please use tf.compat.v1.global_variables instead.\n",
            "\n",
            "[[4.1146105e-04 3.6833601e-06 8.3194032e-02 4.8545543e-02 2.1070623e-01\n",
            "  1.1816010e-03 6.5564293e-01 6.7880363e-05 1.1103776e-04 1.3561430e-04]]\n",
            "[[4.1146105e-04 3.6833601e-06 8.3194032e-02 4.8545543e-02 2.1070623e-01\n",
            "  1.1816010e-03 6.5564293e-01 6.7880363e-05 1.1103776e-04 1.3561430e-04]]\n"
          ],
          "name": "stdout"
        }
      ]
    },
    {
      "cell_type": "code",
      "metadata": {
        "id": "J9i_GwV7hfor",
        "colab_type": "code",
        "colab": {}
      },
      "source": [
        ""
      ],
      "execution_count": 10,
      "outputs": []
    }
  ]
}