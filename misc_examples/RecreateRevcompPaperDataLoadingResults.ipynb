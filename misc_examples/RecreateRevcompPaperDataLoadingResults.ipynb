{
  "nbformat": 4,
  "nbformat_minor": 0,
  "metadata": {
    "colab": {
      "name": "RecreateRevcompPaperDataLoadingResults.ipynb",
      "provenance": [],
      "collapsed_sections": [],
      "authorship_tag": "ABX9TyOUsF/QS1bDxa7qdz3+aPHr",
      "include_colab_link": true
    },
    "kernelspec": {
      "name": "python3",
      "display_name": "Python 3"
    }
  },
  "cells": [
    {
      "cell_type": "markdown",
      "metadata": {
        "id": "view-in-github",
        "colab_type": "text"
      },
      "source": [
        "<a href=\"https://colab.research.google.com/github/AvantiShri/colab_notebooks/blob/master/misc_examples/RecreateRevcompPaperDataLoadingResults.ipynb\" target=\"_parent\"><img src=\"https://colab.research.google.com/assets/colab-badge.svg\" alt=\"Open In Colab\"/></a>"
      ]
    },
    {
      "cell_type": "code",
      "metadata": {
        "id": "V_AldjBuVvZx",
        "colab_type": "code",
        "colab": {
          "base_uri": "https://localhost:8080/",
          "height": 196
        },
        "outputId": "9ab9e551-113b-4464-eab9-c94fedb1ae24"
      },
      "source": [
        "#pull in the hdf5 files used for training\n",
        "!wget http://mitra.stanford.edu/kundaje/avanti/rc_data/backup_revcomppaperdata/Gm12878/Max/train_data.hdf5"
      ],
      "execution_count": 1,
      "outputs": [
        {
          "output_type": "stream",
          "text": [
            "--2020-08-25 02:00:05--  http://mitra.stanford.edu/kundaje/avanti/rc_data/backup_revcomppaperdata/Gm12878/Max/train_data.hdf5\n",
            "Resolving mitra.stanford.edu (mitra.stanford.edu)... 171.67.96.243\n",
            "Connecting to mitra.stanford.edu (mitra.stanford.edu)|171.67.96.243|:80... connected.\n",
            "HTTP request sent, awaiting response... 200 OK\n",
            "Length: 203012944 (194M)\n",
            "Saving to: ‘train_data.hdf5’\n",
            "\n",
            "train_data.hdf5     100%[===================>] 193.61M  21.3MB/s    in 10s     \n",
            "\n",
            "2020-08-25 02:00:15 (19.1 MB/s) - ‘train_data.hdf5’ saved [203012944/203012944]\n",
            "\n"
          ],
          "name": "stdout"
        }
      ]
    },
    {
      "cell_type": "code",
      "metadata": {
        "id": "WE2Hij6kXdgS",
        "colab_type": "code",
        "colab": {
          "base_uri": "https://localhost:8080/",
          "height": 196
        },
        "outputId": "e74b353f-718f-4baa-831a-d4cf02f6f204"
      },
      "source": [
        "!wget http://mitra.stanford.edu/kundaje/avanti/rc_data/backup_revcomppaperdata/Gm12878/Max/valid_data.hdf5"
      ],
      "execution_count": 23,
      "outputs": [
        {
          "output_type": "stream",
          "text": [
            "--2020-08-25 02:06:34--  http://mitra.stanford.edu/kundaje/avanti/rc_data/backup_revcomppaperdata/Gm12878/Max/valid_data.hdf5\n",
            "Resolving mitra.stanford.edu (mitra.stanford.edu)... 171.67.96.243\n",
            "Connecting to mitra.stanford.edu (mitra.stanford.edu)|171.67.96.243|:80... connected.\n",
            "HTTP request sent, awaiting response... 200 OK\n",
            "Length: 13683729 (13M)\n",
            "Saving to: ‘valid_data.hdf5’\n",
            "\n",
            "valid_data.hdf5     100%[===================>]  13.05M  8.65MB/s    in 1.5s    \n",
            "\n",
            "2020-08-25 02:06:35 (8.65 MB/s) - ‘valid_data.hdf5’ saved [13683729/13683729]\n",
            "\n"
          ],
          "name": "stdout"
        }
      ]
    },
    {
      "cell_type": "code",
      "metadata": {
        "id": "eFS1-t7NV-zH",
        "colab_type": "code",
        "colab": {}
      },
      "source": [
        "import h5py\n",
        "train_h5data = h5py.File(\"train_data.hdf5\", \"r\")"
      ],
      "execution_count": 3,
      "outputs": []
    },
    {
      "cell_type": "code",
      "metadata": {
        "id": "Ajm9Zb_DWEOG",
        "colab_type": "code",
        "colab": {
          "base_uri": "https://localhost:8080/",
          "height": 33
        },
        "outputId": "6fe31653-5dea-4948-d66b-fffb1ab372ac"
      },
      "source": [
        "train_h5data['X']['sequence']"
      ],
      "execution_count": 8,
      "outputs": [
        {
          "output_type": "execute_result",
          "data": {
            "text/plain": [
              "<HDF5 dataset \"sequence\": shape (195071, 1000, 4), type \"<f4\">"
            ]
          },
          "metadata": {
            "tags": []
          },
          "execution_count": 8
        }
      ]
    },
    {
      "cell_type": "code",
      "metadata": {
        "id": "blWo5WqEWH6k",
        "colab_type": "code",
        "colab": {
          "base_uri": "https://localhost:8080/",
          "height": 33
        },
        "outputId": "97579754-5c11-44c3-d765-093b5da6e0df"
      },
      "source": [
        "import numpy as np\n",
        "\n",
        "train_h5data['Y']['output'][:]"
      ],
      "execution_count": 14,
      "outputs": [
        {
          "output_type": "execute_result",
          "data": {
            "text/plain": [
              "0.053344678"
            ]
          },
          "metadata": {
            "tags": []
          },
          "execution_count": 14
        }
      ]
    },
    {
      "cell_type": "code",
      "metadata": {
        "id": "u_DubCIzWQbb",
        "colab_type": "code",
        "colab": {
          "base_uri": "https://localhost:8080/",
          "height": 261
        },
        "outputId": "c1644158-e559-4318-99aa-bb5d36a82b69"
      },
      "source": [
        "!pip install momma_dragonn"
      ],
      "execution_count": 15,
      "outputs": [
        {
          "output_type": "stream",
          "text": [
            "Collecting momma_dragonn\n",
            "  Downloading https://files.pythonhosted.org/packages/86/5f/919f8a01ebec00ddeb4b2432b74bc2f6c6077a376bd0936983586a5fe9eb/momma_dragonn-0.2.7.0.tar.gz\n",
            "Requirement already satisfied: numpy in /usr/local/lib/python3.6/dist-packages (from momma_dragonn) (1.18.5)\n",
            "Collecting avutils\n",
            "  Downloading https://files.pythonhosted.org/packages/7c/a1/f99f27a5065c2daae0f9711705ba4fc7bd777f160292dcae14bb6e5e9838/avutils-0.2.2.0.tar.gz\n",
            "Building wheels for collected packages: momma-dragonn, avutils\n",
            "  Building wheel for momma-dragonn (setup.py) ... \u001b[?25l\u001b[?25hdone\n",
            "  Created wheel for momma-dragonn: filename=momma_dragonn-0.2.7.0-cp36-none-any.whl size=35042 sha256=7c78bdb00f71622f015b5943b8519272687390505ee8aa93478780fbca8636fc\n",
            "  Stored in directory: /root/.cache/pip/wheels/87/e8/25/a7325bcfdc08dc594687cc1cda8915c217c602fa5586e4835f\n",
            "  Building wheel for avutils (setup.py) ... \u001b[?25l\u001b[?25hdone\n",
            "  Created wheel for avutils: filename=avutils-0.2.2.0-cp36-none-any.whl size=18626 sha256=388606e37b9ae3f377e081932c45e7521e4cfa5bd110115eb1fb2a8f46b4227a\n",
            "  Stored in directory: /root/.cache/pip/wheels/c2/10/60/224c0029355b3627d218534df8cbf15588409cdd6bc8df0993\n",
            "Successfully built momma-dragonn avutils\n",
            "Installing collected packages: avutils, momma-dragonn\n",
            "Successfully installed avutils-0.2.2.0 momma-dragonn-0.2.7.0\n"
          ],
          "name": "stdout"
        }
      ]
    },
    {
      "cell_type": "code",
      "metadata": {
        "id": "inYZ24_qWefb",
        "colab_type": "code",
        "colab": {
          "base_uri": "https://localhost:8080/",
          "height": 102
        },
        "outputId": "57f7bd34-ac28-4f03-e544-f995c71ca2f5"
      },
      "source": [
        "import momma_dragonn\n",
        "\n",
        "train_data_loader = momma_dragonn.data_loaders.hdf5_data_loader.MultimodalBatchDataLoader(\n",
        "                          path_to_hdf5=\"train_data.hdf5\",\n",
        "                          bundle_x_and_y_in_generator=False,\n",
        "                          strip_enclosing_dictionary=True,\n",
        "                          batch_size=100,\n",
        "                          num_to_load_for_eval=1000)"
      ],
      "execution_count": 19,
      "outputs": [
        {
          "output_type": "stream",
          "text": [
            "Input modes ['sequence']\n",
            "Output modes ['output']\n"
          ],
          "name": "stdout"
        },
        {
          "output_type": "stream",
          "text": [
            "/usr/local/lib/python3.6/dist-packages/momma_dragonn/data_loaders/hdf5_data_loader.py:12: H5pyDeprecationWarning: The default file mode will change to 'r' (read-only) in h5py 3.0. To suppress this warning, pass the mode you need to h5py.File(), or set the global default h5.get_config().default_file_mode, or set the environment variable H5PY_DEFAULT_READONLY=1. Available modes are: 'r', 'r+', 'w', 'w-'/'x', 'a'. See the docs for details.\n",
            "  self.f = h5py.File(self.path_to_hdf5)\n"
          ],
          "name": "stderr"
        }
      ]
    },
    {
      "cell_type": "code",
      "metadata": {
        "id": "JnwYiJw1Wm7K",
        "colab_type": "code",
        "colab": {}
      },
      "source": [
        "#Use this as the generator for fit generator\n",
        "train_generator = train_data_loader.get_batch_generator()"
      ],
      "execution_count": 20,
      "outputs": []
    },
    {
      "cell_type": "code",
      "metadata": {
        "id": "xC8Ht4eBXOb6",
        "colab_type": "code",
        "colab": {
          "base_uri": "https://localhost:8080/",
          "height": 1000
        },
        "outputId": "12eabf02-ce3e-420b-ce7f-7f55bdc3a3e5"
      },
      "source": [
        "train_generator.__next__()"
      ],
      "execution_count": 22,
      "outputs": [
        {
          "output_type": "execute_result",
          "data": {
            "text/plain": [
              "(array([[[0., 0., 1., 0.],\n",
              "         [0., 1., 0., 0.],\n",
              "         [0., 1., 0., 0.],\n",
              "         ...,\n",
              "         [1., 0., 0., 0.],\n",
              "         [0., 0., 0., 1.],\n",
              "         [0., 1., 0., 0.]],\n",
              " \n",
              "        [[0., 0., 1., 0.],\n",
              "         [1., 0., 0., 0.],\n",
              "         [0., 0., 0., 1.],\n",
              "         ...,\n",
              "         [0., 1., 0., 0.],\n",
              "         [1., 0., 0., 0.],\n",
              "         [0., 0., 1., 0.]],\n",
              " \n",
              "        [[1., 0., 0., 0.],\n",
              "         [0., 1., 0., 0.],\n",
              "         [0., 0., 0., 1.],\n",
              "         ...,\n",
              "         [0., 1., 0., 0.],\n",
              "         [0., 0., 0., 1.],\n",
              "         [0., 0., 1., 0.]],\n",
              " \n",
              "        ...,\n",
              " \n",
              "        [[1., 0., 0., 0.],\n",
              "         [1., 0., 0., 0.],\n",
              "         [1., 0., 0., 0.],\n",
              "         ...,\n",
              "         [0., 1., 0., 0.],\n",
              "         [1., 0., 0., 0.],\n",
              "         [0., 0., 0., 1.]],\n",
              " \n",
              "        [[0., 0., 0., 1.],\n",
              "         [0., 1., 0., 0.],\n",
              "         [0., 1., 0., 0.],\n",
              "         ...,\n",
              "         [0., 0., 1., 0.],\n",
              "         [0., 1., 0., 0.],\n",
              "         [0., 1., 0., 0.]],\n",
              " \n",
              "        [[0., 0., 0., 1.],\n",
              "         [0., 1., 0., 0.],\n",
              "         [0., 0., 0., 1.],\n",
              "         ...,\n",
              "         [1., 0., 0., 0.],\n",
              "         [0., 0., 1., 0.],\n",
              "         [0., 1., 0., 0.]]], dtype=float32), array([[0.],\n",
              "        [0.],\n",
              "        [1.],\n",
              "        [0.],\n",
              "        [0.],\n",
              "        [0.],\n",
              "        [0.],\n",
              "        [0.],\n",
              "        [1.],\n",
              "        [0.],\n",
              "        [0.],\n",
              "        [0.],\n",
              "        [0.],\n",
              "        [0.],\n",
              "        [1.],\n",
              "        [0.],\n",
              "        [0.],\n",
              "        [0.],\n",
              "        [0.],\n",
              "        [0.],\n",
              "        [0.],\n",
              "        [0.],\n",
              "        [0.],\n",
              "        [0.],\n",
              "        [0.],\n",
              "        [0.],\n",
              "        [0.],\n",
              "        [0.],\n",
              "        [0.],\n",
              "        [0.],\n",
              "        [1.],\n",
              "        [0.],\n",
              "        [1.],\n",
              "        [0.],\n",
              "        [0.],\n",
              "        [0.],\n",
              "        [0.],\n",
              "        [0.],\n",
              "        [0.],\n",
              "        [0.],\n",
              "        [0.],\n",
              "        [0.],\n",
              "        [0.],\n",
              "        [0.],\n",
              "        [0.],\n",
              "        [1.],\n",
              "        [0.],\n",
              "        [0.],\n",
              "        [0.],\n",
              "        [0.],\n",
              "        [0.],\n",
              "        [1.],\n",
              "        [0.],\n",
              "        [0.],\n",
              "        [0.],\n",
              "        [0.],\n",
              "        [0.],\n",
              "        [0.],\n",
              "        [0.],\n",
              "        [0.],\n",
              "        [0.],\n",
              "        [0.],\n",
              "        [0.],\n",
              "        [0.],\n",
              "        [0.],\n",
              "        [0.],\n",
              "        [0.],\n",
              "        [0.],\n",
              "        [0.],\n",
              "        [0.],\n",
              "        [0.],\n",
              "        [0.],\n",
              "        [0.],\n",
              "        [0.],\n",
              "        [0.],\n",
              "        [0.],\n",
              "        [0.],\n",
              "        [0.],\n",
              "        [0.],\n",
              "        [0.],\n",
              "        [0.],\n",
              "        [0.],\n",
              "        [1.],\n",
              "        [1.],\n",
              "        [0.],\n",
              "        [0.],\n",
              "        [0.],\n",
              "        [0.],\n",
              "        [0.],\n",
              "        [0.],\n",
              "        [0.],\n",
              "        [0.],\n",
              "        [0.],\n",
              "        [0.],\n",
              "        [0.],\n",
              "        [0.],\n",
              "        [0.],\n",
              "        [0.],\n",
              "        [0.],\n",
              "        [0.]], dtype=float32))"
            ]
          },
          "metadata": {
            "tags": []
          },
          "execution_count": 22
        }
      ]
    },
    {
      "cell_type": "code",
      "metadata": {
        "id": "rMs1nd4GXRJA",
        "colab_type": "code",
        "colab": {
          "base_uri": "https://localhost:8080/",
          "height": 102
        },
        "outputId": "f1e8d0b8-6c87-4abb-f518-334f4beb9f67"
      },
      "source": [
        "valid_data_loader = momma_dragonn.data_loaders.hdf5_data_loader.MultimodalAtOnceDataLoader(\n",
        "    path_to_hdf5=\"valid_data.hdf5\", strip_enclosing_dictionary=True)"
      ],
      "execution_count": 28,
      "outputs": [
        {
          "output_type": "stream",
          "text": [
            "Input modes ['sequence']\n",
            "Output modes ['output']\n"
          ],
          "name": "stdout"
        },
        {
          "output_type": "stream",
          "text": [
            "/usr/local/lib/python3.6/dist-packages/momma_dragonn/data_loaders/hdf5_data_loader.py:32: H5pyDeprecationWarning: The default file mode will change to 'r' (read-only) in h5py 3.0. To suppress this warning, pass the mode you need to h5py.File(), or set the global default h5.get_config().default_file_mode, or set the environment variable H5PY_DEFAULT_READONLY=1. Available modes are: 'r', 'r+', 'w', 'w-'/'x', 'a'. See the docs for details.\n",
            "  self.f = h5py.File(self.path_to_hdf5)\n"
          ],
          "name": "stderr"
        }
      ]
    },
    {
      "cell_type": "code",
      "metadata": {
        "id": "8x07tFCbYFxI",
        "colab_type": "code",
        "colab": {}
      },
      "source": [
        "valid_data = valid_data_loader.get_data()"
      ],
      "execution_count": 29,
      "outputs": []
    },
    {
      "cell_type": "code",
      "metadata": {
        "id": "Up1B-7ibYLsm",
        "colab_type": "code",
        "colab": {
          "base_uri": "https://localhost:8080/",
          "height": 33
        },
        "outputId": "932d7ffd-2c74-4e9a-8261-38f6f6851d4d"
      },
      "source": [
        "valid_data.X.shape #use this as 'X' for the validation data"
      ],
      "execution_count": 31,
      "outputs": [
        {
          "output_type": "execute_result",
          "data": {
            "text/plain": [
              "(13138, 1000, 4)"
            ]
          },
          "metadata": {
            "tags": []
          },
          "execution_count": 31
        }
      ]
    },
    {
      "cell_type": "code",
      "metadata": {
        "id": "1NoN4n_xYMxt",
        "colab_type": "code",
        "colab": {
          "base_uri": "https://localhost:8080/",
          "height": 33
        },
        "outputId": "4d5d458d-61f5-4ac3-bd85-b5d405245b77"
      },
      "source": [
        "valid_data.Y.shape #use this as 'Y' for the validation data"
      ],
      "execution_count": 36,
      "outputs": [
        {
          "output_type": "execute_result",
          "data": {
            "text/plain": [
              "(13138, 1)"
            ]
          },
          "metadata": {
            "tags": []
          },
          "execution_count": 36
        }
      ]
    },
    {
      "cell_type": "code",
      "metadata": {
        "id": "jZN7N6uvYYba",
        "colab_type": "code",
        "colab": {
          "base_uri": "https://localhost:8080/",
          "height": 196
        },
        "outputId": "7b6e5ff6-8ed6-4380-e114-c39f7cd46bbc"
      },
      "source": [
        "!wget http://mitra.stanford.edu/kundaje/avanti/rc_data/backup_revcomppaperdata/Gm12878/Max/splits/train.gz"
      ],
      "execution_count": 37,
      "outputs": [
        {
          "output_type": "stream",
          "text": [
            "--2020-08-25 02:12:34--  http://mitra.stanford.edu/kundaje/avanti/rc_data/backup_revcomppaperdata/Gm12878/Max/splits/train.gz\n",
            "Resolving mitra.stanford.edu (mitra.stanford.edu)... 171.67.96.243\n",
            "Connecting to mitra.stanford.edu (mitra.stanford.edu)|171.67.96.243|:80... connected.\n",
            "HTTP request sent, awaiting response... 200 OK\n",
            "Length: 2009348 (1.9M) [application/x-gzip]\n",
            "Saving to: ‘train.gz’\n",
            "\n",
            "train.gz            100%[===================>]   1.92M  2.03MB/s    in 0.9s    \n",
            "\n",
            "2020-08-25 02:12:35 (2.03 MB/s) - ‘train.gz’ saved [2009348/2009348]\n",
            "\n"
          ],
          "name": "stdout"
        }
      ]
    },
    {
      "cell_type": "code",
      "metadata": {
        "id": "46StnnbHY3FX",
        "colab_type": "code",
        "colab": {
          "base_uri": "https://localhost:8080/",
          "height": 180
        },
        "outputId": "7f7c412e-8663-4a3d-a3e4-4bc7ba2cf85e"
      },
      "source": [
        "!zcat train.gz | head"
      ],
      "execution_count": 38,
      "outputs": [
        {
          "output_type": "stream",
          "text": [
            "chr6:117999086-118000086\n",
            "chr3:101573503-101574503\n",
            "chr11:62340861-62341861\n",
            "chrX:9717054-9718054\n",
            "chr14:24906183-24907183\n",
            "chr16:88706732-88707732\n",
            "chr13:99951713-99952713\n",
            "chr16:81861105-81862105\n",
            "chrX:13108035-13109035\n",
            "chr5:55125511-55126511\n"
          ],
          "name": "stdout"
        }
      ]
    },
    {
      "cell_type": "code",
      "metadata": {
        "id": "SfS3n24gZWBL",
        "colab_type": "code",
        "colab": {
          "base_uri": "https://localhost:8080/",
          "height": 196
        },
        "outputId": "4400ad26-bc0f-4563-db26-827f967f850e"
      },
      "source": [
        "!wget http://mitra.stanford.edu/kundaje/avanti/rc_data/backup_revcomppaperdata/Gm12878/Max/labels.gz"
      ],
      "execution_count": 41,
      "outputs": [
        {
          "output_type": "stream",
          "text": [
            "--2020-08-25 02:15:24--  http://mitra.stanford.edu/kundaje/avanti/rc_data/backup_revcomppaperdata/Gm12878/Max/labels.gz\n",
            "Resolving mitra.stanford.edu (mitra.stanford.edu)... 171.67.96.243\n",
            "Connecting to mitra.stanford.edu (mitra.stanford.edu)|171.67.96.243|:80... connected.\n",
            "HTTP request sent, awaiting response... 200 OK\n",
            "Length: 2305922 (2.2M) [application/x-gzip]\n",
            "Saving to: ‘labels.gz’\n",
            "\n",
            "labels.gz           100%[===================>]   2.20M  2.32MB/s    in 0.9s    \n",
            "\n",
            "2020-08-25 02:15:26 (2.32 MB/s) - ‘labels.gz’ saved [2305922/2305922]\n",
            "\n"
          ],
          "name": "stdout"
        }
      ]
    },
    {
      "cell_type": "code",
      "metadata": {
        "id": "koWcJ2x2Zgt5",
        "colab_type": "code",
        "colab": {
          "base_uri": "https://localhost:8080/",
          "height": 180
        },
        "outputId": "88bcd2e8-5115-4685-d76c-26dc3e3e8c99"
      },
      "source": [
        "!zcat labels.gz | head"
      ],
      "execution_count": 42,
      "outputs": [
        {
          "output_type": "stream",
          "text": [
            "id\tlabel\n",
            "chr6:117999086-118000086\t0\n",
            "chr3:101573503-101574503\t0\n",
            "chr11:62340861-62341861\t1\n",
            "chrX:9717054-9718054\t0\n",
            "chr14:24906183-24907183\t0\n",
            "chr1:92324329-92325329\t0\n",
            "chr16:88706732-88707732\t0\n",
            "chr13:99951713-99952713\t0\n",
            "chr1:157933989-157934989\t0\n"
          ],
          "name": "stdout"
        }
      ]
    },
    {
      "cell_type": "code",
      "metadata": {
        "id": "KzfmvqUvZimE",
        "colab_type": "code",
        "colab": {}
      },
      "source": [
        ""
      ],
      "execution_count": null,
      "outputs": []
    }
  ]
}