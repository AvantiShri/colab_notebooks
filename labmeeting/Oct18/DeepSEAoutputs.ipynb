{
  "nbformat": 4,
  "nbformat_minor": 0,
  "metadata": {
    "colab": {
      "name": "DeepSEAoutputs.ipynb",
      "provenance": [],
      "include_colab_link": true
    },
    "kernelspec": {
      "name": "python3",
      "display_name": "Python 3"
    }
  },
  "cells": [
    {
      "cell_type": "markdown",
      "metadata": {
        "id": "view-in-github",
        "colab_type": "text"
      },
      "source": [
        "<a href=\"https://colab.research.google.com/github/AvantiShri/colab_notebooks/blob/master/labmeeting/Oct18/DeepSEAoutputs.ipynb\" target=\"_parent\"><img src=\"https://colab.research.google.com/assets/colab-badge.svg\" alt=\"Open In Colab\"/></a>"
      ]
    },
    {
      "cell_type": "code",
      "metadata": {
        "id": "9taGiej1R7uJ",
        "colab_type": "code",
        "colab": {
          "base_uri": "https://localhost:8080/",
          "height": 204
        },
        "outputId": "d26c1749-6b15-4f73-8953-a817f0aabb1a"
      },
      "source": [
        "!wget https://zenodo.org/record/3476969/files/deepseabeluga_keras_nopermutelayer.h5?download=1 -O deepseabeluga_keras.h5"
      ],
      "execution_count": 33,
      "outputs": [
        {
          "output_type": "stream",
          "text": [
            "--2019-10-18 05:57:32--  https://zenodo.org/record/3476969/files/deepseabeluga_keras_nopermutelayer.h5?download=1\n",
            "Resolving zenodo.org (zenodo.org)... 188.184.65.20\n",
            "Connecting to zenodo.org (zenodo.org)|188.184.65.20|:443... connected.\n",
            "HTTP request sent, awaiting response... 200 OK\n",
            "Length: 598186116 (570M) [application/octet-stream]\n",
            "Saving to: ‘deepseabeluga_keras.h5’\n",
            "\n",
            "deepseabeluga_keras 100%[===================>] 570.47M  26.0MB/s    in 24s     \n",
            "\n",
            "2019-10-18 05:57:57 (23.8 MB/s) - ‘deepseabeluga_keras.h5’ saved [598186116/598186116]\n",
            "\n"
          ],
          "name": "stdout"
        }
      ]
    },
    {
      "cell_type": "code",
      "metadata": {
        "id": "OGcTCqakW32m",
        "colab_type": "code",
        "colab": {
          "base_uri": "https://localhost:8080/",
          "height": 71
        },
        "outputId": "ea7f6842-460f-4806-d286-6db40533f351"
      },
      "source": [
        "import keras\n",
        "model = keras.models.load_model(\"deepseabeluga_keras.h5\")"
      ],
      "execution_count": 34,
      "outputs": [
        {
          "output_type": "stream",
          "text": [
            "/usr/local/lib/python3.6/dist-packages/keras/engine/saving.py:310: UserWarning: No training configuration found in save file: the model was *not* compiled. Compile it manually.\n",
            "  warnings.warn('No training configuration found in save file: '\n"
          ],
          "name": "stderr"
        }
      ]
    },
    {
      "cell_type": "code",
      "metadata": {
        "id": "lm7CICPXXBki",
        "colab_type": "code",
        "colab": {
          "base_uri": "https://localhost:8080/",
          "height": 269
        },
        "outputId": "0ed1c182-558d-4cee-ae8e-e3746f9739e1"
      },
      "source": [
        "import numpy as np\n",
        "preds = np.squeeze(model.predict(np.zeros((1,2000,4))))\n",
        "#preds = np.squeeze(model.predict(np.array([0.3,0.2,0.2,0.3])[None,None,:]*np.ones((1,2000,4))))\n",
        "from matplotlib import pyplot as plt\n",
        "plt.hist(preds)\n",
        "plt.show()"
      ],
      "execution_count": 36,
      "outputs": [
        {
          "output_type": "display_data",
          "data": {
            "image/png": "[encoded data removed]",
            "text/plain": [
              "<Figure size 432x288 with 1 Axes>"
            ]
          },
          "metadata": {
            "tags": []
          }
        }
      ]
    },
    {
      "cell_type": "code",
      "metadata": {
        "id": "LyTDpvQuXRFs",
        "colab_type": "code",
        "colab": {
          "base_uri": "https://localhost:8080/",
          "height": 34
        },
        "outputId": "f48ae842-d86a-4d4e-a90a-eaa84b007dbc"
      },
      "source": [
        "np.argmax(preds)"
      ],
      "execution_count": 37,
      "outputs": [
        {
          "output_type": "execute_result",
          "data": {
            "text/plain": [
              "1118"
            ]
          },
          "metadata": {
            "tags": []
          },
          "execution_count": 37
        }
      ]
    },
    {
      "cell_type": "code",
      "metadata": {
        "id": "xwft2g6YXXAo",
        "colab_type": "code",
        "colab": {}
      },
      "source": [
        ""
      ],
      "execution_count": 0,
      "outputs": []
    }
  ]
}