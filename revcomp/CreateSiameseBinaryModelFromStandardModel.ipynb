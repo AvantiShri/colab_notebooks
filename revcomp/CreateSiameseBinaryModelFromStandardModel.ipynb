{
  "nbformat": 4,
  "nbformat_minor": 0,
  "metadata": {
    "colab": {
      "name": "Untitled11.ipynb",
      "provenance": [],
      "authorship_tag": "ABX9TyOXMdmlfR7ogl6O6xRRXrqn",
      "include_colab_link": true
    },
    "kernelspec": {
      "name": "python3",
      "display_name": "Python 3"
    }
  },
  "cells": [
    {
      "cell_type": "markdown",
      "metadata": {
        "id": "view-in-github",
        "colab_type": "text"
      },
      "source": [
        "<a href=\"https://colab.research.google.com/github/AvantiShri/colab_notebooks/blob/master/revcomp/CreateSiameseBinaryModelFromStandardModel.ipynb\" target=\"_parent\"><img src=\"https://colab.research.google.com/assets/colab-badge.svg\" alt=\"Open In Colab\"/></a>"
      ]
    },
    {
      "cell_type": "code",
      "metadata": {
        "id": "ElyEooS753Lv",
        "colab_type": "code",
        "colab": {}
      },
      "source": [
        "%tensorflow_version 1.x\n",
        "\n",
        "import keras\n",
        "\n",
        "def get_binary_reg_model():\n",
        "    model = keras.models.Sequential()\n",
        "    model.add(keras.layers.Convolution1D(\n",
        "              input_shape=(1000,4), nb_filter=16, filter_length=15))\n",
        "    model.add(keras.layers.normalization.BatchNormalization())\n",
        "    model.add(keras.layers.core.Activation(\"relu\"))\n",
        "    model.add(keras.layers.convolutional.Convolution1D(\n",
        "            nb_filter=16, filter_length=14))\n",
        "    model.add(keras.layers.normalization.BatchNormalization())\n",
        "    model.add(keras.layers.Activation(\"relu\"))\n",
        "    model.add(keras.layers.convolutional.Convolution1D(\n",
        "            nb_filter=16, filter_length=14))\n",
        "    model.add(keras.layers.normalization.BatchNormalization())\n",
        "    model.add(keras.layers.Activation(\"relu\"))\n",
        "    model.add(keras.layers.convolutional.MaxPooling1D(pool_length=40,\n",
        "                                                      strides=40))         \n",
        "    model.add(keras.layers.Flatten())\n",
        "    model.add(keras.layers.core.Dense(output_dim=1, trainable=True,\n",
        "                                    init=\"glorot_uniform\"))\n",
        "    model.add(keras.layers.core.Activation(\"sigmoid\"))\n",
        "    model.compile(optimizer = keras.optimizers.Adam(lr=0.001), \n",
        "                  loss=\"binary_crossentropy\", metrics=[\"accuracy\"])\n",
        "    return model"
      ],
      "execution_count": 5,
      "outputs": []
    },
    {
      "cell_type": "code",
      "metadata": {
        "id": "NgAK2xnQ6RzJ",
        "colab_type": "code",
        "colab": {
          "base_uri": "https://localhost:8080/",
          "height": 797
        },
        "outputId": "19a31d2b-ea8c-40a7-b71c-ac7426864ab7"
      },
      "source": [
        "model = get_binary_reg_model()\n",
        "model.summary()"
      ],
      "execution_count": 6,
      "outputs": [
        {
          "output_type": "stream",
          "text": [
            "/usr/local/lib/python3.6/dist-packages/ipykernel_launcher.py:8: UserWarning: Update your `Conv1D` call to the Keras 2 API: `Conv1D(input_shape=(1000, 4), filters=16, kernel_size=15)`\n",
            "  \n",
            "/usr/local/lib/python3.6/dist-packages/ipykernel_launcher.py:12: UserWarning: Update your `Conv1D` call to the Keras 2 API: `Conv1D(filters=16, kernel_size=14)`\n",
            "  if sys.path[0] == '':\n",
            "/usr/local/lib/python3.6/dist-packages/ipykernel_launcher.py:16: UserWarning: Update your `Conv1D` call to the Keras 2 API: `Conv1D(filters=16, kernel_size=14)`\n",
            "  app.launch_new_instance()\n"
          ],
          "name": "stderr"
        },
        {
          "output_type": "stream",
          "text": [
            "WARNING:tensorflow:From /tensorflow-1.15.2/python3.6/tensorflow_core/python/ops/nn_impl.py:183: where (from tensorflow.python.ops.array_ops) is deprecated and will be removed in a future version.\n",
            "Instructions for updating:\n",
            "Use tf.where in 2.0, which has the same broadcast rule as np.where\n",
            "Model: \"sequential_2\"\n",
            "_________________________________________________________________\n",
            "Layer (type)                 Output Shape              Param #   \n",
            "=================================================================\n",
            "conv1d_4 (Conv1D)            (None, 986, 16)           976       \n",
            "_________________________________________________________________\n",
            "batch_normalization_4 (Batch (None, 986, 16)           64        \n",
            "_________________________________________________________________\n",
            "activation_4 (Activation)    (None, 986, 16)           0         \n",
            "_________________________________________________________________\n",
            "conv1d_5 (Conv1D)            (None, 973, 16)           3600      \n",
            "_________________________________________________________________\n",
            "batch_normalization_5 (Batch (None, 973, 16)           64        \n",
            "_________________________________________________________________\n",
            "activation_5 (Activation)    (None, 973, 16)           0         \n",
            "_________________________________________________________________\n",
            "conv1d_6 (Conv1D)            (None, 960, 16)           3600      \n",
            "_________________________________________________________________\n",
            "batch_normalization_6 (Batch (None, 960, 16)           64        \n",
            "_________________________________________________________________\n",
            "activation_6 (Activation)    (None, 960, 16)           0         \n",
            "_________________________________________________________________\n",
            "max_pooling1d_2 (MaxPooling1 (None, 24, 16)            0         \n",
            "_________________________________________________________________\n",
            "flatten_1 (Flatten)          (None, 384)               0         \n",
            "_________________________________________________________________\n",
            "dense_1 (Dense)              (None, 1)                 385       \n",
            "_________________________________________________________________\n",
            "activation_7 (Activation)    (None, 1)                 0         \n",
            "=================================================================\n",
            "Total params: 8,753\n",
            "Trainable params: 8,657\n",
            "Non-trainable params: 96\n",
            "_________________________________________________________________\n"
          ],
          "name": "stdout"
        },
        {
          "output_type": "stream",
          "text": [
            "/usr/local/lib/python3.6/dist-packages/ipykernel_launcher.py:20: UserWarning: Update your `MaxPooling1D` call to the Keras 2 API: `MaxPooling1D(strides=40, pool_size=40)`\n",
            "/usr/local/lib/python3.6/dist-packages/ipykernel_launcher.py:23: UserWarning: Update your `Dense` call to the Keras 2 API: `Dense(trainable=True, units=1, kernel_initializer=\"glorot_uniform\")`\n"
          ],
          "name": "stderr"
        }
      ]
    },
    {
      "cell_type": "code",
      "metadata": {
        "id": "7mQ_n8C56ZrO",
        "colab_type": "code",
        "colab": {}
      },
      "source": [
        "#Create a sub-model that extracts the logit\n",
        "binary_model_getlogits = keras.models.Model(inputs=model.inputs,\n",
        "                                            outputs=model.layers[-2].output)"
      ],
      "execution_count": 8,
      "outputs": []
    },
    {
      "cell_type": "code",
      "metadata": {
        "id": "B6r0cSGV6was",
        "colab_type": "code",
        "colab": {
          "base_uri": "https://localhost:8080/",
          "height": 606
        },
        "outputId": "45e0c24c-5135-403a-e93f-33aa3ae7c566"
      },
      "source": [
        "binary_model_getlogits.summary()"
      ],
      "execution_count": 9,
      "outputs": [
        {
          "output_type": "stream",
          "text": [
            "Model: \"model_1\"\n",
            "_________________________________________________________________\n",
            "Layer (type)                 Output Shape              Param #   \n",
            "=================================================================\n",
            "conv1d_4_input (InputLayer)  (None, 1000, 4)           0         \n",
            "_________________________________________________________________\n",
            "conv1d_4 (Conv1D)            (None, 986, 16)           976       \n",
            "_________________________________________________________________\n",
            "batch_normalization_4 (Batch (None, 986, 16)           64        \n",
            "_________________________________________________________________\n",
            "activation_4 (Activation)    (None, 986, 16)           0         \n",
            "_________________________________________________________________\n",
            "conv1d_5 (Conv1D)            (None, 973, 16)           3600      \n",
            "_________________________________________________________________\n",
            "batch_normalization_5 (Batch (None, 973, 16)           64        \n",
            "_________________________________________________________________\n",
            "activation_5 (Activation)    (None, 973, 16)           0         \n",
            "_________________________________________________________________\n",
            "conv1d_6 (Conv1D)            (None, 960, 16)           3600      \n",
            "_________________________________________________________________\n",
            "batch_normalization_6 (Batch (None, 960, 16)           64        \n",
            "_________________________________________________________________\n",
            "activation_6 (Activation)    (None, 960, 16)           0         \n",
            "_________________________________________________________________\n",
            "max_pooling1d_2 (MaxPooling1 (None, 24, 16)            0         \n",
            "_________________________________________________________________\n",
            "flatten_1 (Flatten)          (None, 384)               0         \n",
            "_________________________________________________________________\n",
            "dense_1 (Dense)              (None, 1)                 385       \n",
            "=================================================================\n",
            "Total params: 8,753\n",
            "Trainable params: 8,657\n",
            "Non-trainable params: 96\n",
            "_________________________________________________________________\n"
          ],
          "name": "stdout"
        }
      ]
    },
    {
      "cell_type": "code",
      "metadata": {
        "id": "mknfBVWm62tR",
        "colab_type": "code",
        "colab": {}
      },
      "source": [
        "#create the siamese model\n",
        "\n",
        "fwd_sequence_input = keras.layers.Input(shape=(1000,4))\n",
        "rev_sequence_input = keras.layers.Lambda(function=lambda x: x[:,::-1,::-1])(fwd_sequence_input)\n",
        "fwd_logit_output = binary_model_getlogits(fwd_sequence_input)\n",
        "rev_logit_output = binary_model_getlogits(rev_sequence_input)\n",
        "average_logits = keras.layers.Average()([fwd_logit_output, rev_logit_output])\n",
        "sigmoid_out = keras.layers.Activation(\"sigmoid\")(average_logits)\n",
        "\n",
        "siamese_model = keras.models.Model(inputs=[fwd_sequence_input],\n",
        "                                   outputs=[sigmoid_out])"
      ],
      "execution_count": 12,
      "outputs": []
    },
    {
      "cell_type": "code",
      "metadata": {
        "id": "9DXFzX2S7cAQ",
        "colab_type": "code",
        "colab": {
          "base_uri": "https://localhost:8080/",
          "height": 52
        },
        "outputId": "9bcf68fc-2579-4a1c-de96-0c3e6cedc761"
      },
      "source": [
        "#test it out\n",
        "\n",
        "import numpy as np\n",
        "\n",
        "random_sequence = np.random.RandomState(1234).random((10,1000,4))\n",
        "\n",
        "fwd_logits = binary_model_getlogits.predict(random_sequence)\n",
        "rev_logits = binary_model_getlogits.predict(random_sequence[:,::-1,::-1])\n",
        "siamese_fwd_logits = siamese_model.predict(random_sequence)\n",
        "siamese_rev_logits = siamese_model.predict(random_sequence[:,::-1,::-1])"
      ],
      "execution_count": 16,
      "outputs": [
        {
          "output_type": "stream",
          "text": [
            "WARNING:tensorflow:From /tensorflow-1.15.2/python3.6/keras/backend/tensorflow_backend.py:422: The name tf.global_variables is deprecated. Please use tf.compat.v1.global_variables instead.\n",
            "\n"
          ],
          "name": "stdout"
        }
      ]
    },
    {
      "cell_type": "code",
      "metadata": {
        "id": "S8Bi4Y8V_nWQ",
        "colab_type": "code",
        "colab": {
          "base_uri": "https://localhost:8080/",
          "height": 190
        },
        "outputId": "bd184146-92ae-4dd5-e2da-68f5c2e0b6bd"
      },
      "source": [
        "from scipy.special import expit\n",
        "expit(0.5*(fwd_logits + rev_logits)) - siamese_fwd_logits"
      ],
      "execution_count": 26,
      "outputs": [
        {
          "output_type": "execute_result",
          "data": {
            "text/plain": [
              "array([[ 0.0000000e+00],\n",
              "       [-5.9604645e-08],\n",
              "       [ 0.0000000e+00],\n",
              "       [-5.9604645e-08],\n",
              "       [ 0.0000000e+00],\n",
              "       [ 5.9604645e-08],\n",
              "       [ 0.0000000e+00],\n",
              "       [ 0.0000000e+00],\n",
              "       [ 0.0000000e+00],\n",
              "       [ 0.0000000e+00]], dtype=float32)"
            ]
          },
          "metadata": {
            "tags": []
          },
          "execution_count": 26
        }
      ]
    },
    {
      "cell_type": "code",
      "metadata": {
        "id": "JCkRqIN8_0zL",
        "colab_type": "code",
        "colab": {
          "base_uri": "https://localhost:8080/",
          "height": 190
        },
        "outputId": "d6c79225-63dd-46cf-d4e1-d3bc088cc691"
      },
      "source": [
        "siamese_fwd_logits - siamese_rev_logits"
      ],
      "execution_count": 21,
      "outputs": [
        {
          "output_type": "execute_result",
          "data": {
            "text/plain": [
              "array([[0.],\n",
              "       [0.],\n",
              "       [0.],\n",
              "       [0.],\n",
              "       [0.],\n",
              "       [0.],\n",
              "       [0.],\n",
              "       [0.],\n",
              "       [0.],\n",
              "       [0.]], dtype=float32)"
            ]
          },
          "metadata": {
            "tags": []
          },
          "execution_count": 21
        }
      ]
    },
    {
      "cell_type": "code",
      "metadata": {
        "id": "g1iIa7nD_3X8",
        "colab_type": "code",
        "colab": {}
      },
      "source": [
        ""
      ],
      "execution_count": null,
      "outputs": []
    }
  ]
}