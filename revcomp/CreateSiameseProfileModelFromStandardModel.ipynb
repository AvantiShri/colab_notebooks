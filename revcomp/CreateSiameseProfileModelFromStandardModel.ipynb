{
  "nbformat": 4,
  "nbformat_minor": 0,
  "metadata": {
    "colab": {
      "name": "CreateSiameseProfileModelFromStandardModel.ipynb",
      "provenance": [],
      "authorship_tag": "ABX9TyNaLajV5RfEmT65J1oeaqt8",
      "include_colab_link": true
    },
    "kernelspec": {
      "name": "python3",
      "display_name": "Python 3"
    }
  },
  "cells": [
    {
      "cell_type": "markdown",
      "metadata": {
        "id": "view-in-github",
        "colab_type": "text"
      },
      "source": [
        "<a href=\"https://colab.research.google.com/github/AvantiShri/colab_notebooks/blob/master/revcomp/CreateSiameseProfileModelFromStandardModel.ipynb\" target=\"_parent\"><img src=\"https://colab.research.google.com/assets/colab-badge.svg\" alt=\"Open In Colab\"/></a>"
      ]
    },
    {
      "cell_type": "code",
      "metadata": {
        "id": "wFZ5_8NS3c8f",
        "outputId": "d9cf607c-c9c9-44b0-de43-6162b577ed8a",
        "colab": {
          "base_uri": "https://localhost:8080/",
          "height": 34
        }
      },
      "source": [
        "#Upload file, verify that it was uploaded\n",
        "!ls"
      ],
      "execution_count": 1,
      "outputs": [
        {
          "output_type": "stream",
          "text": [
            "sample_data\n"
          ],
          "name": "stdout"
        }
      ]
    },
    {
      "cell_type": "code",
      "metadata": {
        "id": "_laZLioW3zzh",
        "outputId": "f17d4324-751c-44c8-80c1-3b4dac7806dd",
        "colab": {
          "base_uri": "https://localhost:8080/",
          "height": 176
        }
      },
      "source": [
        "#Specify tensorflow version 1, import keras, load model\n",
        "%tensorflow_version 1.x\n",
        "import keras\n",
        "from keras.utils import CustomObjectScope\n",
        "from keras.models import load_model\n",
        "import tensorflow as tf\n",
        "import tensorflow_probability as tfp\n",
        "\n",
        "def multinomial_nll(true_counts, logits):\n",
        "    \"\"\"Compute the multinomial negative log-likelihood\n",
        "    Args:\n",
        "      true_counts: observed count values\n",
        "      logits: predicted logit values\n",
        "    \"\"\"\n",
        "    counts_per_example = tf.reduce_sum(true_counts, axis=-1)\n",
        "    dist = tfp.distributions.Multinomial(total_count=counts_per_example,\n",
        "                                         logits=logits)\n",
        "    return (-tf.reduce_sum(dist.log_prob(true_counts)) / \n",
        "            tf.to_float(tf.shape(true_counts)[0]))\n",
        "\n",
        "#from https://github.com/kundajelab/basepair/blob/cda0875571066343cdf90aed031f7c51714d991a/basepair/losses.py#L87\n",
        "class MultichannelMultinomialNLL(object):\n",
        "    def __init__(self, n):\n",
        "        self.__name__ = \"MultichannelMultinomialNLL\"\n",
        "        self.n = n\n",
        "\n",
        "    def __call__(self, true_counts, logits):\n",
        "        for i in range(self.n):\n",
        "            loss = multinomial_nll(true_counts[..., i], logits[..., i])\n",
        "            if i == 0:\n",
        "                total = loss\n",
        "            else:\n",
        "                total += loss\n",
        "        return total\n",
        "\n",
        "    def get_config(self):\n",
        "        return {\"n\": self.n}\n",
        "\n",
        "with CustomObjectScope({'MultichannelMultinomialNLL': MultichannelMultinomialNLL}):\n",
        "  model = load_model('1535_TrainProfileModelNANOG_reg_loss_add_profile_only.h5')\n"
      ],
      "execution_count": 4,
      "outputs": [
        {
          "output_type": "stream",
          "text": [
            "WARNING:tensorflow:From /tensorflow-1.15.2/python3.6/tensorflow_core/python/ops/resource_variable_ops.py:1630: calling BaseResourceVariable.__init__ (from tensorflow.python.ops.resource_variable_ops) with constraint is deprecated and will be removed in a future version.\n",
            "Instructions for updating:\n",
            "If using Keras pass *_constraint arguments to layers.\n",
            "WARNING:tensorflow:From <ipython-input-4-3f4ac81d38d6>:19: to_float (from tensorflow.python.ops.math_ops) is deprecated and will be removed in a future version.\n",
            "Instructions for updating:\n",
            "Use `tf.cast` instead.\n",
            "WARNING:tensorflow:From /tensorflow-1.15.2/python3.6/keras/backend/tensorflow_backend.py:422: The name tf.global_variables is deprecated. Please use tf.compat.v1.global_variables instead.\n",
            "\n"
          ],
          "name": "stdout"
        }
      ]
    },
    {
      "cell_type": "code",
      "metadata": {
        "id": "7V108eLt6Fzf",
        "outputId": "e004cafb-c9d2-4f53-fe02-9933215bf38d",
        "colab": {
          "base_uri": "https://localhost:8080/",
          "height": 1000
        }
      },
      "source": [
        "model.summary()"
      ],
      "execution_count": 5,
      "outputs": [
        {
          "output_type": "stream",
          "text": [
            "Model: \"model_15\"\n",
            "__________________________________________________________________________________________________\n",
            "Layer (type)                    Output Shape         Param #     Connected to                     \n",
            "==================================================================================================\n",
            "sequence (InputLayer)           (None, 1346, 4)      0                                            \n",
            "__________________________________________________________________________________________________\n",
            "conv1d_113 (Conv1D)             (None, 1326, 64)     5440        sequence[0][0]                   \n",
            "__________________________________________________________________________________________________\n",
            "lambda_85 (Lambda)              (None, 1322, 64)     0           conv1d_113[0][0]                 \n",
            "__________________________________________________________________________________________________\n",
            "conv1d_114 (Conv1D)             (None, 1322, 64)     12352       conv1d_113[0][0]                 \n",
            "__________________________________________________________________________________________________\n",
            "add_85 (Add)                    (None, 1322, 64)     0           lambda_85[0][0]                  \n",
            "                                                                 conv1d_114[0][0]                 \n",
            "__________________________________________________________________________________________________\n",
            "lambda_86 (Lambda)              (None, 1314, 64)     0           add_85[0][0]                     \n",
            "__________________________________________________________________________________________________\n",
            "conv1d_115 (Conv1D)             (None, 1314, 64)     12352       add_85[0][0]                     \n",
            "__________________________________________________________________________________________________\n",
            "add_86 (Add)                    (None, 1314, 64)     0           lambda_86[0][0]                  \n",
            "                                                                 conv1d_115[0][0]                 \n",
            "__________________________________________________________________________________________________\n",
            "lambda_87 (Lambda)              (None, 1298, 64)     0           add_86[0][0]                     \n",
            "__________________________________________________________________________________________________\n",
            "conv1d_116 (Conv1D)             (None, 1298, 64)     12352       add_86[0][0]                     \n",
            "__________________________________________________________________________________________________\n",
            "add_87 (Add)                    (None, 1298, 64)     0           lambda_87[0][0]                  \n",
            "                                                                 conv1d_116[0][0]                 \n",
            "__________________________________________________________________________________________________\n",
            "lambda_88 (Lambda)              (None, 1266, 64)     0           add_87[0][0]                     \n",
            "__________________________________________________________________________________________________\n",
            "conv1d_117 (Conv1D)             (None, 1266, 64)     12352       add_87[0][0]                     \n",
            "__________________________________________________________________________________________________\n",
            "add_88 (Add)                    (None, 1266, 64)     0           lambda_88[0][0]                  \n",
            "                                                                 conv1d_117[0][0]                 \n",
            "__________________________________________________________________________________________________\n",
            "lambda_89 (Lambda)              (None, 1202, 64)     0           add_88[0][0]                     \n",
            "__________________________________________________________________________________________________\n",
            "conv1d_118 (Conv1D)             (None, 1202, 64)     12352       add_88[0][0]                     \n",
            "__________________________________________________________________________________________________\n",
            "add_89 (Add)                    (None, 1202, 64)     0           lambda_89[0][0]                  \n",
            "                                                                 conv1d_118[0][0]                 \n",
            "__________________________________________________________________________________________________\n",
            "lambda_90 (Lambda)              (None, 1074, 64)     0           add_89[0][0]                     \n",
            "__________________________________________________________________________________________________\n",
            "conv1d_119 (Conv1D)             (None, 1074, 64)     12352       add_89[0][0]                     \n",
            "__________________________________________________________________________________________________\n",
            "add_90 (Add)                    (None, 1074, 64)     0           lambda_90[0][0]                  \n",
            "                                                                 conv1d_119[0][0]                 \n",
            "__________________________________________________________________________________________________\n",
            "global_average_pooling1d_15 (Gl (None, 64)           0           add_90[0][0]                     \n",
            "__________________________________________________________________________________________________\n",
            "patchcap.logcount (InputLayer)  (None, 2)            0                                            \n",
            "__________________________________________________________________________________________________\n",
            "conv1d_120 (Conv1D)             (None, 1000, 2)      9602        add_90[0][0]                     \n",
            "__________________________________________________________________________________________________\n",
            "patchcap.profile (InputLayer)   (None, 1000, 2)      0                                            \n",
            "__________________________________________________________________________________________________\n",
            "concatenate_29 (Concatenate)    (None, 66)           0           global_average_pooling1d_15[0][0]\n",
            "                                                                 patchcap.logcount[0][0]          \n",
            "__________________________________________________________________________________________________\n",
            "concatenate_30 (Concatenate)    (None, 1000, 4)      0           conv1d_120[0][0]                 \n",
            "                                                                 patchcap.profile[0][0]           \n",
            "__________________________________________________________________________________________________\n",
            "CHIPNexus.NANOG.logcount (Dense (None, 2)            134         concatenate_29[0][0]             \n",
            "__________________________________________________________________________________________________\n",
            "CHIPNexus.NANOG.profile (Conv1D (None, 1000, 2)      10          concatenate_30[0][0]             \n",
            "==================================================================================================\n",
            "Total params: 89,298\n",
            "Trainable params: 89,298\n",
            "Non-trainable params: 0\n",
            "__________________________________________________________________________________________________\n"
          ],
          "name": "stdout"
        }
      ]
    },
    {
      "cell_type": "code",
      "metadata": {
        "id": "TCSJ6obl79t2",
        "outputId": "5eee1f22-f16a-4a9b-8699-627e794c1bfc",
        "colab": {
          "base_uri": "https://localhost:8080/",
          "height": 502
        }
      },
      "source": [
        "#Display the list of layers\n",
        "model.layers"
      ],
      "execution_count": 6,
      "outputs": [
        {
          "output_type": "execute_result",
          "data": {
            "text/plain": [
              "[<keras.engine.input_layer.InputLayer at 0x7f0f48a9ff28>,\n",
              " <keras.layers.convolutional.Conv1D at 0x7f0f48a9ff60>,\n",
              " <keras.layers.core.Lambda at 0x7f0f48a970b8>,\n",
              " <keras.layers.convolutional.Conv1D at 0x7f0f48a97198>,\n",
              " <keras.layers.merge.Add at 0x7f0f48a97208>,\n",
              " <keras.layers.core.Lambda at 0x7f0f48a974a8>,\n",
              " <keras.layers.convolutional.Conv1D at 0x7f0f48a97588>,\n",
              " <keras.layers.merge.Add at 0x7f0f48a975c0>,\n",
              " <keras.layers.core.Lambda at 0x7f0f48a97748>,\n",
              " <keras.layers.convolutional.Conv1D at 0x7f0f48a977b8>,\n",
              " <keras.layers.merge.Add at 0x7f0f48a977f0>,\n",
              " <keras.layers.core.Lambda at 0x7f0f48a97978>,\n",
              " <keras.layers.convolutional.Conv1D at 0x7f0f48a979e8>,\n",
              " <keras.layers.merge.Add at 0x7f0f48a97a20>,\n",
              " <keras.layers.core.Lambda at 0x7f0f48a97ba8>,\n",
              " <keras.layers.convolutional.Conv1D at 0x7f0f48a97c18>,\n",
              " <keras.layers.merge.Add at 0x7f0f48a97c50>,\n",
              " <keras.layers.core.Lambda at 0x7f0f48a97dd8>,\n",
              " <keras.layers.convolutional.Conv1D at 0x7f0f48a97e48>,\n",
              " <keras.layers.merge.Add at 0x7f0f48a2d048>,\n",
              " <keras.layers.pooling.GlobalAveragePooling1D at 0x7f0f48a2d080>,\n",
              " <keras.engine.input_layer.InputLayer at 0x7f0f48a2d0f0>,\n",
              " <keras.layers.convolutional.Conv1D at 0x7f0f48a2d160>,\n",
              " <keras.engine.input_layer.InputLayer at 0x7f0f48a2d2b0>,\n",
              " <keras.layers.merge.Concatenate at 0x7f0f48a2d358>,\n",
              " <keras.layers.merge.Concatenate at 0x7f0f48a2d400>,\n",
              " <keras.layers.core.Dense at 0x7f0f48a2d518>,\n",
              " <keras.layers.convolutional.Conv1D at 0x7f0f48a2d5c0>]"
            ]
          },
          "metadata": {
            "tags": []
          },
          "execution_count": 6
        }
      ]
    },
    {
      "cell_type": "code",
      "metadata": {
        "id": "QhXkKY0T_pyS",
        "outputId": "bb7a9986-c42b-4778-f756-d0681d0d5892",
        "colab": {
          "base_uri": "https://localhost:8080/",
          "height": 69
        }
      },
      "source": [
        "#Display inputs\n",
        "model.inputs"
      ],
      "execution_count": 7,
      "outputs": [
        {
          "output_type": "execute_result",
          "data": {
            "text/plain": [
              "[<tf.Tensor 'sequence:0' shape=(?, 1346, 4) dtype=float32>,\n",
              " <tf.Tensor 'patchcap.logcount:0' shape=(?, 2) dtype=float32>,\n",
              " <tf.Tensor 'patchcap.profile:0' shape=(?, 1000, 2) dtype=float32>]"
            ]
          },
          "metadata": {
            "tags": []
          },
          "execution_count": 7
        }
      ]
    },
    {
      "cell_type": "code",
      "metadata": {
        "id": "YXHdV4RnAfGt",
        "outputId": "43382349-d77b-4fe4-b364-93e45b6c280d",
        "colab": {
          "base_uri": "https://localhost:8080/",
          "height": 52
        }
      },
      "source": [
        "model.outputs"
      ],
      "execution_count": 8,
      "outputs": [
        {
          "output_type": "execute_result",
          "data": {
            "text/plain": [
              "[<tf.Tensor 'CHIPNexus.NANOG.logcount/BiasAdd:0' shape=(?, 2) dtype=float32>,\n",
              " <tf.Tensor 'CHIPNexus.NANOG.profile/add:0' shape=(?, 1000, 2) dtype=float32>]"
            ]
          },
          "metadata": {
            "tags": []
          },
          "execution_count": 8
        }
      ]
    },
    {
      "cell_type": "code",
      "metadata": {
        "id": "LjDDiz4K7j-F"
      },
      "source": [
        "#Let's create the model\n",
        "#define the inputs\n",
        "fwd_sequence_input = keras.models.Input(shape=(1346,4))\n",
        "fwd_patchcap_logcount = keras.models.Input(shape=(2,))\n",
        "fwd_patchcap_profile = keras.models.Input(shape=(1000,2))\n",
        "\n",
        "#revcomp sequence input\n",
        "rev_sequence_input = keras.layers.Lambda(lambda x: x[:,::-1,::-1])(fwd_sequence_input)\n",
        "rev_patchcap_logcount = keras.layers.Lambda(lambda x: x[:,::-1])(fwd_patchcap_logcount)\n",
        "#note that last axis is NOT fwd vs reverse strand, but different smoothing levels\n",
        "# that's why we flip only the middle axis\n",
        "rev_patchcap_profile = keras.layers.Lambda(lambda x: x[:,::-1,:])(fwd_patchcap_profile)\n",
        "\n",
        "#Run the model on the original fwd inputs\n",
        "fwd_logcount, fwd_profile = model(\n",
        "    [fwd_sequence_input, fwd_patchcap_logcount, fwd_patchcap_profile])\n",
        "#Run the original model on the reverse inputs\n",
        "rev_logcount, rev_profile = model(\n",
        "    [rev_sequence_input, rev_patchcap_logcount, rev_patchcap_profile])\n",
        "\n",
        "#Reverse complement rev_logcount and rev_profile to be compatible with fwd\n",
        "revcompd_rev_logcount = keras.layers.Lambda(lambda x: x[:,::-1])(rev_logcount)\n",
        "revcompd_rev_profile = keras.layers.Lambda(lambda x: x[:,::-1,::-1])(rev_profile)\n",
        "\n",
        "#Average the two\n",
        "avg_logcount = keras.layers.Average()([fwd_logcount, revcompd_rev_logcount])\n",
        "avg_profile = keras.layers.Average()([fwd_profile, revcompd_rev_profile])\n",
        "\n",
        "#Create a model that goes from the inputs to the averaged output\n",
        "siamese_model = keras.models.Model(inputs=[fwd_sequence_input,\n",
        "                                           fwd_patchcap_logcount,\n",
        "                                           fwd_patchcap_profile],\n",
        "                                   outputs=[avg_logcount, avg_profile])"
      ],
      "execution_count": 21,
      "outputs": []
    },
    {
      "cell_type": "code",
      "metadata": {
        "id": "PxkTiL0Q7ZPb"
      },
      "source": [
        "import numpy as np\n",
        "\n",
        "#Let's test it out. \n",
        "rng = np.random.RandomState(1234)\n",
        "random_sequences = rng.random((10,1346,4))\n",
        "random_logcount = rng.random((10,2))\n",
        "random_profile = rng.random((10,1000,2))\n",
        "\n",
        "fwd_logcount, fwd_profile = model.predict([random_sequences,\n",
        "                                   random_logcount,\n",
        "                                   random_profile])\n",
        "rev_logcount, rev_profile = model.predict([random_sequences[:,::-1,::-1],\n",
        "                                   random_logcount[:,::-1],\n",
        "                                   random_profile[:,::-1]])\n",
        "fwd_siamese_logcount, fwd_siamese_profile = siamese_model.predict(\n",
        "                                  [random_sequences,\n",
        "                                   random_logcount,\n",
        "                                   random_profile])\n",
        "rev_siamese_logcount, rev_siamese_profile = siamese_model.predict(\n",
        "                                  [random_sequences[:,::-1,::-1],\n",
        "                                   random_logcount[:,::-1],\n",
        "                                   random_profile[:,::-1]])"
      ],
      "execution_count": 22,
      "outputs": []
    },
    {
      "cell_type": "code",
      "metadata": {
        "id": "rIjO2k0TFoTn",
        "outputId": "e6e27b39-b6b9-4fd5-818a-cd4653deaf62",
        "colab": {
          "base_uri": "https://localhost:8080/",
          "height": 190
        }
      },
      "source": [
        "rev_siamese_logcount[:,::-1] - 0.5*(fwd_logcount + rev_logcount[:,::-1])"
      ],
      "execution_count": 23,
      "outputs": [
        {
          "output_type": "execute_result",
          "data": {
            "text/plain": [
              "array([[0., 0.],\n",
              "       [0., 0.],\n",
              "       [0., 0.],\n",
              "       [0., 0.],\n",
              "       [0., 0.],\n",
              "       [0., 0.],\n",
              "       [0., 0.],\n",
              "       [0., 0.],\n",
              "       [0., 0.],\n",
              "       [0., 0.]], dtype=float32)"
            ]
          },
          "metadata": {
            "tags": []
          },
          "execution_count": 23
        }
      ]
    },
    {
      "cell_type": "code",
      "metadata": {
        "id": "9Qp0TKXIJoHz",
        "outputId": "fed03acc-f68e-48a2-af3e-3041f829771f",
        "colab": {
          "base_uri": "https://localhost:8080/",
          "height": 190
        }
      },
      "source": [
        "fwd_siamese_logcount - rev_siamese_logcount[:,::-1]"
      ],
      "execution_count": 24,
      "outputs": [
        {
          "output_type": "execute_result",
          "data": {
            "text/plain": [
              "array([[0., 0.],\n",
              "       [0., 0.],\n",
              "       [0., 0.],\n",
              "       [0., 0.],\n",
              "       [0., 0.],\n",
              "       [0., 0.],\n",
              "       [0., 0.],\n",
              "       [0., 0.],\n",
              "       [0., 0.],\n",
              "       [0., 0.]], dtype=float32)"
            ]
          },
          "metadata": {
            "tags": []
          },
          "execution_count": 24
        }
      ]
    },
    {
      "cell_type": "code",
      "metadata": {
        "id": "rri2mFhBFspo",
        "outputId": "88bc0dc1-3092-4c9b-cbe2-0ebffd14b6c7",
        "colab": {
          "base_uri": "https://localhost:8080/",
          "height": 866
        }
      },
      "source": [
        "fwd_siamese_profile - 0.5*(rev_profile[:,::-1,::-1] + fwd_profile)"
      ],
      "execution_count": 25,
      "outputs": [
        {
          "output_type": "execute_result",
          "data": {
            "text/plain": [
              "array([[[0., 0.],\n",
              "        [0., 0.],\n",
              "        [0., 0.],\n",
              "        ...,\n",
              "        [0., 0.],\n",
              "        [0., 0.],\n",
              "        [0., 0.]],\n",
              "\n",
              "       [[0., 0.],\n",
              "        [0., 0.],\n",
              "        [0., 0.],\n",
              "        ...,\n",
              "        [0., 0.],\n",
              "        [0., 0.],\n",
              "        [0., 0.]],\n",
              "\n",
              "       [[0., 0.],\n",
              "        [0., 0.],\n",
              "        [0., 0.],\n",
              "        ...,\n",
              "        [0., 0.],\n",
              "        [0., 0.],\n",
              "        [0., 0.]],\n",
              "\n",
              "       ...,\n",
              "\n",
              "       [[0., 0.],\n",
              "        [0., 0.],\n",
              "        [0., 0.],\n",
              "        ...,\n",
              "        [0., 0.],\n",
              "        [0., 0.],\n",
              "        [0., 0.]],\n",
              "\n",
              "       [[0., 0.],\n",
              "        [0., 0.],\n",
              "        [0., 0.],\n",
              "        ...,\n",
              "        [0., 0.],\n",
              "        [0., 0.],\n",
              "        [0., 0.]],\n",
              "\n",
              "       [[0., 0.],\n",
              "        [0., 0.],\n",
              "        [0., 0.],\n",
              "        ...,\n",
              "        [0., 0.],\n",
              "        [0., 0.],\n",
              "        [0., 0.]]], dtype=float32)"
            ]
          },
          "metadata": {
            "tags": []
          },
          "execution_count": 25
        }
      ]
    },
    {
      "cell_type": "code",
      "metadata": {
        "id": "ugeI_FjOIqT0",
        "outputId": "30587f1a-2947-4c12-ad40-633ceaec257d",
        "colab": {
          "base_uri": "https://localhost:8080/",
          "height": 866
        }
      },
      "source": [
        "fwd_siamese_profile - rev_siamese_profile[:,::-1,::-1]"
      ],
      "execution_count": 26,
      "outputs": [
        {
          "output_type": "execute_result",
          "data": {
            "text/plain": [
              "array([[[0., 0.],\n",
              "        [0., 0.],\n",
              "        [0., 0.],\n",
              "        ...,\n",
              "        [0., 0.],\n",
              "        [0., 0.],\n",
              "        [0., 0.]],\n",
              "\n",
              "       [[0., 0.],\n",
              "        [0., 0.],\n",
              "        [0., 0.],\n",
              "        ...,\n",
              "        [0., 0.],\n",
              "        [0., 0.],\n",
              "        [0., 0.]],\n",
              "\n",
              "       [[0., 0.],\n",
              "        [0., 0.],\n",
              "        [0., 0.],\n",
              "        ...,\n",
              "        [0., 0.],\n",
              "        [0., 0.],\n",
              "        [0., 0.]],\n",
              "\n",
              "       ...,\n",
              "\n",
              "       [[0., 0.],\n",
              "        [0., 0.],\n",
              "        [0., 0.],\n",
              "        ...,\n",
              "        [0., 0.],\n",
              "        [0., 0.],\n",
              "        [0., 0.]],\n",
              "\n",
              "       [[0., 0.],\n",
              "        [0., 0.],\n",
              "        [0., 0.],\n",
              "        ...,\n",
              "        [0., 0.],\n",
              "        [0., 0.],\n",
              "        [0., 0.]],\n",
              "\n",
              "       [[0., 0.],\n",
              "        [0., 0.],\n",
              "        [0., 0.],\n",
              "        ...,\n",
              "        [0., 0.],\n",
              "        [0., 0.],\n",
              "        [0., 0.]]], dtype=float32)"
            ]
          },
          "metadata": {
            "tags": []
          },
          "execution_count": 26
        }
      ]
    },
    {
      "cell_type": "code",
      "metadata": {
        "id": "5O7hPmTgHh1V"
      },
      "source": [
        ""
      ],
      "execution_count": null,
      "outputs": []
    }
  ]
}