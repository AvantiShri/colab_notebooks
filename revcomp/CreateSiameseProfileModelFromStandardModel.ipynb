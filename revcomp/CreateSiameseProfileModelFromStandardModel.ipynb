{
  "nbformat": 4,
  "nbformat_minor": 0,
  "metadata": {
    "colab": {
      "name": "CreateSiameseProfileModelFromStandardModel.ipynb",
      "provenance": [],
      "authorship_tag": "ABX9TyP9sPGGmUOSaaJ9lBUyZKZG",
      "include_colab_link": true
    },
    "kernelspec": {
      "name": "python3",
      "display_name": "Python 3"
    }
  },
  "cells": [
    {
      "cell_type": "markdown",
      "metadata": {
        "id": "view-in-github",
        "colab_type": "text"
      },
      "source": [
        "<a href=\"https://colab.research.google.com/github/AvantiShri/colab_notebooks/blob/master/revcomp/CreateSiameseProfileModelFromStandardModel.ipynb\" target=\"_parent\"><img src=\"https://colab.research.google.com/assets/colab-badge.svg\" alt=\"Open In Colab\"/></a>"
      ]
    },
    {
      "cell_type": "code",
      "metadata": {
        "id": "wFZ5_8NS3c8f",
        "colab_type": "code",
        "colab": {
          "base_uri": "https://localhost:8080/",
          "height": 34
        },
        "outputId": "f7df3513-7532-46fa-ffb6-ff277f88a75e"
      },
      "source": [
        "#Upload file, verify that it was uploaded\n",
        "!ls"
      ],
      "execution_count": 1,
      "outputs": [
        {
          "output_type": "stream",
          "text": [
            "1535_TrainProfileModelNANOG_reg_loss_add_profile_only.h5  sample_data\n"
          ],
          "name": "stdout"
        }
      ]
    },
    {
      "cell_type": "code",
      "metadata": {
        "id": "_laZLioW3zzh",
        "colab_type": "code",
        "colab": {
          "base_uri": "https://localhost:8080/",
          "height": 104
        },
        "outputId": "ae7ae944-164e-4342-9fc5-5ac627d9b2f5"
      },
      "source": [
        "#Specify tensorflow version 1, import keras, load model\n",
        "%tensorflow_version 1.x\n",
        "import keras\n",
        "from keras.utils import CustomObjectScope\n",
        "from keras.models import load_model\n",
        "import tensorflow as tf\n",
        "import tensorflow_probability as tfp\n",
        "\n",
        "def multinomial_nll(true_counts, logits):\n",
        "    \"\"\"Compute the multinomial negative log-likelihood\n",
        "    Args:\n",
        "      true_counts: observed count values\n",
        "      logits: predicted logit values\n",
        "    \"\"\"\n",
        "    counts_per_example = tf.reduce_sum(true_counts, axis=-1)\n",
        "    dist = tfp.distributions.Multinomial(total_count=counts_per_example,\n",
        "                                         logits=logits)\n",
        "    return (-tf.reduce_sum(dist.log_prob(true_counts)) / \n",
        "            tf.to_float(tf.shape(true_counts)[0]))\n",
        "\n",
        "#from https://github.com/kundajelab/basepair/blob/cda0875571066343cdf90aed031f7c51714d991a/basepair/losses.py#L87\n",
        "class MultichannelMultinomialNLL(object):\n",
        "    def __init__(self, n):\n",
        "        self.__name__ = \"MultichannelMultinomialNLL\"\n",
        "        self.n = n\n",
        "\n",
        "    def __call__(self, true_counts, logits):\n",
        "        for i in range(self.n):\n",
        "            loss = multinomial_nll(true_counts[..., i], logits[..., i])\n",
        "            if i == 0:\n",
        "                total = loss\n",
        "            else:\n",
        "                total += loss\n",
        "        return total\n",
        "\n",
        "    def get_config(self):\n",
        "        return {\"n\": self.n}\n",
        "\n",
        "with CustomObjectScope({'MultichannelMultinomialNLL': MultichannelMultinomialNLL}):\n",
        "  model = load_model('1535_TrainProfileModelNANOG_reg_loss_add_profile_only.h5')\n"
      ],
      "execution_count": 4,
      "outputs": [
        {
          "output_type": "stream",
          "text": [
            "WARNING:tensorflow:From <ipython-input-4-3f4ac81d38d6>:19: to_float (from tensorflow.python.ops.math_ops) is deprecated and will be removed in a future version.\n",
            "Instructions for updating:\n",
            "Use `tf.cast` instead.\n",
            "WARNING:tensorflow:From /tensorflow-1.15.2/python3.6/keras/backend/tensorflow_backend.py:422: The name tf.global_variables is deprecated. Please use tf.compat.v1.global_variables instead.\n",
            "\n"
          ],
          "name": "stdout"
        }
      ]
    },
    {
      "cell_type": "code",
      "metadata": {
        "id": "7V108eLt6Fzf",
        "colab_type": "code",
        "colab": {
          "base_uri": "https://localhost:8080/",
          "height": 1000
        },
        "outputId": "cbdcf81d-ab90-4a44-8dc7-c13208bf70ec"
      },
      "source": [
        "model.summary()"
      ],
      "execution_count": 5,
      "outputs": [
        {
          "output_type": "stream",
          "text": [
            "Model: \"model_15\"\n",
            "__________________________________________________________________________________________________\n",
            "Layer (type)                    Output Shape         Param #     Connected to                     \n",
            "==================================================================================================\n",
            "sequence (InputLayer)           (None, 1346, 4)      0                                            \n",
            "__________________________________________________________________________________________________\n",
            "conv1d_113 (Conv1D)             (None, 1326, 64)     5440        sequence[0][0]                   \n",
            "__________________________________________________________________________________________________\n",
            "lambda_85 (Lambda)              (None, 1322, 64)     0           conv1d_113[0][0]                 \n",
            "__________________________________________________________________________________________________\n",
            "conv1d_114 (Conv1D)             (None, 1322, 64)     12352       conv1d_113[0][0]                 \n",
            "__________________________________________________________________________________________________\n",
            "add_85 (Add)                    (None, 1322, 64)     0           lambda_85[0][0]                  \n",
            "                                                                 conv1d_114[0][0]                 \n",
            "__________________________________________________________________________________________________\n",
            "lambda_86 (Lambda)              (None, 1314, 64)     0           add_85[0][0]                     \n",
            "__________________________________________________________________________________________________\n",
            "conv1d_115 (Conv1D)             (None, 1314, 64)     12352       add_85[0][0]                     \n",
            "__________________________________________________________________________________________________\n",
            "add_86 (Add)                    (None, 1314, 64)     0           lambda_86[0][0]                  \n",
            "                                                                 conv1d_115[0][0]                 \n",
            "__________________________________________________________________________________________________\n",
            "lambda_87 (Lambda)              (None, 1298, 64)     0           add_86[0][0]                     \n",
            "__________________________________________________________________________________________________\n",
            "conv1d_116 (Conv1D)             (None, 1298, 64)     12352       add_86[0][0]                     \n",
            "__________________________________________________________________________________________________\n",
            "add_87 (Add)                    (None, 1298, 64)     0           lambda_87[0][0]                  \n",
            "                                                                 conv1d_116[0][0]                 \n",
            "__________________________________________________________________________________________________\n",
            "lambda_88 (Lambda)              (None, 1266, 64)     0           add_87[0][0]                     \n",
            "__________________________________________________________________________________________________\n",
            "conv1d_117 (Conv1D)             (None, 1266, 64)     12352       add_87[0][0]                     \n",
            "__________________________________________________________________________________________________\n",
            "add_88 (Add)                    (None, 1266, 64)     0           lambda_88[0][0]                  \n",
            "                                                                 conv1d_117[0][0]                 \n",
            "__________________________________________________________________________________________________\n",
            "lambda_89 (Lambda)              (None, 1202, 64)     0           add_88[0][0]                     \n",
            "__________________________________________________________________________________________________\n",
            "conv1d_118 (Conv1D)             (None, 1202, 64)     12352       add_88[0][0]                     \n",
            "__________________________________________________________________________________________________\n",
            "add_89 (Add)                    (None, 1202, 64)     0           lambda_89[0][0]                  \n",
            "                                                                 conv1d_118[0][0]                 \n",
            "__________________________________________________________________________________________________\n",
            "lambda_90 (Lambda)              (None, 1074, 64)     0           add_89[0][0]                     \n",
            "__________________________________________________________________________________________________\n",
            "conv1d_119 (Conv1D)             (None, 1074, 64)     12352       add_89[0][0]                     \n",
            "__________________________________________________________________________________________________\n",
            "add_90 (Add)                    (None, 1074, 64)     0           lambda_90[0][0]                  \n",
            "                                                                 conv1d_119[0][0]                 \n",
            "__________________________________________________________________________________________________\n",
            "global_average_pooling1d_15 (Gl (None, 64)           0           add_90[0][0]                     \n",
            "__________________________________________________________________________________________________\n",
            "patchcap.logcount (InputLayer)  (None, 2)            0                                            \n",
            "__________________________________________________________________________________________________\n",
            "conv1d_120 (Conv1D)             (None, 1000, 2)      9602        add_90[0][0]                     \n",
            "__________________________________________________________________________________________________\n",
            "patchcap.profile (InputLayer)   (None, 1000, 2)      0                                            \n",
            "__________________________________________________________________________________________________\n",
            "concatenate_29 (Concatenate)    (None, 66)           0           global_average_pooling1d_15[0][0]\n",
            "                                                                 patchcap.logcount[0][0]          \n",
            "__________________________________________________________________________________________________\n",
            "concatenate_30 (Concatenate)    (None, 1000, 4)      0           conv1d_120[0][0]                 \n",
            "                                                                 patchcap.profile[0][0]           \n",
            "__________________________________________________________________________________________________\n",
            "CHIPNexus.NANOG.logcount (Dense (None, 2)            134         concatenate_29[0][0]             \n",
            "__________________________________________________________________________________________________\n",
            "CHIPNexus.NANOG.profile (Conv1D (None, 1000, 2)      10          concatenate_30[0][0]             \n",
            "==================================================================================================\n",
            "Total params: 89,298\n",
            "Trainable params: 89,298\n",
            "Non-trainable params: 0\n",
            "__________________________________________________________________________________________________\n"
          ],
          "name": "stdout"
        }
      ]
    },
    {
      "cell_type": "code",
      "metadata": {
        "id": "TCSJ6obl79t2",
        "colab_type": "code",
        "colab": {
          "base_uri": "https://localhost:8080/",
          "height": 502
        },
        "outputId": "647ab510-628a-4651-c8ef-c65be80e7ab7"
      },
      "source": [
        "#Display the list of layers\n",
        "model.layers"
      ],
      "execution_count": 15,
      "outputs": [
        {
          "output_type": "execute_result",
          "data": {
            "text/plain": [
              "[<keras.engine.input_layer.InputLayer at 0x7f0afa95c048>,\n",
              " <keras.layers.convolutional.Conv1D at 0x7f0afa95c0b8>,\n",
              " <keras.layers.core.Lambda at 0x7f0afa95c128>,\n",
              " <keras.layers.convolutional.Conv1D at 0x7f0afa95c2b0>,\n",
              " <keras.layers.merge.Add at 0x7f0afa95c320>,\n",
              " <keras.layers.core.Lambda at 0x7f0afa95c588>,\n",
              " <keras.layers.convolutional.Conv1D at 0x7f0afa95c5f8>,\n",
              " <keras.layers.merge.Add at 0x7f0afa95c630>,\n",
              " <keras.layers.core.Lambda at 0x7f0afa95c7b8>,\n",
              " <keras.layers.convolutional.Conv1D at 0x7f0afa95c898>,\n",
              " <keras.layers.merge.Add at 0x7f0afa95c8d0>,\n",
              " <keras.layers.core.Lambda at 0x7f0afa95cb38>,\n",
              " <keras.layers.convolutional.Conv1D at 0x7f0afa95cc18>,\n",
              " <keras.layers.merge.Add at 0x7f0afa95cc50>,\n",
              " <keras.layers.core.Lambda at 0x7f0afa95ceb8>,\n",
              " <keras.layers.convolutional.Conv1D at 0x7f0afa95cf98>,\n",
              " <keras.layers.merge.Add at 0x7f0afa923278>,\n",
              " <keras.layers.core.Lambda at 0x7f0afa9232b0>,\n",
              " <keras.layers.convolutional.Conv1D at 0x7f0afa923358>,\n",
              " <keras.layers.merge.Add at 0x7f0afa923390>,\n",
              " <keras.layers.pooling.GlobalAveragePooling1D at 0x7f0afa9235f8>,\n",
              " <keras.engine.input_layer.InputLayer at 0x7f0afa923630>,\n",
              " <keras.layers.convolutional.Conv1D at 0x7f0afa9236a0>,\n",
              " <keras.engine.input_layer.InputLayer at 0x7f0afa923710>,\n",
              " <keras.layers.merge.Concatenate at 0x7f0afa923908>,\n",
              " <keras.layers.merge.Concatenate at 0x7f0afa923a90>,\n",
              " <keras.layers.core.Dense at 0x7f0afa923ac8>,\n",
              " <keras.layers.convolutional.Conv1D at 0x7f0afa923b70>]"
            ]
          },
          "metadata": {
            "tags": []
          },
          "execution_count": 15
        }
      ]
    },
    {
      "cell_type": "code",
      "metadata": {
        "id": "QhXkKY0T_pyS",
        "colab_type": "code",
        "colab": {
          "base_uri": "https://localhost:8080/",
          "height": 69
        },
        "outputId": "a22c0cdb-76fa-4661-e3f0-97955d5760ce"
      },
      "source": [
        "#Display inputs\n",
        "model.inputs"
      ],
      "execution_count": 18,
      "outputs": [
        {
          "output_type": "execute_result",
          "data": {
            "text/plain": [
              "[<tf.Tensor 'sequence_2:0' shape=(?, 1346, 4) dtype=float32>,\n",
              " <tf.Tensor 'patchcap.logcount_2:0' shape=(?, 2) dtype=float32>,\n",
              " <tf.Tensor 'patchcap.profile_2:0' shape=(?, 1000, 2) dtype=float32>]"
            ]
          },
          "metadata": {
            "tags": []
          },
          "execution_count": 18
        }
      ]
    },
    {
      "cell_type": "code",
      "metadata": {
        "id": "YXHdV4RnAfGt",
        "colab_type": "code",
        "colab": {
          "base_uri": "https://localhost:8080/",
          "height": 52
        },
        "outputId": "5468eceb-c66d-41df-b9ec-21927702dc3c"
      },
      "source": [
        "model.outputs"
      ],
      "execution_count": 19,
      "outputs": [
        {
          "output_type": "execute_result",
          "data": {
            "text/plain": [
              "[<tf.Tensor 'CHIPNexus.NANOG.logcount_2/BiasAdd:0' shape=(?, 2) dtype=float32>,\n",
              " <tf.Tensor 'CHIPNexus.NANOG.profile_2/add:0' shape=(?, 1000, 2) dtype=float32>]"
            ]
          },
          "metadata": {
            "tags": []
          },
          "execution_count": 19
        }
      ]
    },
    {
      "cell_type": "code",
      "metadata": {
        "id": "LjDDiz4K7j-F",
        "colab_type": "code",
        "colab": {}
      },
      "source": [
        "#Let's create the model\n",
        "#define the inputs\n",
        "fwd_sequence_input = keras.models.Input(shape=(1346,4))\n",
        "fwd_patchcap_logcount = keras.models.Input(shape=(2,))\n",
        "fwd_patchcap_profile = keras.models.Input(shape=(1000,2))\n",
        "\n",
        "#revcomp sequence input\n",
        "rev_sequence_input = keras.layers.Lambda(lambda x: x[:,::-1,::-1])(fwd_sequence_input)\n",
        "rev_patchcap_logcount = keras.layers.Lambda(lambda x: x[:,::-1])(fwd_patchcap_logcount)\n",
        "rev_patchcap_profile = keras.layers.Lambda(lambda x: x[:,::-1,::-1])(fwd_patchcap_profile)\n",
        "\n",
        "#Run the model on the original fwd inputs\n",
        "fwd_logcount, fwd_profile = model(\n",
        "    [fwd_sequence_input, fwd_patchcap_logcount, fwd_patchcap_profile])\n",
        "#Run the original model on the reverse inputs\n",
        "rev_logcount, rev_profile = model(\n",
        "    [rev_sequence_input, rev_patchcap_logcount, rev_patchcap_profile])\n",
        "\n",
        "#Reverse complement rev_logcount and rev_profile to be compatible with fwd\n",
        "revcompd_rev_logcount = keras.layers.Lambda(lambda x: x[:,::-1])(rev_logcount)\n",
        "revcompd_rev_profile = keras.layers.Lambda(lambda x: x[:,::-1,::-1])(rev_profile)\n",
        "\n",
        "#Average the two\n",
        "avg_logcount = keras.layers.Average()([fwd_logcount, revcompd_rev_logcount])\n",
        "avg_profile = keras.layers.Average()([fwd_profile, revcompd_rev_profile])\n",
        "\n",
        "#Create a model that goes from the inputs to the averaged output\n",
        "siamese_model = keras.models.Model(inputs=[fwd_sequence_input,\n",
        "                                           fwd_patchcap_logcount,\n",
        "                                           fwd_patchcap_profile],\n",
        "                                   outputs=[avg_logcount, avg_profile])"
      ],
      "execution_count": 42,
      "outputs": []
    },
    {
      "cell_type": "code",
      "metadata": {
        "id": "PxkTiL0Q7ZPb",
        "colab_type": "code",
        "colab": {}
      },
      "source": [
        "import numpy as np\n",
        "\n",
        "#Let's test it out. \n",
        "rng = np.random.RandomState(1234)\n",
        "random_sequences = rng.random((10,1346,4))\n",
        "random_logcount = rng.random((10,2))\n",
        "random_profile = rng.random((10,1000,2))\n",
        "\n",
        "fwd_logcount, fwd_profile = model.predict([random_sequences,\n",
        "                                   random_logcount,\n",
        "                                   random_profile])\n",
        "rev_logcount, rev_profile = model.predict([random_sequences[:,::-1,::-1],\n",
        "                                   random_logcount[:,::-1],\n",
        "                                   random_profile[:,::-1,::-1]])\n",
        "fwd_siamese_logcount, fwd_siamese_profile = siamese_model.predict(\n",
        "                                  [random_sequences,\n",
        "                                   random_logcount,\n",
        "                                   random_profile])\n",
        "rev_siamese_logcount, rev_siamese_profile = siamese_model.predict(\n",
        "                                  [random_sequences[:,::-1,::-1],\n",
        "                                   random_logcount[:,::-1],\n",
        "                                   random_profile[:,::-1,::-1]])"
      ],
      "execution_count": 43,
      "outputs": []
    },
    {
      "cell_type": "code",
      "metadata": {
        "id": "rIjO2k0TFoTn",
        "colab_type": "code",
        "colab": {
          "base_uri": "https://localhost:8080/",
          "height": 190
        },
        "outputId": "18b40311-0df5-4245-f48c-8f2aed7ab263"
      },
      "source": [
        "rev_siamese_logcount[:,::-1] - 0.5*(fwd_logcount + rev_logcount[:,::-1])"
      ],
      "execution_count": 55,
      "outputs": [
        {
          "output_type": "execute_result",
          "data": {
            "text/plain": [
              "array([[0., 0.],\n",
              "       [0., 0.],\n",
              "       [0., 0.],\n",
              "       [0., 0.],\n",
              "       [0., 0.],\n",
              "       [0., 0.],\n",
              "       [0., 0.],\n",
              "       [0., 0.],\n",
              "       [0., 0.],\n",
              "       [0., 0.]], dtype=float32)"
            ]
          },
          "metadata": {
            "tags": []
          },
          "execution_count": 55
        }
      ]
    },
    {
      "cell_type": "code",
      "metadata": {
        "id": "9Qp0TKXIJoHz",
        "colab_type": "code",
        "colab": {
          "base_uri": "https://localhost:8080/",
          "height": 190
        },
        "outputId": "b7b559c2-238d-40fd-ba60-58c616747da5"
      },
      "source": [
        "fwd_siamese_logcount - rev_siamese_logcount[:,::-1]"
      ],
      "execution_count": 57,
      "outputs": [
        {
          "output_type": "execute_result",
          "data": {
            "text/plain": [
              "array([[0., 0.],\n",
              "       [0., 0.],\n",
              "       [0., 0.],\n",
              "       [0., 0.],\n",
              "       [0., 0.],\n",
              "       [0., 0.],\n",
              "       [0., 0.],\n",
              "       [0., 0.],\n",
              "       [0., 0.],\n",
              "       [0., 0.]], dtype=float32)"
            ]
          },
          "metadata": {
            "tags": []
          },
          "execution_count": 57
        }
      ]
    },
    {
      "cell_type": "code",
      "metadata": {
        "id": "rri2mFhBFspo",
        "colab_type": "code",
        "colab": {
          "base_uri": "https://localhost:8080/",
          "height": 866
        },
        "outputId": "bf4fec93-7168-4651-8eba-18b17b81f959"
      },
      "source": [
        "fwd_siamese_profile - 0.5*(rev_profile[:,::-1,::-1] + fwd_profile)"
      ],
      "execution_count": 56,
      "outputs": [
        {
          "output_type": "execute_result",
          "data": {
            "text/plain": [
              "array([[[0., 0.],\n",
              "        [0., 0.],\n",
              "        [0., 0.],\n",
              "        ...,\n",
              "        [0., 0.],\n",
              "        [0., 0.],\n",
              "        [0., 0.]],\n",
              "\n",
              "       [[0., 0.],\n",
              "        [0., 0.],\n",
              "        [0., 0.],\n",
              "        ...,\n",
              "        [0., 0.],\n",
              "        [0., 0.],\n",
              "        [0., 0.]],\n",
              "\n",
              "       [[0., 0.],\n",
              "        [0., 0.],\n",
              "        [0., 0.],\n",
              "        ...,\n",
              "        [0., 0.],\n",
              "        [0., 0.],\n",
              "        [0., 0.]],\n",
              "\n",
              "       ...,\n",
              "\n",
              "       [[0., 0.],\n",
              "        [0., 0.],\n",
              "        [0., 0.],\n",
              "        ...,\n",
              "        [0., 0.],\n",
              "        [0., 0.],\n",
              "        [0., 0.]],\n",
              "\n",
              "       [[0., 0.],\n",
              "        [0., 0.],\n",
              "        [0., 0.],\n",
              "        ...,\n",
              "        [0., 0.],\n",
              "        [0., 0.],\n",
              "        [0., 0.]],\n",
              "\n",
              "       [[0., 0.],\n",
              "        [0., 0.],\n",
              "        [0., 0.],\n",
              "        ...,\n",
              "        [0., 0.],\n",
              "        [0., 0.],\n",
              "        [0., 0.]]], dtype=float32)"
            ]
          },
          "metadata": {
            "tags": []
          },
          "execution_count": 56
        }
      ]
    },
    {
      "cell_type": "code",
      "metadata": {
        "id": "ugeI_FjOIqT0",
        "colab_type": "code",
        "colab": {
          "base_uri": "https://localhost:8080/",
          "height": 866
        },
        "outputId": "e690d3d0-40f1-45ca-8f39-4e51bad097f9"
      },
      "source": [
        "fwd_siamese_profile - rev_siamese_profile[:,::-1,::-1]"
      ],
      "execution_count": 59,
      "outputs": [
        {
          "output_type": "execute_result",
          "data": {
            "text/plain": [
              "array([[[0., 0.],\n",
              "        [0., 0.],\n",
              "        [0., 0.],\n",
              "        ...,\n",
              "        [0., 0.],\n",
              "        [0., 0.],\n",
              "        [0., 0.]],\n",
              "\n",
              "       [[0., 0.],\n",
              "        [0., 0.],\n",
              "        [0., 0.],\n",
              "        ...,\n",
              "        [0., 0.],\n",
              "        [0., 0.],\n",
              "        [0., 0.]],\n",
              "\n",
              "       [[0., 0.],\n",
              "        [0., 0.],\n",
              "        [0., 0.],\n",
              "        ...,\n",
              "        [0., 0.],\n",
              "        [0., 0.],\n",
              "        [0., 0.]],\n",
              "\n",
              "       ...,\n",
              "\n",
              "       [[0., 0.],\n",
              "        [0., 0.],\n",
              "        [0., 0.],\n",
              "        ...,\n",
              "        [0., 0.],\n",
              "        [0., 0.],\n",
              "        [0., 0.]],\n",
              "\n",
              "       [[0., 0.],\n",
              "        [0., 0.],\n",
              "        [0., 0.],\n",
              "        ...,\n",
              "        [0., 0.],\n",
              "        [0., 0.],\n",
              "        [0., 0.]],\n",
              "\n",
              "       [[0., 0.],\n",
              "        [0., 0.],\n",
              "        [0., 0.],\n",
              "        ...,\n",
              "        [0., 0.],\n",
              "        [0., 0.],\n",
              "        [0., 0.]]], dtype=float32)"
            ]
          },
          "metadata": {
            "tags": []
          },
          "execution_count": 59
        }
      ]
    },
    {
      "cell_type": "code",
      "metadata": {
        "id": "5O7hPmTgHh1V",
        "colab_type": "code",
        "colab": {}
      },
      "source": [
        ""
      ],
      "execution_count": null,
      "outputs": []
    }
  ]
}