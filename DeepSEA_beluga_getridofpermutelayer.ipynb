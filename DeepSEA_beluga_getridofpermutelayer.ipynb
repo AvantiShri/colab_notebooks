{
  "nbformat": 4,
  "nbformat_minor": 0,
  "metadata": {
    "colab": {
      "name": "Untitled0.ipynb",
      "provenance": [],
      "include_colab_link": true
    },
    "kernelspec": {
      "name": "python3",
      "display_name": "Python 3"
    }
  },
  "cells": [
    {
      "cell_type": "markdown",
      "metadata": {
        "id": "view-in-github",
        "colab_type": "text"
      },
      "source": [
        "<a href=\"https://colab.research.google.com/github/AvantiShri/colab_notebooks/blob/master/DeepSEA_beluga_getridofpermutelayer.ipynb\" target=\"_parent\"><img src=\"https://colab.research.google.com/assets/colab-badge.svg\" alt=\"Open In Colab\"/></a>"
      ]
    },
    {
      "cell_type": "code",
      "metadata": {
        "id": "ziKH5QF8msA7",
        "colab_type": "code",
        "colab": {
          "base_uri": "https://localhost:8080/",
          "height": 224
        },
        "outputId": "631634ff-e0c8-4c09-9447-962b37d7dcca"
      },
      "source": [
        "!wget http://mitra.stanford.edu/kundaje/avanti/deepsea_beluga/deepseabeluga_keras.h5 -O deepseabeluga_keras.h5"
      ],
      "execution_count": 1,
      "outputs": [
        {
          "output_type": "stream",
          "text": [
            "--2020-09-05 19:47:26--  http://mitra.stanford.edu/kundaje/avanti/deepsea_beluga/deepseabeluga_keras.h5\n",
            "Resolving mitra.stanford.edu (mitra.stanford.edu)... 171.67.96.243\n",
            "Connecting to mitra.stanford.edu (mitra.stanford.edu)|171.67.96.243|:80... connected.\n",
            "HTTP request sent, awaiting response... 200 OK\n",
            "Length: 598195356 (570M)\n",
            "Saving to: ‘deepseabeluga_keras.h5’\n",
            "\n",
            "deepseabeluga_keras 100%[===================>] 570.48M  38.6MB/s    in 15s     \n",
            "\n",
            "2020-09-05 19:47:42 (37.2 MB/s) - ‘deepseabeluga_keras.h5’ saved [598195356/598195356]\n",
            "\n"
          ],
          "name": "stdout"
        }
      ]
    },
    {
      "cell_type": "code",
      "metadata": {
        "id": "v1nqR5drmsh0",
        "colab_type": "code",
        "colab": {
          "base_uri": "https://localhost:8080/",
          "height": 972
        },
        "outputId": "f52c1dd8-c009-442c-86a0-8742768ee612"
      },
      "source": [
        "import keras\n",
        "from keras.models import load_model\n",
        "\n",
        "model = load_model(\"deepseabeluga_keras.h5\")\n",
        "model.summary()"
      ],
      "execution_count": 2,
      "outputs": [
        {
          "output_type": "stream",
          "text": [
            "WARNING:tensorflow:No training configuration found in the save file, so the model was *not* compiled. Compile it manually.\n",
            "Model: \"sequential_1\"\n",
            "_________________________________________________________________\n",
            "Layer (type)                 Output Shape              Param #   \n",
            "=================================================================\n",
            "conv1d_1 (Conv1D)            (None, 1993, 320)         10560     \n",
            "_________________________________________________________________\n",
            "activation_1 (Activation)    (None, 1993, 320)         0         \n",
            "_________________________________________________________________\n",
            "conv1d_2 (Conv1D)            (None, 1986, 320)         819520    \n",
            "_________________________________________________________________\n",
            "activation_2 (Activation)    (None, 1986, 320)         0         \n",
            "_________________________________________________________________\n",
            "dropout_1 (Dropout)          (None, 1986, 320)         0         \n",
            "_________________________________________________________________\n",
            "max_pooling1d_1 (MaxPooling1 (None, 496, 320)          0         \n",
            "_________________________________________________________________\n",
            "conv1d_3 (Conv1D)            (None, 489, 480)          1229280   \n",
            "_________________________________________________________________\n",
            "activation_3 (Activation)    (None, 489, 480)          0         \n",
            "_________________________________________________________________\n",
            "conv1d_4 (Conv1D)            (None, 482, 480)          1843680   \n",
            "_________________________________________________________________\n",
            "activation_4 (Activation)    (None, 482, 480)          0         \n",
            "_________________________________________________________________\n",
            "dropout_2 (Dropout)          (None, 482, 480)          0         \n",
            "_________________________________________________________________\n",
            "max_pooling1d_2 (MaxPooling1 (None, 120, 480)          0         \n",
            "_________________________________________________________________\n",
            "conv1d_5 (Conv1D)            (None, 113, 640)          2458240   \n",
            "_________________________________________________________________\n",
            "activation_5 (Activation)    (None, 113, 640)          0         \n",
            "_________________________________________________________________\n",
            "conv1d_6 (Conv1D)            (None, 106, 640)          3277440   \n",
            "_________________________________________________________________\n",
            "activation_6 (Activation)    (None, 106, 640)          0         \n",
            "_________________________________________________________________\n",
            "dropout_3 (Dropout)          (None, 106, 640)          0         \n",
            "_________________________________________________________________\n",
            "permute_1 (Permute)          (None, 640, 106)          0         \n",
            "_________________________________________________________________\n",
            "flatten_1 (Flatten)          (None, 67840)             0         \n",
            "_________________________________________________________________\n",
            "dense_1 (Dense)              (None, 2003)              135885523 \n",
            "_________________________________________________________________\n",
            "activation_7 (Activation)    (None, 2003)              0         \n",
            "_________________________________________________________________\n",
            "dense_2 (Dense)              (None, 2002)              4012008   \n",
            "_________________________________________________________________\n",
            "activation_8 (Activation)    (None, 2002)              0         \n",
            "=================================================================\n",
            "Total params: 149,536,251\n",
            "Trainable params: 149,536,251\n",
            "Non-trainable params: 0\n",
            "_________________________________________________________________\n"
          ],
          "name": "stdout"
        }
      ]
    },
    {
      "cell_type": "code",
      "metadata": {
        "id": "J5SycBComuJr",
        "colab_type": "code",
        "colab": {}
      },
      "source": [
        "from keras.models import Sequential\n",
        "from keras.layers.core import Dense,Flatten\n",
        "from keras.layers.convolutional import Conv1D\n",
        "\n",
        "new_model = Sequential()\n",
        "new_model.add(Conv1D(kernel_size=8, filters=320, input_shape=(2000,4)))\n",
        "new_model.layers[0].set_weights(model.layers[0].get_weights())\n",
        "#We copy over remaining layers up until the Permute layer, which we are\n",
        "# going to get rid of the need for (I had the Permute layer to cope\n",
        "# with the fact that the original pytorch model was in a 'channels first'\n",
        "# format, but Keras is 'channels last', and the weights of the pytorch Dense\n",
        "# layer were such that it was expecting the output of the conv layer to\n",
        "# be in a 'channels first' format - however, we will deal with this by\n",
        "# just rearranging the weights of the Dense layer, since we have to modify\n",
        "# those weights anyway).\n",
        "for layer in model.layers[1:16]:\n",
        "  layer_config = layer.get_config()\n",
        "  del layer_config['name'] #let the name be autogenerated to avoid collisions\n",
        "  new_layer = type(layer)(**layer_config)\n",
        "  if (len(layer.get_weights()) > 0):\n",
        "      new_layer.build(layer.input_shape)\n",
        "  new_layer.set_weights(layer.get_weights())\n",
        "  new_model.add(new_layer)\n",
        "new_model.add(Flatten())\n",
        "new_model.add(Dense(2003,name=\"altereddense\"))\n",
        "for layer in model.layers[20:]:\n",
        "  layer_config = layer.get_config()\n",
        "  del layer_config['name'] #let the name be autogenerated to avoid collisions\n",
        "  new_layer = type(layer)(**layer_config)\n",
        "  if (len(layer.get_weights()) > 0):\n",
        "      new_layer.build(layer.input_shape)\n",
        "  new_layer.set_weights(layer.get_weights())\n",
        "  new_model.add(new_layer)\n",
        "\n",
        "first_dense_layer_weights, first_dense_layer_biases = model.layers[19].get_weights()\n",
        "#These next lines alter the weights of the dense layer so that the whole model\n",
        "# will work on an input of length 400bp\n",
        "#While porting the weights over, we also get rid of the need for the Permute\n",
        "# layer by applying the 'transpose' on the weights. The truncation of 50:56 is\n",
        "# what gets the model to work on an input of length 400bp\n",
        "new_first_dense_layer_weights = first_dense_layer_weights.reshape((640,106,2003))[:,:,:].transpose((1,0,2)).reshape((640*106,2003))\n",
        "new_model.layers[17].set_weights([new_first_dense_layer_weights, first_dense_layer_biases])"
      ],
      "execution_count": 3,
      "outputs": []
    },
    {
      "cell_type": "code",
      "metadata": {
        "id": "RY0PGuyKm1fE",
        "colab_type": "code",
        "colab": {}
      },
      "source": [
        "import numpy as np\n",
        "random_inputs = np.random.RandomState(1).rand(20,2000,4)"
      ],
      "execution_count": 4,
      "outputs": []
    },
    {
      "cell_type": "code",
      "metadata": {
        "id": "fq7tONfVm3yU",
        "colab_type": "code",
        "colab": {}
      },
      "source": [
        "new_preds = new_model.predict(random_inputs[:,:,:])"
      ],
      "execution_count": 5,
      "outputs": []
    },
    {
      "cell_type": "code",
      "metadata": {
        "id": "ngfT-Qr2nFQY",
        "colab_type": "code",
        "colab": {}
      },
      "source": [
        "old_preds = model.predict(random_inputs[:,:,:])"
      ],
      "execution_count": 6,
      "outputs": []
    },
    {
      "cell_type": "code",
      "metadata": {
        "id": "rRrTq59onc0d",
        "colab_type": "code",
        "colab": {
          "base_uri": "https://localhost:8080/",
          "height": 250
        },
        "outputId": "bce9bbef-fd9d-4440-c164-661756f25903"
      },
      "source": [
        "old_preds"
      ],
      "execution_count": 7,
      "outputs": [
        {
          "output_type": "execute_result",
          "data": {
            "text/plain": [
              "array([[0.01404554, 0.00812003, 0.03995261, ..., 0.00140196, 0.00124151,\n",
              "        0.00027376],\n",
              "       [0.01368925, 0.00793654, 0.03913385, ..., 0.00138   , 0.00120762,\n",
              "        0.000267  ],\n",
              "       [0.01411042, 0.00824639, 0.04028752, ..., 0.00141224, 0.00125223,\n",
              "        0.00027698],\n",
              "       ...,\n",
              "       [0.01376671, 0.00773171, 0.03907946, ..., 0.00139257, 0.00119781,\n",
              "        0.00026673],\n",
              "       [0.01378524, 0.00781977, 0.03910929, ..., 0.00137195, 0.00119865,\n",
              "        0.00026551],\n",
              "       [0.01403782, 0.00804397, 0.03988516, ..., 0.00137761, 0.00121772,\n",
              "        0.00026935]], dtype=float32)"
            ]
          },
          "metadata": {
            "tags": []
          },
          "execution_count": 7
        }
      ]
    },
    {
      "cell_type": "code",
      "metadata": {
        "id": "h_NHVa4MneOq",
        "colab_type": "code",
        "colab": {
          "base_uri": "https://localhost:8080/",
          "height": 250
        },
        "outputId": "b773dfb3-f6b2-468d-b3b6-2ec3a0e3e143"
      },
      "source": [
        "new_preds"
      ],
      "execution_count": 8,
      "outputs": [
        {
          "output_type": "execute_result",
          "data": {
            "text/plain": [
              "array([[0.01404554, 0.00811997, 0.03995261, ..., 0.0014019 , 0.00124148,\n",
              "        0.00027376],\n",
              "       [0.01368931, 0.00793654, 0.03913385, ..., 0.00138006, 0.00120765,\n",
              "        0.000267  ],\n",
              "       [0.01411042, 0.00824639, 0.04028746, ..., 0.00141224, 0.00125223,\n",
              "        0.00027698],\n",
              "       ...,\n",
              "       [0.01376674, 0.00773171, 0.03907955, ..., 0.00139257, 0.00119784,\n",
              "        0.00026673],\n",
              "       [0.01378524, 0.00781977, 0.03910929, ..., 0.00137201, 0.00119868,\n",
              "        0.00026539],\n",
              "       [0.01403782, 0.00804397, 0.03988519, ..., 0.00137761, 0.00121772,\n",
              "        0.00026935]], dtype=float32)"
            ]
          },
          "metadata": {
            "tags": []
          },
          "execution_count": 8
        }
      ]
    },
    {
      "cell_type": "code",
      "metadata": {
        "id": "ImHNKVHynN92",
        "colab_type": "code",
        "colab": {
          "base_uri": "https://localhost:8080/",
          "height": 34
        },
        "outputId": "5c502156-21b0-49eb-a629-a281425b9ffe"
      },
      "source": [
        "np.max(np.abs(old_preds-new_preds))"
      ],
      "execution_count": 9,
      "outputs": [
        {
          "output_type": "execute_result",
          "data": {
            "text/plain": [
              "2.682209e-07"
            ]
          },
          "metadata": {
            "tags": []
          },
          "execution_count": 9
        }
      ]
    },
    {
      "cell_type": "code",
      "metadata": {
        "id": "ayuHJbg2nRve",
        "colab_type": "code",
        "colab": {
          "base_uri": "https://localhost:8080/",
          "height": 916
        },
        "outputId": "1f48a027-2927-49cb-91df-c4bb2b681d83"
      },
      "source": [
        "new_model.summary()"
      ],
      "execution_count": 10,
      "outputs": [
        {
          "output_type": "stream",
          "text": [
            "Model: \"sequential\"\n",
            "_________________________________________________________________\n",
            "Layer (type)                 Output Shape              Param #   \n",
            "=================================================================\n",
            "conv1d (Conv1D)              (None, 1993, 320)         10560     \n",
            "_________________________________________________________________\n",
            "activation (Activation)      (None, 1993, 320)         0         \n",
            "_________________________________________________________________\n",
            "conv1d_1 (Conv1D)            (None, 1986, 320)         819520    \n",
            "_________________________________________________________________\n",
            "activation_1 (Activation)    (None, 1986, 320)         0         \n",
            "_________________________________________________________________\n",
            "dropout (Dropout)            (None, 1986, 320)         0         \n",
            "_________________________________________________________________\n",
            "max_pooling1d (MaxPooling1D) (None, 496, 320)          0         \n",
            "_________________________________________________________________\n",
            "conv1d_2 (Conv1D)            (None, 489, 480)          1229280   \n",
            "_________________________________________________________________\n",
            "activation_2 (Activation)    (None, 489, 480)          0         \n",
            "_________________________________________________________________\n",
            "conv1d_3 (Conv1D)            (None, 482, 480)          1843680   \n",
            "_________________________________________________________________\n",
            "activation_3 (Activation)    (None, 482, 480)          0         \n",
            "_________________________________________________________________\n",
            "dropout_1 (Dropout)          (None, 482, 480)          0         \n",
            "_________________________________________________________________\n",
            "max_pooling1d_1 (MaxPooling1 (None, 120, 480)          0         \n",
            "_________________________________________________________________\n",
            "conv1d_4 (Conv1D)            (None, 113, 640)          2458240   \n",
            "_________________________________________________________________\n",
            "activation_4 (Activation)    (None, 113, 640)          0         \n",
            "_________________________________________________________________\n",
            "conv1d_5 (Conv1D)            (None, 106, 640)          3277440   \n",
            "_________________________________________________________________\n",
            "activation_5 (Activation)    (None, 106, 640)          0         \n",
            "_________________________________________________________________\n",
            "flatten (Flatten)            (None, 67840)             0         \n",
            "_________________________________________________________________\n",
            "altereddense (Dense)         (None, 2003)              135885523 \n",
            "_________________________________________________________________\n",
            "activation_6 (Activation)    (None, 2003)              0         \n",
            "_________________________________________________________________\n",
            "dense (Dense)                (None, 2002)              4012008   \n",
            "_________________________________________________________________\n",
            "activation_7 (Activation)    (None, 2002)              0         \n",
            "=================================================================\n",
            "Total params: 149,536,251\n",
            "Trainable params: 149,536,251\n",
            "Non-trainable params: 0\n",
            "_________________________________________________________________\n"
          ],
          "name": "stdout"
        }
      ]
    },
    {
      "cell_type": "code",
      "metadata": {
        "id": "3gErXDhYnWcu",
        "colab_type": "code",
        "colab": {}
      },
      "source": [
        "new_model.save(\"deepseabeluga_keras_nopermutelayer.h5\")"
      ],
      "execution_count": 11,
      "outputs": []
    },
    {
      "cell_type": "code",
      "metadata": {
        "id": "QFdIcMhEnyym",
        "colab_type": "code",
        "colab": {
          "base_uri": "https://localhost:8080/",
          "height": 34
        },
        "outputId": "58dff5b1-6d1d-444d-e2e7-5cb8603e121e"
      },
      "source": [
        "!du -h deepseabeluga_keras_nopermutelayer.h5"
      ],
      "execution_count": 12,
      "outputs": [
        {
          "output_type": "stream",
          "text": [
            "571M\tdeepseabeluga_keras_nopermutelayer.h5\n"
          ],
          "name": "stdout"
        }
      ]
    },
    {
      "cell_type": "code",
      "metadata": {
        "id": "9fHvviHNz_6-",
        "colab_type": "code",
        "colab": {}
      },
      "source": [
        ""
      ],
      "execution_count": null,
      "outputs": []
    }
  ]
}