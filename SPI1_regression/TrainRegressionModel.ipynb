{
  "nbformat": 4,
  "nbformat_minor": 0,
  "metadata": {
    "colab": {
      "name": "TrainRegressionModel.ipynb",
      "version": "0.3.2",
      "provenance": [],
      "collapsed_sections": [],
      "include_colab_link": true
    },
    "kernelspec": {
      "name": "python3",
      "display_name": "Python 3"
    },
    "accelerator": "GPU"
  },
  "cells": [
    {
      "cell_type": "markdown",
      "metadata": {
        "id": "view-in-github",
        "colab_type": "text"
      },
      "source": [
        "<a href=\"https://colab.research.google.com/github/AvantiShri/colab_notebooks/blob/master/SPI1_regression/TrainRegressionModel.ipynb\" target=\"_parent\"><img src=\"https://colab.research.google.com/assets/colab-badge.svg\" alt=\"Open In Colab\"/></a>"
      ]
    },
    {
      "cell_type": "code",
      "metadata": {
        "id": "r34K_qhGGgSs",
        "colab_type": "code",
        "outputId": "149deb79-ab7b-4013-ef95-2ecb84b5aca4",
        "colab": {
          "base_uri": "https://localhost:8080/",
          "height": 802
        }
      },
      "source": [
        "![[ -e SPI1_negatives.tsv.gz ]] || wget -O SPI1_negatives.tsv.gz http://mitra.stanford.edu/kundaje/avanti/regression_labels_SPI1_GM12878/positives_in_peaks/SPI1_negatives.tsv.gz -O SPI1_negatives.tsv.gz\n",
        "![[ -e SPI1_positives_regression_labels.tsv.gz ]] || wget -O SPI1_positives_regression_labels.tsv.gz http://mitra.stanford.edu/kundaje/avanti/regression_labels_SPI1_GM12878/positives_in_peaks/SPI1_positives_regression_labels.tsv.gz\n",
        "\n",
        "#download hg38 fasta file\n",
        "![[ -e hg38.fa ]] || wget https://hgdownload.soe.ucsc.edu/goldenPath/hg38/bigZips/hg38.fa.gz -O hg38.fa.gz\n",
        "![[ -e hg38.fa ]] || gunzip hg38.fa.gz\n",
        "\n",
        "#install pyfaidx and prepare an index for hg38.fa\n",
        "!pip install pyfaidx\n",
        "from pyfaidx import Fasta\n",
        "Fasta(\"hg38.fa\") #this will build the index if it does not exist"
      ],
      "execution_count": 1,
      "outputs": [
        {
          "output_type": "stream",
          "text": [
            "--2019-09-04 17:36:02--  http://mitra.stanford.edu/kundaje/avanti/regression_labels_SPI1_GM12878/positives_in_peaks/SPI1_negatives.tsv.gz\n",
            "Resolving mitra.stanford.edu (mitra.stanford.edu)... 171.67.96.243\n",
            "Connecting to mitra.stanford.edu (mitra.stanford.edu)|171.67.96.243|:80... connected.\n",
            "HTTP request sent, awaiting response... 200 OK\n",
            "Length: 242572693 (231M) [application/x-gzip]\n",
            "Saving to: ‘SPI1_negatives.tsv.gz’\n",
            "\n",
            "SPI1_negatives.tsv. 100%[===================>] 231.33M  1.66MB/s    in 2m 17s  \n",
            "\n",
            "2019-09-04 17:38:19 (1.69 MB/s) - ‘SPI1_negatives.tsv.gz’ saved [242572693/242572693]\n",
            "\n",
            "--2019-09-04 17:38:20--  http://mitra.stanford.edu/kundaje/avanti/regression_labels_SPI1_GM12878/positives_in_peaks/SPI1_positives_regression_labels.tsv.gz\n",
            "Resolving mitra.stanford.edu (mitra.stanford.edu)... 171.67.96.243\n",
            "Connecting to mitra.stanford.edu (mitra.stanford.edu)|171.67.96.243|:80... connected.\n",
            "HTTP request sent, awaiting response... 200 OK\n",
            "Length: 4179271 (4.0M) [application/x-gzip]\n",
            "Saving to: ‘SPI1_positives_regression_labels.tsv.gz’\n",
            "\n",
            "SPI1_positives_regr 100%[===================>]   3.99M  1004KB/s    in 4.1s    \n",
            "\n",
            "2019-09-04 17:38:24 (1004 KB/s) - ‘SPI1_positives_regression_labels.tsv.gz’ saved [4179271/4179271]\n",
            "\n",
            "--2019-09-04 17:38:25--  https://hgdownload.soe.ucsc.edu/goldenPath/hg38/bigZips/hg38.fa.gz\n",
            "Resolving hgdownload.soe.ucsc.edu (hgdownload.soe.ucsc.edu)... 128.114.119.163\n",
            "Connecting to hgdownload.soe.ucsc.edu (hgdownload.soe.ucsc.edu)|128.114.119.163|:443... connected.\n",
            "HTTP request sent, awaiting response... 200 OK\n",
            "Length: 983659424 (938M) [application/x-gzip]\n",
            "Saving to: ‘hg38.fa.gz’\n",
            "\n",
            "hg38.fa.gz          100%[===================>] 938.09M  25.1MB/s    in 48s     \n",
            "\n",
            "2019-09-04 17:39:14 (19.6 MB/s) - ‘hg38.fa.gz’ saved [983659424/983659424]\n",
            "\n",
            "Collecting pyfaidx\n",
            "  Downloading https://files.pythonhosted.org/packages/75/a5/7e2569527b3849ea28d79b4f70d7cf46a47d36459bc59e0efa4e10e8c8b2/pyfaidx-0.5.5.2.tar.gz\n",
            "Requirement already satisfied: six in /usr/local/lib/python3.6/dist-packages (from pyfaidx) (1.12.0)\n",
            "Requirement already satisfied: setuptools>=0.7 in /usr/local/lib/python3.6/dist-packages (from pyfaidx) (41.2.0)\n",
            "Building wheels for collected packages: pyfaidx\n",
            "  Building wheel for pyfaidx (setup.py) ... \u001b[?25l\u001b[?25hdone\n",
            "  Created wheel for pyfaidx: filename=pyfaidx-0.5.5.2-cp36-none-any.whl size=24641 sha256=93c4d5f246bd6eaf7850cdfa3efcccffb8b1cb0818cc8c024038b4621814a3ae\n",
            "  Stored in directory: /root/.cache/pip/wheels/54/a2/b4/e242e58d23b2808e191b214067880faa46cd2341f363886e0b\n",
            "Successfully built pyfaidx\n",
            "Installing collected packages: pyfaidx\n",
            "Successfully installed pyfaidx-0.5.5.2\n"
          ],
          "name": "stdout"
        },
        {
          "output_type": "execute_result",
          "data": {
            "text/plain": [
              "Fasta(\"hg38.fa\")"
            ]
          },
          "metadata": {
            "tags": []
          },
          "execution_count": 1
        }
      ]
    },
    {
      "cell_type": "code",
      "metadata": {
        "id": "rsDv4DVlT7Kf",
        "colab_type": "code",
        "colab": {}
      },
      "source": [
        "![[ -e noheader_SPI1_negatives.tsv.gz ]] || zcat SPI1_negatives.tsv.gz | grep -v 'START' | gzip -c > noheader_SPI1_negatives.tsv.gz\n",
        "![[ -e noheader_SPI1_positives_regression_labels.tsv.gz ]] || zcat SPI1_positives_regression_labels.tsv.gz | grep -v 'START' | gzip -c > noheader_SPI1_positives_regression_labels.tsv.gz\n",
        "\n",
        "!zcat noheader_SPI1_negatives.tsv.gz | egrep -v -w 'chr1|chr8|chr21|chr22' | gzip -c > train_SPI1_negatives.tsv.gz\n",
        "!zcat noheader_SPI1_positives_regression_labels.tsv.gz | egrep -v -w 'chr1|chr8|chr21|chr22' | gzip -c > train_SPI1_positives_regression_labels.tsv.gz\n",
        "!zcat noheader_SPI1_negatives.tsv.gz | egrep -w 'chr1|chr8|chr21' | gzip -c > test_SPI1_coords.tsv.gz\n",
        "!zcat noheader_SPI1_positives_regression_labels.tsv.gz | egrep -w 'chr1|chr8|chr21' | gzip -c >> test_SPI1_coords.tsv.gz"
      ],
      "execution_count": 0,
      "outputs": []
    },
    {
      "cell_type": "code",
      "metadata": {
        "id": "dPjICRl2nA08",
        "colab_type": "code",
        "colab": {}
      },
      "source": [
        "!zcat noheader_SPI1_negatives.tsv.gz | egrep -w 'chr1' | gzip -c > minitrain_SPI1_negatives.tsv.gz\n",
        "!zcat noheader_SPI1_positives_regression_labels.tsv.gz | egrep -w 'chr1' | gzip -c > minitrain_SPI1_positives_regression_labels.tsv.gz"
      ],
      "execution_count": 0,
      "outputs": []
    },
    {
      "cell_type": "code",
      "metadata": {
        "id": "DK6tRLOs9VHT",
        "colab_type": "code",
        "colab": {
          "base_uri": "https://localhost:8080/",
          "height": 34
        },
        "outputId": "2016696d-6677-403b-cb3b-2b1c9e2215e0"
      },
      "source": [
        "#num negs in validation set\n",
        "!zcat noheader_SPI1_negatives.tsv.gz | egrep -w 'chr22'  | wc -l"
      ],
      "execution_count": 4,
      "outputs": [
        {
          "output_type": "stream",
          "text": [
            "995472\n"
          ],
          "name": "stdout"
        }
      ]
    },
    {
      "cell_type": "code",
      "metadata": {
        "id": "ObFSZMTJ9YBR",
        "colab_type": "code",
        "colab": {
          "base_uri": "https://localhost:8080/",
          "height": 34
        },
        "outputId": "1d717e9f-2ca5-4ec0-9e44-7b6664178587"
      },
      "source": [
        "#num pos in validation set\n",
        "!zcat noheader_SPI1_positives_regression_labels.tsv.gz | egrep -w 'chr22' | wc -l"
      ],
      "execution_count": 5,
      "outputs": [
        {
          "output_type": "stream",
          "text": [
            "6127\n"
          ],
          "name": "stdout"
        }
      ]
    },
    {
      "cell_type": "code",
      "metadata": {
        "id": "SXOt1dQB92EB",
        "colab_type": "code",
        "colab": {
          "base_uri": "https://localhost:8080/",
          "height": 34
        },
        "outputId": "cf80e172-0fd4-41d3-e26b-94f3400a23d5"
      },
      "source": [
        "#combine the positives and negatives in the validation set; subsample the\n",
        "# validation set for speed of calculation\n",
        "!zcat noheader_SPI1_negatives.tsv.gz | egrep -w 'chr22' | perl -ne 'if ($.%25==0) {print $_}' | gzip -c > negsubsampled_valid.tsv.gz\n",
        "!zcat noheader_SPI1_positives_regression_labels.tsv.gz | egrep -w 'chr22' | gzip -c >> negsubsampled_valid.tsv.gz\n",
        "!zcat negsubsampled_valid.tsv.gz | wc -l"
      ],
      "execution_count": 6,
      "outputs": [
        {
          "output_type": "stream",
          "text": [
            "45945\n"
          ],
          "name": "stdout"
        }
      ]
    },
    {
      "cell_type": "code",
      "metadata": {
        "id": "p0Qs7jksBRjr",
        "colab_type": "code",
        "colab": {
          "base_uri": "https://localhost:8080/",
          "height": 34
        },
        "outputId": "bf82375b-ba2a-4477-f8d8-e995799b7d0e"
      },
      "source": [
        "pip install tqdm"
      ],
      "execution_count": 18,
      "outputs": [
        {
          "output_type": "stream",
          "text": [
            "Requirement already satisfied: tqdm in /usr/local/lib/python3.6/dist-packages (4.28.1)\n"
          ],
          "name": "stdout"
        }
      ]
    },
    {
      "cell_type": "code",
      "metadata": {
        "id": "PcoIFxv5IyI5",
        "colab_type": "code",
        "colab": {
          "base_uri": "https://localhost:8080/",
          "height": 136
        },
        "outputId": "3fb51511-3726-496d-d899-268caf7aef76"
      },
      "source": [
        "!git clone https://github.com/kundajelab/seqdataloader.git"
      ],
      "execution_count": 7,
      "outputs": [
        {
          "output_type": "stream",
          "text": [
            "Cloning into 'seqdataloader'...\n",
            "remote: Enumerating objects: 75, done.\u001b[K\n",
            "remote: Counting objects: 100% (75/75), done.\u001b[K\n",
            "remote: Compressing objects: 100% (55/55), done.\u001b[K\n",
            "remote: Total 1078 (delta 33), reused 58 (delta 20), pack-reused 1003\u001b[K\n",
            "Receiving objects: 100% (1078/1078), 3.90 MiB | 3.04 MiB/s, done.\n",
            "Resolving deltas: 100% (659/659), done.\n"
          ],
          "name": "stdout"
        }
      ]
    },
    {
      "cell_type": "code",
      "metadata": {
        "id": "oCAssXO1N-Tm",
        "colab_type": "code",
        "colab": {
          "base_uri": "https://localhost:8080/",
          "height": 1000
        },
        "outputId": "0a0862d2-4e79-4bb4-ad80-8f56707e4432"
      },
      "source": [
        "%cd /content/seqdataloader\n",
        "!git checkout downsamplenegatives\n",
        "!git pull\n",
        "!pip uninstall seqdataloader\n",
        "!pip install .\n",
        "%cd /content"
      ],
      "execution_count": 1,
      "outputs": [
        {
          "output_type": "stream",
          "text": [
            "/content/seqdataloader\n",
            "Already on 'downsamplenegatives'\n",
            "Your branch is up to date with 'origin/downsamplenegatives'.\n",
            "remote: Enumerating objects: 13, done.\u001b[K\n",
            "remote: Counting objects: 100% (13/13), done.\u001b[K\n",
            "remote: Compressing objects: 100% (3/3), done.\u001b[K\n",
            "remote: Total 7 (delta 4), reused 7 (delta 4), pack-reused 0\u001b[K\n",
            "Unpacking objects: 100% (7/7), done.\n",
            "From https://github.com/kundajelab/seqdataloader\n",
            "   1d14e82..7ee5104  downsamplenegatives -> origin/downsamplenegatives\n",
            "Updating 1d14e82..7ee5104\n",
            "Fast-forward\n",
            " seqdataloader/batchproducers/coordbased/coordstovals/lookup.py | 7 \u001b[32m++++\u001b[m\u001b[31m---\u001b[m\n",
            " 1 file changed, 4 insertions(+), 3 deletions(-)\n",
            "Uninstalling seqdataloader-0.126:\n",
            "  Would remove:\n",
            "    /usr/local/bin/db_ingest\n",
            "    /usr/local/bin/genomewide_labels\n",
            "    /usr/local/lib/python3.6/dist-packages/seqdataloader-0.126.dist-info/*\n",
            "    /usr/local/lib/python3.6/dist-packages/seqdataloader/batchproducers/*\n",
            "    /usr/local/lib/python3.6/dist-packages/seqdataloader/dbingest/*\n",
            "    /usr/local/lib/python3.6/dist-packages/seqdataloader/labelgen/*\n",
            "Proceed (y/n)? y\n",
            "  Successfully uninstalled seqdataloader-0.126\n",
            "Processing /content/seqdataloader\n",
            "Requirement already satisfied: numpy>=1.15 in /usr/local/lib/python3.6/dist-packages (from seqdataloader==0.126) (1.16.4)\n",
            "Requirement already satisfied: pandas>=0.23.4 in /usr/local/lib/python3.6/dist-packages (from seqdataloader==0.126) (0.24.2)\n",
            "Requirement already satisfied: cython>=0.27.3 in /usr/local/lib/python3.6/dist-packages (from seqdataloader==0.126) (0.29.13)\n",
            "Requirement already satisfied: deeptools>=3.0.1 in /usr/local/lib/python3.6/dist-packages (from seqdataloader==0.126) (3.3.0)\n",
            "Requirement already satisfied: pybedtools>=0.7 in /usr/local/lib/python3.6/dist-packages (from seqdataloader==0.126) (0.8.0)\n",
            "Requirement already satisfied: pyBigWig>=0.3.7 in /usr/local/lib/python3.6/dist-packages (from seqdataloader==0.126) (0.3.17)\n",
            "Requirement already satisfied: pyfaidx in /usr/local/lib/python3.6/dist-packages (from seqdataloader==0.126) (0.5.5.2)\n",
            "Requirement already satisfied: pytz>=2011k in /usr/local/lib/python3.6/dist-packages (from pandas>=0.23.4->seqdataloader==0.126) (2018.9)\n",
            "Requirement already satisfied: python-dateutil>=2.5.0 in /usr/local/lib/python3.6/dist-packages (from pandas>=0.23.4->seqdataloader==0.126) (2.5.3)\n",
            "Requirement already satisfied: numpydoc>=0.5 in /usr/local/lib/python3.6/dist-packages (from deeptools>=3.0.1->seqdataloader==0.126) (0.9.1)\n",
            "Requirement already satisfied: matplotlib>=2.1.2 in /usr/local/lib/python3.6/dist-packages (from deeptools>=3.0.1->seqdataloader==0.126) (3.0.3)\n",
            "Requirement already satisfied: pysam>=0.14.0 in /usr/local/lib/python3.6/dist-packages (from deeptools>=3.0.1->seqdataloader==0.126) (0.15.3)\n",
            "Requirement already satisfied: deeptoolsintervals>=0.1.8 in /usr/local/lib/python3.6/dist-packages (from deeptools>=3.0.1->seqdataloader==0.126) (0.1.9)\n",
            "Requirement already satisfied: scipy>=0.17.0 in /usr/local/lib/python3.6/dist-packages (from deeptools>=3.0.1->seqdataloader==0.126) (1.3.1)\n",
            "Requirement already satisfied: plotly>=2.0.0 in /usr/local/lib/python3.6/dist-packages (from deeptools>=3.0.1->seqdataloader==0.126) (3.6.1)\n",
            "Requirement already satisfied: py2bit>=0.2.0 in /usr/local/lib/python3.6/dist-packages (from deeptools>=3.0.1->seqdataloader==0.126) (0.3.0)\n",
            "Requirement already satisfied: six in /usr/local/lib/python3.6/dist-packages (from pybedtools>=0.7->seqdataloader==0.126) (1.12.0)\n",
            "Requirement already satisfied: setuptools>=0.7 in /usr/local/lib/python3.6/dist-packages (from pyfaidx->seqdataloader==0.126) (41.2.0)\n",
            "Requirement already satisfied: Jinja2>=2.3 in /usr/local/lib/python3.6/dist-packages (from numpydoc>=0.5->deeptools>=3.0.1->seqdataloader==0.126) (2.10.1)\n",
            "Requirement already satisfied: sphinx>=1.6.5 in /usr/local/lib/python3.6/dist-packages (from numpydoc>=0.5->deeptools>=3.0.1->seqdataloader==0.126) (1.8.5)\n",
            "Requirement already satisfied: cycler>=0.10 in /usr/local/lib/python3.6/dist-packages (from matplotlib>=2.1.2->deeptools>=3.0.1->seqdataloader==0.126) (0.10.0)\n",
            "Requirement already satisfied: kiwisolver>=1.0.1 in /usr/local/lib/python3.6/dist-packages (from matplotlib>=2.1.2->deeptools>=3.0.1->seqdataloader==0.126) (1.1.0)\n",
            "Requirement already satisfied: pyparsing!=2.0.4,!=2.1.2,!=2.1.6,>=2.0.1 in /usr/local/lib/python3.6/dist-packages (from matplotlib>=2.1.2->deeptools>=3.0.1->seqdataloader==0.126) (2.4.2)\n",
            "Requirement already satisfied: retrying>=1.3.3 in /usr/local/lib/python3.6/dist-packages (from plotly>=2.0.0->deeptools>=3.0.1->seqdataloader==0.126) (1.3.3)\n",
            "Requirement already satisfied: requests in /usr/local/lib/python3.6/dist-packages (from plotly>=2.0.0->deeptools>=3.0.1->seqdataloader==0.126) (2.21.0)\n",
            "Requirement already satisfied: nbformat>=4.2 in /usr/local/lib/python3.6/dist-packages (from plotly>=2.0.0->deeptools>=3.0.1->seqdataloader==0.126) (4.4.0)\n",
            "Requirement already satisfied: decorator>=4.0.6 in /usr/local/lib/python3.6/dist-packages (from plotly>=2.0.0->deeptools>=3.0.1->seqdataloader==0.126) (4.4.0)\n",
            "Requirement already satisfied: MarkupSafe>=0.23 in /usr/local/lib/python3.6/dist-packages (from Jinja2>=2.3->numpydoc>=0.5->deeptools>=3.0.1->seqdataloader==0.126) (1.1.1)\n",
            "Requirement already satisfied: Pygments>=2.0 in /usr/local/lib/python3.6/dist-packages (from sphinx>=1.6.5->numpydoc>=0.5->deeptools>=3.0.1->seqdataloader==0.126) (2.1.3)\n",
            "Requirement already satisfied: snowballstemmer>=1.1 in /usr/local/lib/python3.6/dist-packages (from sphinx>=1.6.5->numpydoc>=0.5->deeptools>=3.0.1->seqdataloader==0.126) (1.9.0)\n",
            "Requirement already satisfied: sphinxcontrib-websupport in /usr/local/lib/python3.6/dist-packages (from sphinx>=1.6.5->numpydoc>=0.5->deeptools>=3.0.1->seqdataloader==0.126) (1.1.2)\n",
            "Requirement already satisfied: babel!=2.0,>=1.3 in /usr/local/lib/python3.6/dist-packages (from sphinx>=1.6.5->numpydoc>=0.5->deeptools>=3.0.1->seqdataloader==0.126) (2.7.0)\n",
            "Requirement already satisfied: alabaster<0.8,>=0.7 in /usr/local/lib/python3.6/dist-packages (from sphinx>=1.6.5->numpydoc>=0.5->deeptools>=3.0.1->seqdataloader==0.126) (0.7.12)\n",
            "Requirement already satisfied: imagesize in /usr/local/lib/python3.6/dist-packages (from sphinx>=1.6.5->numpydoc>=0.5->deeptools>=3.0.1->seqdataloader==0.126) (1.1.0)\n",
            "Requirement already satisfied: docutils>=0.11 in /usr/local/lib/python3.6/dist-packages (from sphinx>=1.6.5->numpydoc>=0.5->deeptools>=3.0.1->seqdataloader==0.126) (0.15.2)\n",
            "Requirement already satisfied: packaging in /usr/local/lib/python3.6/dist-packages (from sphinx>=1.6.5->numpydoc>=0.5->deeptools>=3.0.1->seqdataloader==0.126) (19.1)\n",
            "Requirement already satisfied: certifi>=2017.4.17 in /usr/local/lib/python3.6/dist-packages (from requests->plotly>=2.0.0->deeptools>=3.0.1->seqdataloader==0.126) (2019.6.16)\n",
            "Requirement already satisfied: urllib3<1.25,>=1.21.1 in /usr/local/lib/python3.6/dist-packages (from requests->plotly>=2.0.0->deeptools>=3.0.1->seqdataloader==0.126) (1.24.3)\n",
            "Requirement already satisfied: chardet<3.1.0,>=3.0.2 in /usr/local/lib/python3.6/dist-packages (from requests->plotly>=2.0.0->deeptools>=3.0.1->seqdataloader==0.126) (3.0.4)\n",
            "Requirement already satisfied: idna<2.9,>=2.5 in /usr/local/lib/python3.6/dist-packages (from requests->plotly>=2.0.0->deeptools>=3.0.1->seqdataloader==0.126) (2.8)\n",
            "Requirement already satisfied: jupyter-core in /usr/local/lib/python3.6/dist-packages (from nbformat>=4.2->plotly>=2.0.0->deeptools>=3.0.1->seqdataloader==0.126) (4.5.0)\n",
            "Requirement already satisfied: ipython-genutils in /usr/local/lib/python3.6/dist-packages (from nbformat>=4.2->plotly>=2.0.0->deeptools>=3.0.1->seqdataloader==0.126) (0.2.0)\n",
            "Requirement already satisfied: traitlets>=4.1 in /usr/local/lib/python3.6/dist-packages (from nbformat>=4.2->plotly>=2.0.0->deeptools>=3.0.1->seqdataloader==0.126) (4.3.2)\n",
            "Requirement already satisfied: jsonschema!=2.5.0,>=2.4 in /usr/local/lib/python3.6/dist-packages (from nbformat>=4.2->plotly>=2.0.0->deeptools>=3.0.1->seqdataloader==0.126) (2.6.0)\n",
            "Requirement already satisfied: attrs in /usr/local/lib/python3.6/dist-packages (from packaging->sphinx>=1.6.5->numpydoc>=0.5->deeptools>=3.0.1->seqdataloader==0.126) (19.1.0)\n",
            "Building wheels for collected packages: seqdataloader\n",
            "  Building wheel for seqdataloader (setup.py) ... \u001b[?25l\u001b[?25hdone\n",
            "  Created wheel for seqdataloader: filename=seqdataloader-0.126-cp36-none-any.whl size=27501 sha256=76d5a56bfd18fe53f499cca7e0c7caf837327fc37de396a6ba077be6cc0c45c3\n",
            "  Stored in directory: /tmp/pip-ephem-wheel-cache-6ot4cry0/wheels/c2/db/13/112d41662f69fb8c7986c218293570cc1550fc21eed966e31b\n",
            "Successfully built seqdataloader\n",
            "Installing collected packages: seqdataloader\n",
            "Successfully installed seqdataloader-0.126\n",
            "/content\n"
          ],
          "name": "stdout"
        }
      ]
    },
    {
      "cell_type": "code",
      "metadata": {
        "id": "gQt-2mghOHu_",
        "colab_type": "code",
        "colab": {
          "base_uri": "https://localhost:8080/",
          "height": 207
        },
        "outputId": "d628057d-c804-4715-af64-b6b916b741a7"
      },
      "source": [
        "from seqdataloader.batchproducers import coordbased\n",
        "import numpy as np\n",
        "\n",
        "labels_coordstovals = coordbased.coordstovals.lookup.SimpleLookup(\n",
        "    lookup_file=\"noheader_SPI1_positives_regression_labels.tsv.gz\")\n",
        "input_coordstovals = coordbased.coordstovals.fasta.PyfaidxCoordsToVals(\n",
        "    genome_fasta_path=\"hg38.fa\")\n",
        "\n",
        "valid_batchproducer = coordbased.coordbatchproducers.SimpleCoordsBatchProducer(\n",
        "    bed_file=\"negsubsampled_valid.tsv.gz\",\n",
        "    batch_size=64,\n",
        "    shuffle_before_epoch=False,\n",
        "    seed=None)\n",
        "\n",
        "train_batchproducer = (\n",
        "  coordbased.coordbatchproducers.DownsampleNegativesCoordsBatchProducer(\n",
        "    pos_bed_file=\"minitrain_SPI1_positives_regression_labels.tsv.gz\",\n",
        "    neg_bed_file=\"minitrain_SPI1_negatives.tsv.gz\",\n",
        "    target_proportion_positives=0.5,\n",
        "    batch_size=64,\n",
        "    shuffle_before_epoch=True,\n",
        "    seed=1234))\n",
        "\n",
        "train_batch_generator = coordbased.core.KerasBatchGenerator(\n",
        "    coordsbatch_producer=train_batchproducer,\n",
        "    inputs_coordstovals=input_coordstovals,\n",
        "    targets_coordstovals=labels_coordstovals,\n",
        "    coordsbatch_transformer=\\\n",
        "      coordbased.coordbatchtransformers.ReverseComplementAugmenter())\n",
        "\n",
        "valid_batch_generator = coordbased.core.KerasBatchGenerator(\n",
        "    coordsbatch_producer=valid_batchproducer,\n",
        "    inputs_coordstovals=input_coordstovals,\n",
        "    targets_coordstovals=labels_coordstovals)\n"
      ],
      "execution_count": 2,
      "outputs": [
        {
          "output_type": "stream",
          "text": [
            "Using TensorFlow backend.\n"
          ],
          "name": "stderr"
        },
        {
          "output_type": "stream",
          "text": [
            "Heads up: coordinates in bed file are assumed to be on the positive strand; if strand in the bed file is improtant to you, please add that feature to SimpleCoordsBatchProducer\n",
            "Reading in positive bed file\n",
            "Heads up: coordinates in bed file are assumed to be on the positive strand; if strand in the bed file is improtant to you, please add that feature to SimpleCoordsBatchProducer\n",
            "Got 31302  coords in positive bed file\n",
            "Reading in negative bed file\n",
            "Heads up: coordinates in bed file are assumed to be on the positive strand; if strand in the bed file is improtant to you, please add that feature to SimpleCoordsBatchProducer\n",
            "Got 4881439  coords in negative bed file\n",
            "The target proportion of positives of 0.5 requires the negative set to be subsampled by a factor of 156 which will result in a #neg of 31291\n",
            "Using an offset of  0  before striding\n"
          ],
          "name": "stdout"
        }
      ]
    },
    {
      "cell_type": "code",
      "metadata": {
        "id": "tfL1GMYoFHyw",
        "colab_type": "code",
        "colab": {
          "base_uri": "https://localhost:8080/",
          "height": 269
        },
        "outputId": "c6411197-d96c-4daa-ab94-bf3c33f0ba76"
      },
      "source": [
        "vals = list(labels_coordstovals.lookup.values())\n",
        "from matplotlib import pyplot as plt\n",
        "plt.hist(np.array(vals).squeeze(), bins=20)\n",
        "plt.show()"
      ],
      "execution_count": 3,
      "outputs": [
        {
          "output_type": "display_data",
          "data": {
            "image/png": "[encoded data removed]",
            "text/plain": [
              "<Figure size 432x288 with 1 Axes>"
            ]
          },
          "metadata": {
            "tags": []
          }
        }
      ]
    },
    {
      "cell_type": "code",
      "metadata": {
        "id": "gh5QkUsfPUXb",
        "colab_type": "code",
        "colab": {
          "base_uri": "https://localhost:8080/",
          "height": 1000
        },
        "outputId": "03c0ac0f-a09d-492b-838e-c7704afc7886"
      },
      "source": [
        "import keras\n",
        "from keras import backend as K\n",
        "import tensorflow as tf\n",
        "from keras.callbacks import Callback\n",
        "from tqdm import tqdm\n",
        "from scipy.stats import spearmanr\n",
        "\n",
        "\n",
        "def predict_on_datagenerator(datagenerator, model):\n",
        "  total_positives_preds = []\n",
        "  total_positives_labels = []\n",
        "  total_negatives_preds = []\n",
        "  total_negatives_labels = []\n",
        "  for batch_num in tqdm(range(len(datagenerator))):\n",
        "    batch_inputs, batch_labels = datagenerator[batch_num]\n",
        "    batch_preds = model.predict(batch_inputs)\n",
        "    batch_preds, batch_labels = (np.squeeze(batch_preds),\n",
        "                                 np.squeeze(batch_labels))\n",
        "    assert len(batch_labels.shape)==1\n",
        "    positives_mask = batch_labels > 0.0\n",
        "    negatives_mask = positives_mask==False\n",
        "    total_positives_preds.extend(batch_preds[positives_mask])\n",
        "    total_positives_labels.extend(batch_labels[positives_mask])\n",
        "    total_negatives_preds.extend(batch_preds[negatives_mask])\n",
        "    total_negatives_labels.extend(batch_labels[negatives_mask])\n",
        "\n",
        "  total_positives_preds = np.array(total_positives_preds)\n",
        "  total_positives_labels = np.array(total_positives_labels)\n",
        "  total_negatives_preds = np.array(total_negatives_preds)\n",
        "  total_negatives_labels = np.array(total_negatives_labels)\n",
        "  \n",
        "  return (total_positives_preds, total_positives_labels,\n",
        "          total_negatives_preds, total_negatives_labels)\n",
        "\n",
        "\n",
        "class SeparatePositivesNegativesMseHistory(Callback):\n",
        "  \n",
        "  def __init__(self, datasetname, datagenerator, interval_of_evaluation):\n",
        "    self.datasetname = datasetname\n",
        "    self.datagenerator = datagenerator\n",
        "    self.interval_of_evaluation = interval_of_evaluation\n",
        "    self.batches_since_last_eval = 0\n",
        "    self.positives_mse_history = []\n",
        "    self.recentered_positives_mse_history = []\n",
        "    self.positives_spearman_history = []\n",
        "    self.negatives_mse_history = []\n",
        "    self.recentered_negatives_mse_history = []\n",
        "    \n",
        "  def on_batch_end(self, *args, **kwargs):\n",
        "    \n",
        "    self.batches_since_last_eval =(\n",
        "      (1+self.batches_since_last_eval)%self.interval_of_evaluation)\n",
        "    \n",
        "    if (self.batches_since_last_eval==0):   \n",
        "      \n",
        "      (total_positives_preds, total_positives_labels,\n",
        "        total_negatives_preds, total_negatives_labels) = (\n",
        "        predict_on_datagenerator(datagenerator=self.datagenerator,\n",
        "                                 model=self.model))\n",
        "         \n",
        "      num_positives = len(total_positives_preds)\n",
        "      num_negatives = len(total_negatives_preds)\n",
        "      \n",
        "      positives_mse = np.mean(\n",
        "          np.square(total_positives_preds-total_positives_labels))\n",
        "      negatives_mse = np.mean(\n",
        "          np.square(total_negatives_preds-total_negatives_labels))\n",
        "      recentered_positives_mse = np.mean(\n",
        "          np.square((total_positives_preds-np.mean(total_positives_preds))\n",
        "                    -(total_positives_labels-np.mean(total_positives_labels))))\n",
        "      recentered_negatives_mse = np.mean(\n",
        "          np.square((total_negatives_preds-np.mean(total_negatives_preds))\n",
        "                    -(total_negatives_labels-np.mean(total_negatives_labels))))\n",
        "      \n",
        "      positives_spearman = spearmanr(a=total_positives_preds,\n",
        "                                     b=total_positives_labels)[0]\n",
        "      \n",
        "      self.positives_spearman_history.append(positives_spearman)\n",
        "      self.positives_mse_history.append(positives_mse)\n",
        "      self.recentered_positives_mse_history.append(recentered_positives_mse)\n",
        "      self.negatives_mse_history.append(negatives_mse)\n",
        "      self.recentered_negatives_mse_history.append(recentered_negatives_mse)\n",
        "\n",
        "      print(\"\\n\"+self.datasetname+\": Mean mse over\",num_positives,\n",
        "            \"positives is\",positives_mse,\n",
        "            \"recentered\",recentered_positives_mse)\n",
        "      print(self.datasetname+\": positives spearman\",positives_spearman)\n",
        "      print(self.datasetname+\": Mean mse over\",num_negatives,\n",
        "            \"negatives is\",negatives_mse,\n",
        "            \"recentered\",recentered_negatives_mse)\n",
        "    \n",
        "\n",
        "class CatchOverfittingOnPositives(SeparatePositivesNegativesMseHistory):\n",
        "  \n",
        "  def __init__(self, validation_data, interval_of_evaluation, patience):\n",
        "    super(CatchOverfittingOnPositives, self).__init__(\n",
        "        datasetname=\"validation set\",\n",
        "        datagenerator=validation_data,\n",
        "        interval_of_evaluation=interval_of_evaluation)\n",
        "    self.patience = patience\n",
        "    self.rounds_waited = 0\n",
        "    self.best_positives_loss = None\n",
        "    self.best_weights = None\n",
        "    self.stopped_epoch = None\n",
        "    \n",
        "  def on_batch_end(self, *args, **kwargs):\n",
        "    \n",
        "    super(CatchOverfittingOnPositives, self).on_batch_end(*args, **kwargs)\n",
        "    if (self.batches_since_last_eval==0):  \n",
        "      recentered_positives_mse = self.recentered_positives_mse_history[-1]\n",
        "      if (self.best_positives_loss is None or\n",
        "          self.best_positives_loss >= recentered_positives_mse):\n",
        "        self.best_weights = self.model.get_weights()\n",
        "        self.best_positives_loss = recentered_positives_mse\n",
        "        self.rounds_waited = 0\n",
        "      else:\n",
        "        self.rounds_waited += 1\n",
        "        if (self.rounds_waited >= self.patience):\n",
        "          self.model.stop_training = True\n",
        "          print(\"Restoring weights from the best round\")\n",
        "          self.model.set_weights(self.best_weights)\n",
        "    \n",
        "\n",
        "def manual_mse(y_true, y_pred):\n",
        "  return K.mean(K.square(y_pred-y_true), axis=-1)\n",
        "\n",
        "def mse_on_positives(y_true, y_pred):\n",
        "  the_mask = tf.greater(y_true, 0.0)\n",
        "  masked_y_true = tf.boolean_mask(y_true, the_mask)\n",
        "  masked_y_pred = tf.boolean_mask(y_pred, the_mask)\n",
        "  return K.mean(K.square(masked_y_pred-masked_y_true),axis=-1)\n",
        "\n",
        "def mse_on_negatives(y_true, y_pred):\n",
        "  the_mask = tf.equal(y_true, 0.0)\n",
        "  masked_y_true = tf.boolean_mask(y_true, the_mask)\n",
        "  masked_y_pred = tf.boolean_mask(y_pred, the_mask)\n",
        "  return K.mean(K.square(masked_y_pred-masked_y_true),axis=-1)\n",
        "\n",
        "\n",
        "def get_model(num_conv_filters,\n",
        "              conv_filter_length,\n",
        "              pool_length_and_stride,\n",
        "              num_dense_units,\n",
        "              adam_lr):\n",
        "  input = keras.layers.Input(shape=(1000,4), name=\"sequence\")\n",
        "  conv1 = keras.layers.convolutional.Conv1D(\n",
        "              filters=num_conv_filters, kernel_size=conv_filter_length,\n",
        "              padding=\"same\")(input)\n",
        "  conv1batchnorm = keras.layers.normalization.BatchNormalization()(conv1)\n",
        "  conv1relu = keras.layers.core.Activation(activation=\"relu\")(conv1batchnorm)\n",
        "  conv2 = keras.layers.convolutional.Conv1D(\n",
        "              filters=num_conv_filters,\n",
        "              kernel_size=conv_filter_length,\n",
        "              padding=\"same\")(conv1relu)\n",
        "  conv2batchnorm = keras.layers.normalization.BatchNormalization()(conv2)\n",
        "  conv2relu = keras.layers.core.Activation(activation=\"relu\")(conv2batchnorm)\n",
        "  conv3 = keras.layers.convolutional.Conv1D(\n",
        "              filters=num_conv_filters,\n",
        "              kernel_size=conv_filter_length,\n",
        "              padding=\"same\")(conv2relu)\n",
        "  conv3batchnorm = keras.layers.normalization.BatchNormalization()(conv3)\n",
        "  conv3relu = keras.layers.core.Activation(activation=\"relu\")(conv3batchnorm)\n",
        "  avgpool = keras.layers.convolutional.AveragePooling1D(\n",
        "                pool_size=pool_length_and_stride,\n",
        "                strides=pool_length_and_stride)(conv3relu)\n",
        "  flatten = keras.layers.core.Flatten()(avgpool)\n",
        "  dense1 = keras.layers.core.Dense(units=num_dense_units)(flatten)\n",
        "  dense1relu = keras.layers.core.Activation(activation=\"relu\")(dense1)\n",
        "  dense2 = keras.layers.core.Dense(units=num_dense_units)(dense1relu)\n",
        "  dense2relu = keras.layers.core.Activation(activation=\"relu\")(dense2)\n",
        "  output = keras.layers.core.Dense(units=1,\n",
        "                                   name=\"output\")(dense2relu)\n",
        "  conv_model = keras.models.Model(inputs=input, outputs=output)\n",
        "  conv_model.compile(optimizer=keras.optimizers.Adam(lr=adam_lr),\n",
        "                     loss={\"output\": \"mse\"},\n",
        "                     metrics=[mse_on_positives,\n",
        "                              mse_on_negatives,\n",
        "                              manual_mse])\n",
        "  return conv_model\n",
        "\n",
        "conv_model = get_model(num_conv_filters=30,\n",
        "                       conv_filter_length=15,\n",
        "                       pool_length_and_stride=40,\n",
        "                       num_dense_units=30,\n",
        "                       adam_lr=0.0001)\n",
        "\n",
        "conv_model.summary()\n",
        "early_stopping_callback = CatchOverfittingOnPositives(\n",
        "                              validation_data=valid_batch_generator,\n",
        "                              interval_of_evaluation=len(train_batch_generator),\n",
        "                              patience=20)\n",
        "fit_history = conv_model.fit_generator(\n",
        "  #x=train_batch_generator[0][0],\n",
        "  #y=train_batch_generator[0][1],\n",
        "  generator=train_batch_generator,\n",
        "  epochs=300,\n",
        "  callbacks=[early_stopping_callback,\n",
        "             SeparatePositivesNegativesMseHistory(\n",
        "              datasetname=\"minitrain\",\n",
        "              datagenerator=train_batch_generator,\n",
        "              interval_of_evaluation=len(train_batch_generator))]\n",
        ")\n",
        "#the callback isn't triggered if the upper epoch limit is hit,\n",
        "# so make sure the set the weights from the best epoch at the end\n",
        "conv_model.set_weights(early_stopping_callback.best_weights)"
      ],
      "execution_count": 7,
      "outputs": [
        {
          "output_type": "stream",
          "text": [
            "Model: \"model_5\"\n",
            "_________________________________________________________________\n",
            "Layer (type)                 Output Shape              Param #   \n",
            "=================================================================\n",
            "sequence (InputLayer)        (None, 1000, 4)           0         \n",
            "_________________________________________________________________\n",
            "conv1d_13 (Conv1D)           (None, 1000, 30)          1830      \n",
            "_________________________________________________________________\n",
            "batch_normalization_13 (Batc (None, 1000, 30)          120       \n",
            "_________________________________________________________________\n",
            "activation_21 (Activation)   (None, 1000, 30)          0         \n",
            "_________________________________________________________________\n",
            "conv1d_14 (Conv1D)           (None, 1000, 30)          13530     \n",
            "_________________________________________________________________\n",
            "batch_normalization_14 (Batc (None, 1000, 30)          120       \n",
            "_________________________________________________________________\n",
            "activation_22 (Activation)   (None, 1000, 30)          0         \n",
            "_________________________________________________________________\n",
            "conv1d_15 (Conv1D)           (None, 1000, 30)          13530     \n",
            "_________________________________________________________________\n",
            "batch_normalization_15 (Batc (None, 1000, 30)          120       \n",
            "_________________________________________________________________\n",
            "activation_23 (Activation)   (None, 1000, 30)          0         \n",
            "_________________________________________________________________\n",
            "average_pooling1d_5 (Average (None, 25, 30)            0         \n",
            "_________________________________________________________________\n",
            "flatten_5 (Flatten)          (None, 750)               0         \n",
            "_________________________________________________________________\n",
            "dense_9 (Dense)              (None, 30)                22530     \n",
            "_________________________________________________________________\n",
            "activation_24 (Activation)   (None, 30)                0         \n",
            "_________________________________________________________________\n",
            "dense_10 (Dense)             (None, 30)                930       \n",
            "_________________________________________________________________\n",
            "activation_25 (Activation)   (None, 30)                0         \n",
            "_________________________________________________________________\n",
            "output (Dense)               (None, 1)                 31        \n",
            "=================================================================\n",
            "Total params: 52,741\n",
            "Trainable params: 52,561\n",
            "Non-trainable params: 180\n",
            "_________________________________________________________________\n",
            "Epoch 1/300\n",
            "978/979 [============================>.] - ETA: 0s - loss: 0.3724 - mse_on_positives: 0.5399 - mse_on_negatives: 0.2049 - manual_mse: 0.3724"
          ],
          "name": "stdout"
        },
        {
          "output_type": "stream",
          "text": [
            "\r  0%|          | 0/718 [00:00<?, ?it/s]"
          ],
          "name": "stderr"
        },
        {
          "output_type": "stream",
          "text": [
            "Using an offset of  8  before striding\n"
          ],
          "name": "stdout"
        },
        {
          "output_type": "stream",
          "text": [
            "100%|██████████| 718/718 [00:37<00:00, 19.39it/s]\n",
            "  0%|          | 0/979 [00:00<?, ?it/s]"
          ],
          "name": "stderr"
        },
        {
          "output_type": "stream",
          "text": [
            "\n",
            "validation set: Mean mse over 6127 positives is 0.41459083803529845 recentered 0.37599956260215495\n",
            "validation set: positives spearman 0.2610809876340915\n",
            "validation set: Mean mse over 39818 negatives is 0.3363331005212134 recentered 0.104417537793224\n"
          ],
          "name": "stdout"
        },
        {
          "output_type": "stream",
          "text": [
            "100%|██████████| 979/979 [01:37<00:00, 11.76it/s]"
          ],
          "name": "stderr"
        },
        {
          "output_type": "stream",
          "text": [
            "\n",
            "minitrain: Mean mse over 62604 positives is 0.419852476774897 recentered 0.37827315173140286\n",
            "minitrain: positives spearman 0.2768180784081128\n",
            "minitrain: Mean mse over 62584 negatives is 0.3352549019752822 recentered 0.06187160328338523\n",
            "\b\b\b\b\b\b\b\b\b\b\b\b\b\b\b\b\b\b\b\b\b\b\b\b\b\b\b\b\b\b\b\b\b\b\b\b\b\b\b\b\b\b\b\b\b\b\b\b\b\b\b\b\b\b\b\b\b\b\b\b\b\b\b\b\b\b\b\b\b\b\b\b\b\b\b\b\b\b\b\b\b\b\b\b\b\b\b\b\b\b\b\b\b\b\b\b\b\b\b\b\b\b\b\b\b\b\b\b\b\b\b\b\b\b\b\b\b\b\b\b\b\b\b\b\b\b\b\b\b\b\b\b\b\b\b\b\b\b\b\b\r979/979 [==============================] - 234s 239ms/step - loss: 0.3724 - mse_on_positives: 0.5398 - mse_on_negatives: 0.2049 - manual_mse: 0.3724\n"
          ],
          "name": "stdout"
        },
        {
          "output_type": "stream",
          "text": [
            "\n"
          ],
          "name": "stderr"
        },
        {
          "output_type": "stream",
          "text": [
            "Epoch 2/300\n",
            "978/979 [============================>.] - ETA: 0s - loss: 0.3429 - mse_on_positives: 0.5043 - mse_on_negatives: 0.1815 - manual_mse: 0.3429Using an offset of  9  before striding\n"
          ],
          "name": "stdout"
        },
        {
          "output_type": "stream",
          "text": [
            "100%|██████████| 718/718 [00:38<00:00, 20.53it/s]\n",
            "  0%|          | 2/979 [00:00<01:33, 10.44it/s]"
          ],
          "name": "stderr"
        },
        {
          "output_type": "stream",
          "text": [
            "\n",
            "validation set: Mean mse over 6127 positives is 0.5432309367385423 recentered 0.38155455299088814\n",
            "validation set: positives spearman 0.25312682537728837\n",
            "validation set: Mean mse over 39818 negatives is 0.13933169164761844 recentered 0.06641497633417535\n"
          ],
          "name": "stdout"
        },
        {
          "output_type": "stream",
          "text": [
            "100%|██████████| 979/979 [01:36<00:00, 11.67it/s]"
          ],
          "name": "stderr"
        },
        {
          "output_type": "stream",
          "text": [
            "\n",
            "minitrain: Mean mse over 62604 positives is 0.5575368985014083 recentered 0.3791843946642904\n",
            "minitrain: positives spearman 0.2936150295867173\n",
            "minitrain: Mean mse over 62584 negatives is 0.11679816519097398 recentered 0.04976693396518148\n",
            "\b\b\b\b\b\b\b\b\b\b\b\b\b\b\b\b\b\b\b\b\b\b\b\b\b\b\b\b\b\b\b\b\b\b\b\b\b\b\b\b\b\b\b\b\b\b\b\b\b\b\b\b\b\b\b\b\b\b\b\b\b\b\b\b\b\b\b\b\b\b\b\b\b\b\b\b\b\b\b\b\b\b\b\b\b\b\b\b\b\b\b\b\b\b\b\b\b\b\b\b\b\b\b\b\b\b\b\b\b\b\b\b\b\b\b\b\b\b\b\b\b\b\b\b\b\b\b\b\b\b\b\b\b\b\b\b\b\b\b\b\r979/979 [==============================] - 232s 237ms/step - loss: 0.3428 - mse_on_positives: 0.5041 - mse_on_negatives: 0.1815 - manual_mse: 0.3428\n"
          ],
          "name": "stdout"
        },
        {
          "output_type": "stream",
          "text": [
            "\n"
          ],
          "name": "stderr"
        },
        {
          "output_type": "stream",
          "text": [
            "Epoch 3/300\n",
            "978/979 [============================>.] - ETA: 0s - loss: 0.3252 - mse_on_positives: 0.4837 - mse_on_negatives: 0.1667 - manual_mse: 0.3252Using an offset of  10  before striding\n"
          ],
          "name": "stdout"
        },
        {
          "output_type": "stream",
          "text": [
            "100%|██████████| 718/718 [00:36<00:00, 19.67it/s]\n",
            "  0%|          | 2/979 [00:00<01:35, 10.27it/s]"
          ],
          "name": "stderr"
        },
        {
          "output_type": "stream",
          "text": [
            "\n",
            "validation set: Mean mse over 6127 positives is 0.6449335479748024 recentered 0.39363993760847704\n",
            "validation set: positives spearman 0.18714911722349406\n",
            "validation set: Mean mse over 39818 negatives is 0.08490415783342256 recentered 0.04826400590110953\n"
          ],
          "name": "stdout"
        },
        {
          "output_type": "stream",
          "text": [
            "100%|██████████| 979/979 [01:37<00:00, 11.90it/s]"
          ],
          "name": "stderr"
        },
        {
          "output_type": "stream",
          "text": [
            "\n",
            "minitrain: Mean mse over 62604 positives is 0.5861605222317117 recentered 0.3765137352868328\n",
            "minitrain: positives spearman 0.26833430065113467\n",
            "minitrain: Mean mse over 62584 negatives is 0.09139830007802452 recentered 0.0424979300251708\n",
            "\b\b\b\b\b\b\b\b\b\b\b\b\b\b\b\b\b\b\b\b\b\b\b\b\b\b\b\b\b\b\b\b\b\b\b\b\b\b\b\b\b\b\b\b\b\b\b\b\b\b\b\b\b\b\b\b\b\b\b\b\b\b\b\b\b\b\b\b\b\b\b\b\b\b\b\b\b\b\b\b\b\b\b\b\b\b\b\b\b\b\b\b\b\b\b\b\b\b\b\b\b\b\b\b\b\b\b\b\b\b\b\b\b\b\b\b\b\b\b\b\b\b\b\b\b\b\b\b\b\b\b\b\b\b\b\b\b\b\b\b\r979/979 [==============================] - 231s 236ms/step - loss: 0.3252 - mse_on_positives: 0.4837 - mse_on_negatives: 0.1666 - manual_mse: 0.3252\n"
          ],
          "name": "stdout"
        },
        {
          "output_type": "stream",
          "text": [
            "\n"
          ],
          "name": "stderr"
        },
        {
          "output_type": "stream",
          "text": [
            "Epoch 4/300\n",
            "978/979 [============================>.] - ETA: 0s - loss: 0.3138 - mse_on_positives: 0.4715 - mse_on_negatives: 0.1560 - manual_mse: 0.3138"
          ],
          "name": "stdout"
        },
        {
          "output_type": "stream",
          "text": [
            "\r  0%|          | 0/718 [00:00<?, ?it/s]"
          ],
          "name": "stderr"
        },
        {
          "output_type": "stream",
          "text": [
            "Using an offset of  11  before striding\n"
          ],
          "name": "stdout"
        },
        {
          "output_type": "stream",
          "text": [
            "100%|██████████| 718/718 [00:37<00:00, 19.31it/s]\n",
            "  0%|          | 1/979 [00:00<01:38,  9.91it/s]"
          ],
          "name": "stderr"
        },
        {
          "output_type": "stream",
          "text": [
            "\n",
            "validation set: Mean mse over 6127 positives is 0.39864208443027005 recentered 0.39403034837836204\n",
            "validation set: positives spearman 0.23390741198732298\n",
            "validation set: Mean mse over 39818 negatives is 0.3271029393585282 recentered 0.13049730382300237\n"
          ],
          "name": "stdout"
        },
        {
          "output_type": "stream",
          "text": [
            "100%|██████████| 979/979 [01:37<00:00, 10.03it/s]"
          ],
          "name": "stderr"
        },
        {
          "output_type": "stream",
          "text": [
            "\n",
            "minitrain: Mean mse over 62604 positives is 0.3778209170019422 recentered 0.37410073783057574\n",
            "minitrain: positives spearman 0.3176923618257737\n",
            "minitrain: Mean mse over 62584 negatives is 0.31414601170873635 recentered 0.0972863772653197\n",
            "979/979 [==============================] - 233s 238ms/step - loss: 0.3140 - mse_on_positives: 0.4719 - mse_on_negatives: 0.1560 - manual_mse: 0.3140\n",
            "Epoch 5/300\n",
            "  1/979 [..............................] - ETA: 45s - loss: 0.3328 - mse_on_positives: 0.4995 - mse_on_negatives: 0.1662 - manual_mse: 0.3328"
          ],
          "name": "stdout"
        },
        {
          "output_type": "stream",
          "text": [
            "\n"
          ],
          "name": "stderr"
        },
        {
          "output_type": "stream",
          "text": [
            "978/979 [============================>.] - ETA: 0s - loss: 0.3002 - mse_on_positives: 0.4541 - mse_on_negatives: 0.1462 - manual_mse: 0.3002"
          ],
          "name": "stdout"
        },
        {
          "output_type": "stream",
          "text": [
            "\r  0%|          | 0/718 [00:00<?, ?it/s]"
          ],
          "name": "stderr"
        },
        {
          "output_type": "stream",
          "text": [
            "Using an offset of  12  before striding\n"
          ],
          "name": "stdout"
        },
        {
          "output_type": "stream",
          "text": [
            "100%|██████████| 718/718 [00:36<00:00, 19.69it/s]\n",
            "  0%|          | 2/979 [00:00<01:35, 10.26it/s]"
          ],
          "name": "stderr"
        },
        {
          "output_type": "stream",
          "text": [
            "\n",
            "validation set: Mean mse over 6127 positives is 0.8247897266582871 recentered 0.3867424439706794\n",
            "validation set: positives spearman 0.23203428038490148\n",
            "validation set: Mean mse over 39818 negatives is 0.030911577135946125 recentered 0.02796441861663919\n"
          ],
          "name": "stdout"
        },
        {
          "output_type": "stream",
          "text": [
            "100%|██████████| 979/979 [01:37<00:00, 11.77it/s]"
          ],
          "name": "stderr"
        },
        {
          "output_type": "stream",
          "text": [
            "\n",
            "minitrain: Mean mse over 62604 positives is 0.7858415147343946 recentered 0.3573456177292677\n",
            "minitrain: positives spearman 0.33659111443859185\n",
            "minitrain: Mean mse over 62584 negatives is 0.024651130515595893 recentered 0.023921936999668714\n",
            "\b\b\b\b\b\b\b\b\b\b\b\b\b\b\b\b\b\b\b\b\b\b\b\b\b\b\b\b\b\b\b\b\b\b\b\b\b\b\b\b\b\b\b\b\b\b\b\b\b\b\b\b\b\b\b\b\b\b\b\b\b\b\b\b\b\b\b\b\b\b\b\b\b\b\b\b\b\b\b\b\b\b\b\b\b\b\b\b\b\b\b\b\b\b\b\b\b\b\b\b\b\b\b\b\b\b\b\b\b\b\b\b\b\b\b\b\b\b\b\b\b\b\b\b\b\b\b\b\b\b\b\b\b\b\b\b\b\b\b\b\r979/979 [==============================] - 231s 236ms/step - loss: 0.3002 - mse_on_positives: 0.4542 - mse_on_negatives: 0.1462 - manual_mse: 0.3002\n"
          ],
          "name": "stdout"
        },
        {
          "output_type": "stream",
          "text": [
            "\n"
          ],
          "name": "stderr"
        },
        {
          "output_type": "stream",
          "text": [
            "Epoch 6/300\n",
            "978/979 [============================>.] - ETA: 0s - loss: 0.2866 - mse_on_positives: 0.4374 - mse_on_negatives: 0.1358 - manual_mse: 0.2866"
          ],
          "name": "stdout"
        },
        {
          "output_type": "stream",
          "text": [
            "\r  0%|          | 0/718 [00:00<?, ?it/s]"
          ],
          "name": "stderr"
        },
        {
          "output_type": "stream",
          "text": [
            "Using an offset of  13  before striding\n"
          ],
          "name": "stdout"
        },
        {
          "output_type": "stream",
          "text": [
            "100%|██████████| 718/718 [00:36<00:00, 19.62it/s]\n",
            "  0%|          | 1/979 [00:00<01:37,  9.98it/s]"
          ],
          "name": "stderr"
        },
        {
          "output_type": "stream",
          "text": [
            "\n",
            "validation set: Mean mse over 6127 positives is 0.4528219391698508 recentered 0.40929675444812086\n",
            "validation set: positives spearman 0.2263775002671138\n",
            "validation set: Mean mse over 39818 negatives is 0.18162304344981972 recentered 0.09404391211873193\n"
          ],
          "name": "stdout"
        },
        {
          "output_type": "stream",
          "text": [
            "100%|██████████| 979/979 [01:38<00:00,  9.92it/s]"
          ],
          "name": "stderr"
        },
        {
          "output_type": "stream",
          "text": [
            "\n",
            "minitrain: Mean mse over 62604 positives is 0.3920476710820418 recentered 0.35548237120823806\n",
            "minitrain: positives spearman 0.3613019829819041\n",
            "minitrain: Mean mse over 62584 negatives is 0.15957739244903596 recentered 0.07376380331643287\n",
            "979/979 [==============================] - 233s 238ms/step - loss: 0.2867 - mse_on_positives: 0.4376 - mse_on_negatives: 0.1358 - manual_mse: 0.2867\n",
            "Epoch 7/300\n",
            "  1/979 [..............................] - ETA: 43s - loss: 0.2119 - mse_on_positives: 0.2694 - mse_on_negatives: 0.1544 - manual_mse: 0.2119"
          ],
          "name": "stdout"
        },
        {
          "output_type": "stream",
          "text": [
            "\n"
          ],
          "name": "stderr"
        },
        {
          "output_type": "stream",
          "text": [
            "978/979 [============================>.] - ETA: 0s - loss: 0.2731 - mse_on_positives: 0.4191 - mse_on_negatives: 0.1270 - manual_mse: 0.2731"
          ],
          "name": "stdout"
        },
        {
          "output_type": "stream",
          "text": [
            "\r  0%|          | 0/718 [00:00<?, ?it/s]"
          ],
          "name": "stderr"
        },
        {
          "output_type": "stream",
          "text": [
            "Using an offset of  14  before striding\n"
          ],
          "name": "stdout"
        },
        {
          "output_type": "stream",
          "text": [
            "100%|██████████| 718/718 [00:37<00:00, 19.73it/s]\n",
            "  0%|          | 1/979 [00:00<01:40,  9.77it/s]"
          ],
          "name": "stderr"
        },
        {
          "output_type": "stream",
          "text": [
            "\n",
            "validation set: Mean mse over 6127 positives is 0.894370610856294 recentered 0.4189257043842399\n",
            "validation set: positives spearman 0.17519966431961576\n",
            "validation set: Mean mse over 39818 negatives is 1.3272770736085289 recentered 0.39518031633699374\n"
          ],
          "name": "stdout"
        },
        {
          "output_type": "stream",
          "text": [
            "100%|██████████| 979/979 [01:37<00:00, 10.06it/s]"
          ],
          "name": "stderr"
        },
        {
          "output_type": "stream",
          "text": [
            "\n",
            "minitrain: Mean mse over 62604 positives is 0.9287534090403728 recentered 0.3557862367171751\n",
            "minitrain: positives spearman 0.343011202114544\n",
            "minitrain: Mean mse over 62584 negatives is 1.4866669290656165 recentered 0.23301456270514614\n",
            "979/979 [==============================] - 232s 237ms/step - loss: 0.2731 - mse_on_positives: 0.4191 - mse_on_negatives: 0.1270 - manual_mse: 0.2731\n",
            "Epoch 8/300\n",
            "  1/979 [..............................] - ETA: 47s - loss: 0.2550 - mse_on_positives: 0.4285 - mse_on_negatives: 0.0815 - manual_mse: 0.2550"
          ],
          "name": "stdout"
        },
        {
          "output_type": "stream",
          "text": [
            "\n"
          ],
          "name": "stderr"
        },
        {
          "output_type": "stream",
          "text": [
            "978/979 [============================>.] - ETA: 0s - loss: 0.2628 - mse_on_positives: 0.4056 - mse_on_negatives: 0.1199 - manual_mse: 0.2628"
          ],
          "name": "stdout"
        },
        {
          "output_type": "stream",
          "text": [
            "\r  0%|          | 0/718 [00:00<?, ?it/s]"
          ],
          "name": "stderr"
        },
        {
          "output_type": "stream",
          "text": [
            "Using an offset of  15  before striding\n"
          ],
          "name": "stdout"
        },
        {
          "output_type": "stream",
          "text": [
            "100%|██████████| 718/718 [00:37<00:00, 20.18it/s]\n",
            "  0%|          | 1/979 [00:00<01:49,  8.95it/s]"
          ],
          "name": "stderr"
        },
        {
          "output_type": "stream",
          "text": [
            "\n",
            "validation set: Mean mse over 6127 positives is 0.4820338870489383 recentered 0.4423375990205671\n",
            "validation set: positives spearman 0.2502899889121203\n",
            "validation set: Mean mse over 39818 negatives is 0.45897703547446655 recentered 0.21630606385496282\n"
          ],
          "name": "stdout"
        },
        {
          "output_type": "stream",
          "text": [
            "100%|██████████| 979/979 [01:37<00:00, 10.06it/s]"
          ],
          "name": "stderr"
        },
        {
          "output_type": "stream",
          "text": [
            "\n",
            "minitrain: Mean mse over 62604 positives is 0.39654969431491155 recentered 0.35841759795876516\n",
            "minitrain: positives spearman 0.41270964860092063\n",
            "minitrain: Mean mse over 62584 negatives is 0.38253295516187374 recentered 0.15302162703190156\n",
            "\b\b\b\b\b\b\b\b\b\b\b\b\b\b\b\b\b\b\b\b\b\b\b\b\b\b\b\b\b\b\b\b\b\b\b\b\b\b\b\b\b\b\b\b\b\b\b\b\b\b\b\b\b\b\b\b\b\b\b\b\b\b\b\b\b\b\b\b\b\b\b\b\b\b\b\b\b\b\b\b\b\b\b\b\b\b\b\b\b\b\b\b\b\b\b\b\b\b\b\b\b\b\b\b\b\b\b\b\b\b\b\b\b\b\b\b\b\b\b\b\b\b\b\b\b\b\b\b\b\b\b\b\b\b\b\b\b\b\b\b\r979/979 [==============================] - 232s 237ms/step - loss: 0.2628 - mse_on_positives: 0.4056 - mse_on_negatives: 0.1199 - manual_mse: 0.2628\n"
          ],
          "name": "stdout"
        },
        {
          "output_type": "stream",
          "text": [
            "\n"
          ],
          "name": "stderr"
        },
        {
          "output_type": "stream",
          "text": [
            "Epoch 9/300\n",
            "978/979 [============================>.] - ETA: 0s - loss: 0.2530 - mse_on_positives: 0.3908 - mse_on_negatives: 0.1151 - manual_mse: 0.2530Using an offset of  16  before striding\n"
          ],
          "name": "stdout"
        },
        {
          "output_type": "stream",
          "text": [
            "100%|██████████| 718/718 [00:36<00:00, 19.54it/s]\n",
            "  0%|          | 1/979 [00:00<01:37,  9.99it/s]"
          ],
          "name": "stderr"
        },
        {
          "output_type": "stream",
          "text": [
            "\n",
            "validation set: Mean mse over 6127 positives is 0.4625712718037623 recentered 0.4435843601744016\n",
            "validation set: positives spearman 0.2032284441136462\n",
            "validation set: Mean mse over 39818 negatives is 0.1958196178761262 recentered 0.10987765760425759\n"
          ],
          "name": "stdout"
        },
        {
          "output_type": "stream",
          "text": [
            "100%|██████████| 979/979 [01:37<00:00, 11.56it/s]"
          ],
          "name": "stderr"
        },
        {
          "output_type": "stream",
          "text": [
            "\n",
            "minitrain: Mean mse over 62604 positives is 0.3321163621141795 recentered 0.3273840739981389\n",
            "minitrain: positives spearman 0.4155633324745053\n",
            "minitrain: Mean mse over 62584 negatives is 0.1853105010016543 recentered 0.0895754256566627\n",
            "\b\b\b\b\b\b\b\b\b\b\b\b\b\b\b\b\b\b\b\b\b\b\b\b\b\b\b\b\b\b\b\b\b\b\b\b\b\b\b\b\b\b\b\b\b\b\b\b\b\b\b\b\b\b\b\b\b\b\b\b\b\b\b\b\b\b\b\b\b\b\b\b\b\b\b\b\b\b\b\b\b\b\b\b\b\b\b\b\b\b\b\b\b\b\b\b\b\b\b\b\b\b\b\b\b\b\b\b\b\b\b\b\b\b\b\b\b\b\b\b\b\b\b\b\b\b\b\b\b\b\b\b\b\b\b\b\b\b\b\b\r979/979 [==============================] - 231s 236ms/step - loss: 0.2529 - mse_on_positives: 0.3907 - mse_on_negatives: 0.1151 - manual_mse: 0.2529\n"
          ],
          "name": "stdout"
        },
        {
          "output_type": "stream",
          "text": [
            "\n"
          ],
          "name": "stderr"
        },
        {
          "output_type": "stream",
          "text": [
            "Epoch 10/300\n",
            "978/979 [============================>.] - ETA: 0s - loss: 0.2440 - mse_on_positives: 0.3778 - mse_on_negatives: 0.1101 - manual_mse: 0.2440"
          ],
          "name": "stdout"
        },
        {
          "output_type": "stream",
          "text": [
            "\r  0%|          | 0/718 [00:00<?, ?it/s]"
          ],
          "name": "stderr"
        },
        {
          "output_type": "stream",
          "text": [
            "Using an offset of  17  before striding\n"
          ],
          "name": "stdout"
        },
        {
          "output_type": "stream",
          "text": [
            "100%|██████████| 718/718 [00:36<00:00, 19.70it/s]\n",
            "  0%|          | 1/979 [00:00<01:39,  9.87it/s]"
          ],
          "name": "stderr"
        },
        {
          "output_type": "stream",
          "text": [
            "\n",
            "validation set: Mean mse over 6127 positives is 0.7832981962935301 recentered 0.4061137924835004\n",
            "validation set: positives spearman 0.20664819310176508\n",
            "validation set: Mean mse over 39818 negatives is 0.0298164337931958 recentered 0.027649218152397355\n"
          ],
          "name": "stdout"
        },
        {
          "output_type": "stream",
          "text": [
            "100%|██████████| 979/979 [01:36<00:00, 11.69it/s]"
          ],
          "name": "stderr"
        },
        {
          "output_type": "stream",
          "text": [
            "\n",
            "minitrain: Mean mse over 62604 positives is 0.6268224614564022 recentered 0.30555195303991955\n",
            "minitrain: positives spearman 0.4240619705831818\n",
            "minitrain: Mean mse over 62584 negatives is 0.02403346029473822 recentered 0.022965658521954566\n",
            "\b\b\b\b\b\b\b\b\b\b\b\b\b\b\b\b\b\b\b\b\b\b\b\b\b\b\b\b\b\b\b\b\b\b\b\b\b\b\b\b\b\b\b\b\b\b\b\b\b\b\b\b\b\b\b\b\b\b\b\b\b\b\b\b\b\b\b\b\b\b\b\b\b\b\b\b\b\b\b\b\b\b\b\b\b\b\b\b\b\b\b\b\b\b\b\b\b\b\b\b\b\b\b\b\b\b\b\b\b\b\b\b\b\b\b\b\b\b\b\b\b\b\b\b\b\b\b\b\b\b\b\b\b\b\b\b\b\b\b\b\r979/979 [==============================] - 230s 235ms/step - loss: 0.2439 - mse_on_positives: 0.3777 - mse_on_negatives: 0.1101 - manual_mse: 0.2439\n"
          ],
          "name": "stdout"
        },
        {
          "output_type": "stream",
          "text": [
            "\n"
          ],
          "name": "stderr"
        },
        {
          "output_type": "stream",
          "text": [
            "Epoch 11/300\n",
            "978/979 [============================>.] - ETA: 0s - loss: 0.2347 - mse_on_positives: 0.3628 - mse_on_negatives: 0.1065 - manual_mse: 0.2347"
          ],
          "name": "stdout"
        },
        {
          "output_type": "stream",
          "text": [
            "\r  0%|          | 0/718 [00:00<?, ?it/s]"
          ],
          "name": "stderr"
        },
        {
          "output_type": "stream",
          "text": [
            "Using an offset of  18  before striding\n"
          ],
          "name": "stdout"
        },
        {
          "output_type": "stream",
          "text": [
            "100%|██████████| 718/718 [00:36<00:00, 19.75it/s]\n",
            "  0%|          | 1/979 [00:00<01:39,  9.84it/s]"
          ],
          "name": "stderr"
        },
        {
          "output_type": "stream",
          "text": [
            "\n",
            "validation set: Mean mse over 6127 positives is 0.5136363405854126 recentered 0.45173989168933526\n",
            "validation set: positives spearman 0.21129652273409566\n",
            "validation set: Mean mse over 39818 negatives is 0.13065988309509974 recentered 0.0811901231860693\n"
          ],
          "name": "stdout"
        },
        {
          "output_type": "stream",
          "text": [
            "100%|██████████| 979/979 [01:36<00:00, 11.87it/s]"
          ],
          "name": "stderr"
        },
        {
          "output_type": "stream",
          "text": [
            "\n",
            "minitrain: Mean mse over 62604 positives is 0.34092574785518914 recentered 0.3040491882128439\n",
            "minitrain: positives spearman 0.4588771269810121\n",
            "minitrain: Mean mse over 62584 negatives is 0.10705908880641765 recentered 0.061272441166215705\n",
            "\b\b\b\b\b\b\b\b\b\b\b\b\b\b\b\b\b\b\b\b\b\b\b\b\b\b\b\b\b\b\b\b\b\b\b\b\b\b\b\b\b\b\b\b\b\b\b\b\b\b\b\b\b\b\b\b\b\b\b\b\b\b\b\b\b\b\b\b\b\b\b\b\b\b\b\b\b\b\b\b\b\b\b\b\b\b\b\b\b\b\b\b\b\b\b\b\b\b\b\b\b\b\b\b\b\b\b\b\b\b\b\b\b\b\b\b\b\b\b\b\b\b\b\b\b\b\b\b\b\b\b\b\b\b\b\b\b\b\b\b\r979/979 [==============================] - 232s 237ms/step - loss: 0.2346 - mse_on_positives: 0.3625 - mse_on_negatives: 0.1066 - manual_mse: 0.2346\n"
          ],
          "name": "stdout"
        },
        {
          "output_type": "stream",
          "text": [
            "\n"
          ],
          "name": "stderr"
        },
        {
          "output_type": "stream",
          "text": [
            "Epoch 12/300\n",
            "978/979 [============================>.] - ETA: 0s - loss: 0.2293 - mse_on_positives: 0.3536 - mse_on_negatives: 0.1048 - manual_mse: 0.2293"
          ],
          "name": "stdout"
        },
        {
          "output_type": "stream",
          "text": [
            "\r  0%|          | 0/718 [00:00<?, ?it/s]"
          ],
          "name": "stderr"
        },
        {
          "output_type": "stream",
          "text": [
            "Using an offset of "
          ],
          "name": "stdout"
        },
        {
          "output_type": "stream",
          "text": [
            "\r  0%|          | 1/718 [00:00<01:12,  9.88it/s]"
          ],
          "name": "stderr"
        },
        {
          "output_type": "stream",
          "text": [
            " 19  before striding\n"
          ],
          "name": "stdout"
        },
        {
          "output_type": "stream",
          "text": [
            "100%|██████████| 718/718 [00:36<00:00, 19.67it/s]\n",
            "  0%|          | 2/979 [00:00<01:34, 10.30it/s]"
          ],
          "name": "stderr"
        },
        {
          "output_type": "stream",
          "text": [
            "\n",
            "validation set: Mean mse over 6127 positives is 0.562526922092955 recentered 0.5003445339768093\n",
            "validation set: positives spearman 0.22232512229473775\n",
            "validation set: Mean mse over 39818 negatives is 0.45326627121330576 recentered 0.2186204521577894\n"
          ],
          "name": "stdout"
        },
        {
          "output_type": "stream",
          "text": [
            "100%|██████████| 979/979 [01:38<00:00, 11.58it/s]"
          ],
          "name": "stderr"
        },
        {
          "output_type": "stream",
          "text": [
            "\n",
            "minitrain: Mean mse over 62604 positives is 0.4156877630138549 recentered 0.32110311456643303\n",
            "minitrain: positives spearman 0.47898913306406393\n",
            "minitrain: Mean mse over 62584 negatives is 0.3930797993261374 recentered 0.1606564690274058\n",
            "\b\b\b\b\b\b\b\b\b\b\b\b\b\b\b\b\b\b\b\b\b\b\b\b\b\b\b\b\b\b\b\b\b\b\b\b\b\b\b\b\b\b\b\b\b\b\b\b\b\b\b\b\b\b\b\b\b\b\b\b\b\b\b\b\b\b\b\b\b\b\b\b\b\b\b\b\b\b\b\b\b\b\b\b\b\b\b\b\b\b\b\b\b\b\b\b\b\b\b\b\b\b\b\b\b\b\b\b\b\b\b\b\b\b\b\b\b\b\b\b\b\b\b\b\b\b\b\b\b\b\b\b\b\b\b\b\b\b\b\b\r979/979 [==============================] - 232s 237ms/step - loss: 0.2293 - mse_on_positives: 0.3537 - mse_on_negatives: 0.1048 - manual_mse: 0.2293\n"
          ],
          "name": "stdout"
        },
        {
          "output_type": "stream",
          "text": [
            "\n"
          ],
          "name": "stderr"
        },
        {
          "output_type": "stream",
          "text": [
            "Epoch 13/300\n",
            "150/979 [===>..........................] - ETA: 1:20 - loss: 0.2254 - mse_on_positives: 0.3463 - mse_on_negatives: 0.1045 - manual_mse: 0.2254"
          ],
          "name": "stdout"
        },
        {
          "output_type": "error",
          "ename": "KeyboardInterrupt",
          "evalue": "ignored",
          "traceback": [
            "\u001b[0;31m---------------------------------------------------------------------------\u001b[0m",
            "\u001b[0;31mKeyboardInterrupt\u001b[0m                         Traceback (most recent call last)",
            "\u001b[0;32m<ipython-input-7-70b154c795d4>\u001b[0m in \u001b[0;36m<module>\u001b[0;34m()\u001b[0m\n\u001b[1;32m    199\u001b[0m               \u001b[0mdatasetname\u001b[0m\u001b[0;34m=\u001b[0m\u001b[0;34m\"minitrain\"\u001b[0m\u001b[0;34m,\u001b[0m\u001b[0;34m\u001b[0m\u001b[0;34m\u001b[0m\u001b[0m\n\u001b[1;32m    200\u001b[0m               \u001b[0mdatagenerator\u001b[0m\u001b[0;34m=\u001b[0m\u001b[0mtrain_batch_generator\u001b[0m\u001b[0;34m,\u001b[0m\u001b[0;34m\u001b[0m\u001b[0;34m\u001b[0m\u001b[0m\n\u001b[0;32m--> 201\u001b[0;31m               interval_of_evaluation=len(train_batch_generator))]\n\u001b[0m\u001b[1;32m    202\u001b[0m )\n\u001b[1;32m    203\u001b[0m \u001b[0;31m#the callback isn't triggered if the upper epoch limit is hit,\u001b[0m\u001b[0;34m\u001b[0m\u001b[0;34m\u001b[0m\u001b[0;34m\u001b[0m\u001b[0m\n",
            "\u001b[0;32m/usr/local/lib/python3.6/dist-packages/keras/legacy/interfaces.py\u001b[0m in \u001b[0;36mwrapper\u001b[0;34m(*args, **kwargs)\u001b[0m\n\u001b[1;32m     89\u001b[0m                 warnings.warn('Update your `' + object_name + '` call to the ' +\n\u001b[1;32m     90\u001b[0m                               'Keras 2 API: ' + signature, stacklevel=2)\n\u001b[0;32m---> 91\u001b[0;31m             \u001b[0;32mreturn\u001b[0m \u001b[0mfunc\u001b[0m\u001b[0;34m(\u001b[0m\u001b[0;34m*\u001b[0m\u001b[0margs\u001b[0m\u001b[0;34m,\u001b[0m \u001b[0;34m**\u001b[0m\u001b[0mkwargs\u001b[0m\u001b[0;34m)\u001b[0m\u001b[0;34m\u001b[0m\u001b[0;34m\u001b[0m\u001b[0m\n\u001b[0m\u001b[1;32m     92\u001b[0m         \u001b[0mwrapper\u001b[0m\u001b[0;34m.\u001b[0m\u001b[0m_original_function\u001b[0m \u001b[0;34m=\u001b[0m \u001b[0mfunc\u001b[0m\u001b[0;34m\u001b[0m\u001b[0;34m\u001b[0m\u001b[0m\n\u001b[1;32m     93\u001b[0m         \u001b[0;32mreturn\u001b[0m \u001b[0mwrapper\u001b[0m\u001b[0;34m\u001b[0m\u001b[0;34m\u001b[0m\u001b[0m\n",
            "\u001b[0;32m/usr/local/lib/python3.6/dist-packages/keras/engine/training.py\u001b[0m in \u001b[0;36mfit_generator\u001b[0;34m(self, generator, steps_per_epoch, epochs, verbose, callbacks, validation_data, validation_steps, validation_freq, class_weight, max_queue_size, workers, use_multiprocessing, shuffle, initial_epoch)\u001b[0m\n\u001b[1;32m   1656\u001b[0m             \u001b[0muse_multiprocessing\u001b[0m\u001b[0;34m=\u001b[0m\u001b[0muse_multiprocessing\u001b[0m\u001b[0;34m,\u001b[0m\u001b[0;34m\u001b[0m\u001b[0;34m\u001b[0m\u001b[0m\n\u001b[1;32m   1657\u001b[0m             \u001b[0mshuffle\u001b[0m\u001b[0;34m=\u001b[0m\u001b[0mshuffle\u001b[0m\u001b[0;34m,\u001b[0m\u001b[0;34m\u001b[0m\u001b[0;34m\u001b[0m\u001b[0m\n\u001b[0;32m-> 1658\u001b[0;31m             initial_epoch=initial_epoch)\n\u001b[0m\u001b[1;32m   1659\u001b[0m \u001b[0;34m\u001b[0m\u001b[0m\n\u001b[1;32m   1660\u001b[0m     \u001b[0;34m@\u001b[0m\u001b[0minterfaces\u001b[0m\u001b[0;34m.\u001b[0m\u001b[0mlegacy_generator_methods_support\u001b[0m\u001b[0;34m\u001b[0m\u001b[0;34m\u001b[0m\u001b[0m\n",
            "\u001b[0;32m/usr/local/lib/python3.6/dist-packages/keras/engine/training_generator.py\u001b[0m in \u001b[0;36mfit_generator\u001b[0;34m(model, generator, steps_per_epoch, epochs, verbose, callbacks, validation_data, validation_steps, validation_freq, class_weight, max_queue_size, workers, use_multiprocessing, shuffle, initial_epoch)\u001b[0m\n\u001b[1;32m    179\u001b[0m             \u001b[0mbatch_index\u001b[0m \u001b[0;34m=\u001b[0m \u001b[0;36m0\u001b[0m\u001b[0;34m\u001b[0m\u001b[0;34m\u001b[0m\u001b[0m\n\u001b[1;32m    180\u001b[0m             \u001b[0;32mwhile\u001b[0m \u001b[0msteps_done\u001b[0m \u001b[0;34m<\u001b[0m \u001b[0msteps_per_epoch\u001b[0m\u001b[0;34m:\u001b[0m\u001b[0;34m\u001b[0m\u001b[0;34m\u001b[0m\u001b[0m\n\u001b[0;32m--> 181\u001b[0;31m                 \u001b[0mgenerator_output\u001b[0m \u001b[0;34m=\u001b[0m \u001b[0mnext\u001b[0m\u001b[0;34m(\u001b[0m\u001b[0moutput_generator\u001b[0m\u001b[0;34m)\u001b[0m\u001b[0;34m\u001b[0m\u001b[0;34m\u001b[0m\u001b[0m\n\u001b[0m\u001b[1;32m    182\u001b[0m \u001b[0;34m\u001b[0m\u001b[0m\n\u001b[1;32m    183\u001b[0m                 \u001b[0;32mif\u001b[0m \u001b[0;32mnot\u001b[0m \u001b[0mhasattr\u001b[0m\u001b[0;34m(\u001b[0m\u001b[0mgenerator_output\u001b[0m\u001b[0;34m,\u001b[0m \u001b[0;34m'__len__'\u001b[0m\u001b[0;34m)\u001b[0m\u001b[0;34m:\u001b[0m\u001b[0;34m\u001b[0m\u001b[0;34m\u001b[0m\u001b[0m\n",
            "\u001b[0;32m/usr/local/lib/python3.6/dist-packages/keras/utils/data_utils.py\u001b[0m in \u001b[0;36mget\u001b[0;34m(self)\u001b[0m\n\u001b[1;32m    601\u001b[0m                 \u001b[0;32mtry\u001b[0m\u001b[0;34m:\u001b[0m\u001b[0;34m\u001b[0m\u001b[0;34m\u001b[0m\u001b[0m\n\u001b[1;32m    602\u001b[0m                     \u001b[0mfuture\u001b[0m \u001b[0;34m=\u001b[0m \u001b[0mself\u001b[0m\u001b[0;34m.\u001b[0m\u001b[0mqueue\u001b[0m\u001b[0;34m.\u001b[0m\u001b[0mget\u001b[0m\u001b[0;34m(\u001b[0m\u001b[0mblock\u001b[0m\u001b[0;34m=\u001b[0m\u001b[0;32mTrue\u001b[0m\u001b[0;34m)\u001b[0m\u001b[0;34m\u001b[0m\u001b[0;34m\u001b[0m\u001b[0m\n\u001b[0;32m--> 603\u001b[0;31m                     \u001b[0minputs\u001b[0m \u001b[0;34m=\u001b[0m \u001b[0mfuture\u001b[0m\u001b[0;34m.\u001b[0m\u001b[0mget\u001b[0m\u001b[0;34m(\u001b[0m\u001b[0mtimeout\u001b[0m\u001b[0;34m=\u001b[0m\u001b[0;36m30\u001b[0m\u001b[0;34m)\u001b[0m\u001b[0;34m\u001b[0m\u001b[0;34m\u001b[0m\u001b[0m\n\u001b[0m\u001b[1;32m    604\u001b[0m                     \u001b[0mself\u001b[0m\u001b[0;34m.\u001b[0m\u001b[0mqueue\u001b[0m\u001b[0;34m.\u001b[0m\u001b[0mtask_done\u001b[0m\u001b[0;34m(\u001b[0m\u001b[0;34m)\u001b[0m\u001b[0;34m\u001b[0m\u001b[0;34m\u001b[0m\u001b[0m\n\u001b[1;32m    605\u001b[0m                 \u001b[0;32mexcept\u001b[0m \u001b[0mmp\u001b[0m\u001b[0;34m.\u001b[0m\u001b[0mTimeoutError\u001b[0m\u001b[0;34m:\u001b[0m\u001b[0;34m\u001b[0m\u001b[0;34m\u001b[0m\u001b[0m\n",
            "\u001b[0;32m/usr/lib/python3.6/multiprocessing/pool.py\u001b[0m in \u001b[0;36mget\u001b[0;34m(self, timeout)\u001b[0m\n\u001b[1;32m    636\u001b[0m \u001b[0;34m\u001b[0m\u001b[0m\n\u001b[1;32m    637\u001b[0m     \u001b[0;32mdef\u001b[0m \u001b[0mget\u001b[0m\u001b[0;34m(\u001b[0m\u001b[0mself\u001b[0m\u001b[0;34m,\u001b[0m \u001b[0mtimeout\u001b[0m\u001b[0;34m=\u001b[0m\u001b[0;32mNone\u001b[0m\u001b[0;34m)\u001b[0m\u001b[0;34m:\u001b[0m\u001b[0;34m\u001b[0m\u001b[0;34m\u001b[0m\u001b[0m\n\u001b[0;32m--> 638\u001b[0;31m         \u001b[0mself\u001b[0m\u001b[0;34m.\u001b[0m\u001b[0mwait\u001b[0m\u001b[0;34m(\u001b[0m\u001b[0mtimeout\u001b[0m\u001b[0;34m)\u001b[0m\u001b[0;34m\u001b[0m\u001b[0;34m\u001b[0m\u001b[0m\n\u001b[0m\u001b[1;32m    639\u001b[0m         \u001b[0;32mif\u001b[0m \u001b[0;32mnot\u001b[0m \u001b[0mself\u001b[0m\u001b[0;34m.\u001b[0m\u001b[0mready\u001b[0m\u001b[0;34m(\u001b[0m\u001b[0;34m)\u001b[0m\u001b[0;34m:\u001b[0m\u001b[0;34m\u001b[0m\u001b[0;34m\u001b[0m\u001b[0m\n\u001b[1;32m    640\u001b[0m             \u001b[0;32mraise\u001b[0m \u001b[0mTimeoutError\u001b[0m\u001b[0;34m\u001b[0m\u001b[0;34m\u001b[0m\u001b[0m\n",
            "\u001b[0;32m/usr/lib/python3.6/multiprocessing/pool.py\u001b[0m in \u001b[0;36mwait\u001b[0;34m(self, timeout)\u001b[0m\n\u001b[1;32m    633\u001b[0m \u001b[0;34m\u001b[0m\u001b[0m\n\u001b[1;32m    634\u001b[0m     \u001b[0;32mdef\u001b[0m \u001b[0mwait\u001b[0m\u001b[0;34m(\u001b[0m\u001b[0mself\u001b[0m\u001b[0;34m,\u001b[0m \u001b[0mtimeout\u001b[0m\u001b[0;34m=\u001b[0m\u001b[0;32mNone\u001b[0m\u001b[0;34m)\u001b[0m\u001b[0;34m:\u001b[0m\u001b[0;34m\u001b[0m\u001b[0;34m\u001b[0m\u001b[0m\n\u001b[0;32m--> 635\u001b[0;31m         \u001b[0mself\u001b[0m\u001b[0;34m.\u001b[0m\u001b[0m_event\u001b[0m\u001b[0;34m.\u001b[0m\u001b[0mwait\u001b[0m\u001b[0;34m(\u001b[0m\u001b[0mtimeout\u001b[0m\u001b[0;34m)\u001b[0m\u001b[0;34m\u001b[0m\u001b[0;34m\u001b[0m\u001b[0m\n\u001b[0m\u001b[1;32m    636\u001b[0m \u001b[0;34m\u001b[0m\u001b[0m\n\u001b[1;32m    637\u001b[0m     \u001b[0;32mdef\u001b[0m \u001b[0mget\u001b[0m\u001b[0;34m(\u001b[0m\u001b[0mself\u001b[0m\u001b[0;34m,\u001b[0m \u001b[0mtimeout\u001b[0m\u001b[0;34m=\u001b[0m\u001b[0;32mNone\u001b[0m\u001b[0;34m)\u001b[0m\u001b[0;34m:\u001b[0m\u001b[0;34m\u001b[0m\u001b[0;34m\u001b[0m\u001b[0m\n",
            "\u001b[0;32m/usr/lib/python3.6/threading.py\u001b[0m in \u001b[0;36mwait\u001b[0;34m(self, timeout)\u001b[0m\n\u001b[1;32m    549\u001b[0m             \u001b[0msignaled\u001b[0m \u001b[0;34m=\u001b[0m \u001b[0mself\u001b[0m\u001b[0;34m.\u001b[0m\u001b[0m_flag\u001b[0m\u001b[0;34m\u001b[0m\u001b[0;34m\u001b[0m\u001b[0m\n\u001b[1;32m    550\u001b[0m             \u001b[0;32mif\u001b[0m \u001b[0;32mnot\u001b[0m \u001b[0msignaled\u001b[0m\u001b[0;34m:\u001b[0m\u001b[0;34m\u001b[0m\u001b[0;34m\u001b[0m\u001b[0m\n\u001b[0;32m--> 551\u001b[0;31m                 \u001b[0msignaled\u001b[0m \u001b[0;34m=\u001b[0m \u001b[0mself\u001b[0m\u001b[0;34m.\u001b[0m\u001b[0m_cond\u001b[0m\u001b[0;34m.\u001b[0m\u001b[0mwait\u001b[0m\u001b[0;34m(\u001b[0m\u001b[0mtimeout\u001b[0m\u001b[0;34m)\u001b[0m\u001b[0;34m\u001b[0m\u001b[0;34m\u001b[0m\u001b[0m\n\u001b[0m\u001b[1;32m    552\u001b[0m             \u001b[0;32mreturn\u001b[0m \u001b[0msignaled\u001b[0m\u001b[0;34m\u001b[0m\u001b[0;34m\u001b[0m\u001b[0m\n\u001b[1;32m    553\u001b[0m \u001b[0;34m\u001b[0m\u001b[0m\n",
            "\u001b[0;32m/usr/lib/python3.6/threading.py\u001b[0m in \u001b[0;36mwait\u001b[0;34m(self, timeout)\u001b[0m\n\u001b[1;32m    297\u001b[0m             \u001b[0;32melse\u001b[0m\u001b[0;34m:\u001b[0m\u001b[0;34m\u001b[0m\u001b[0;34m\u001b[0m\u001b[0m\n\u001b[1;32m    298\u001b[0m                 \u001b[0;32mif\u001b[0m \u001b[0mtimeout\u001b[0m \u001b[0;34m>\u001b[0m \u001b[0;36m0\u001b[0m\u001b[0;34m:\u001b[0m\u001b[0;34m\u001b[0m\u001b[0;34m\u001b[0m\u001b[0m\n\u001b[0;32m--> 299\u001b[0;31m                     \u001b[0mgotit\u001b[0m \u001b[0;34m=\u001b[0m \u001b[0mwaiter\u001b[0m\u001b[0;34m.\u001b[0m\u001b[0macquire\u001b[0m\u001b[0;34m(\u001b[0m\u001b[0;32mTrue\u001b[0m\u001b[0;34m,\u001b[0m \u001b[0mtimeout\u001b[0m\u001b[0;34m)\u001b[0m\u001b[0;34m\u001b[0m\u001b[0;34m\u001b[0m\u001b[0m\n\u001b[0m\u001b[1;32m    300\u001b[0m                 \u001b[0;32melse\u001b[0m\u001b[0;34m:\u001b[0m\u001b[0;34m\u001b[0m\u001b[0;34m\u001b[0m\u001b[0m\n\u001b[1;32m    301\u001b[0m                     \u001b[0mgotit\u001b[0m \u001b[0;34m=\u001b[0m \u001b[0mwaiter\u001b[0m\u001b[0;34m.\u001b[0m\u001b[0macquire\u001b[0m\u001b[0;34m(\u001b[0m\u001b[0;32mFalse\u001b[0m\u001b[0;34m)\u001b[0m\u001b[0;34m\u001b[0m\u001b[0;34m\u001b[0m\u001b[0m\n",
            "\u001b[0;31mKeyboardInterrupt\u001b[0m: "
          ]
        }
      ]
    },
    {
      "cell_type": "code",
      "metadata": {
        "id": "z94HwBMMcgAQ",
        "colab_type": "code",
        "colab": {}
      },
      "source": [
        ""
      ],
      "execution_count": 0,
      "outputs": []
    },
    {
      "cell_type": "code",
      "metadata": {
        "id": "hkRn8FpqFGUD",
        "colab_type": "code",
        "colab": {
          "base_uri": "https://localhost:8080/",
          "height": 286
        },
        "outputId": "c8488c05-2e83-4882-beb7-057a3755dde8"
      },
      "source": [
        "from matplotlib import pyplot as plt\n",
        "plt.plot(np.arange(len(early_stopping_callback.recentered_positives_mse_history)),\n",
        "         early_stopping_callback.recentered_positives_mse_history)\n",
        "plt.plot(np.arange(len(early_stopping_callback.recentered_positives_mse_history)),\n",
        "         early_stopping_callback.recentered_negatives_mse_history)"
      ],
      "execution_count": 9,
      "outputs": [
        {
          "output_type": "execute_result",
          "data": {
            "text/plain": [
              "[<matplotlib.lines.Line2D at 0x7f76e04584a8>]"
            ]
          },
          "metadata": {
            "tags": []
          },
          "execution_count": 9
        },
        {
          "output_type": "display_data",
          "data": {
            "image/png": "[encoded data removed]",
            "text/plain": [
              "<Figure size 432x288 with 1 Axes>"
            ]
          },
          "metadata": {
            "tags": []
          }
        }
      ]
    },
    {
      "cell_type": "markdown",
      "metadata": {
        "id": "EiKjC52zXwJN",
        "colab_type": "text"
      },
      "source": [
        ""
      ]
    }
  ]
}