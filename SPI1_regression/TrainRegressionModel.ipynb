{
  "nbformat": 4,
  "nbformat_minor": 0,
  "metadata": {
    "colab": {
      "name": "TrainRegressionModel.ipynb",
      "version": "0.3.2",
      "provenance": [],
      "collapsed_sections": [],
      "include_colab_link": true
    },
    "kernelspec": {
      "name": "python3",
      "display_name": "Python 3"
    },
    "accelerator": "GPU"
  },
  "cells": [
    {
      "cell_type": "markdown",
      "metadata": {
        "id": "view-in-github",
        "colab_type": "text"
      },
      "source": [
        "<a href=\"https://colab.research.google.com/github/AvantiShri/colab_notebooks/blob/master/SPI1_regression/TrainRegressionModel.ipynb\" target=\"_parent\"><img src=\"https://colab.research.google.com/assets/colab-badge.svg\" alt=\"Open In Colab\"/></a>"
      ]
    },
    {
      "cell_type": "code",
      "metadata": {
        "id": "r34K_qhGGgSs",
        "colab_type": "code",
        "outputId": "d8666a6b-a94b-40e8-d645-ea6e56a3ab84",
        "colab": {
          "base_uri": "https://localhost:8080/",
          "height": 802
        }
      },
      "source": [
        "![[ -e SPI1_negatives.tsv.gz ]] || wget -O SPI1_negatives.tsv.gz http://mitra.stanford.edu/kundaje/avanti/regression_labels_SPI1_GM12878/positives_in_peaks/SPI1_negatives.tsv.gz -O SPI1_negatives.tsv.gz\n",
        "![[ -e SPI1_positives_regression_labels.tsv.gz ]] || wget -O SPI1_positives_regression_labels.tsv.gz http://mitra.stanford.edu/kundaje/avanti/regression_labels_SPI1_GM12878/positives_in_peaks/SPI1_positives_regression_labels.tsv.gz\n",
        "\n",
        "#download hg38 fasta file\n",
        "![[ -e hg38.fa ]] || wget https://hgdownload.soe.ucsc.edu/goldenPath/hg38/bigZips/hg38.fa.gz -O hg38.fa.gz\n",
        "![[ -e hg38.fa ]] || gunzip hg38.fa.gz\n",
        "\n",
        "#install pyfaidx and prepare an index for hg38.fa\n",
        "!pip install pyfaidx\n",
        "from pyfaidx import Fasta\n",
        "Fasta(\"hg38.fa\") #this will build the index if it does not exist"
      ],
      "execution_count": 1,
      "outputs": [
        {
          "output_type": "stream",
          "text": [
            "--2019-09-04 00:25:52--  http://mitra.stanford.edu/kundaje/avanti/regression_labels_SPI1_GM12878/positives_in_peaks/SPI1_negatives.tsv.gz\n",
            "Resolving mitra.stanford.edu (mitra.stanford.edu)... 171.67.96.243\n",
            "Connecting to mitra.stanford.edu (mitra.stanford.edu)|171.67.96.243|:80... connected.\n",
            "HTTP request sent, awaiting response... 200 OK\n",
            "Length: 242572693 (231M) [application/x-gzip]\n",
            "Saving to: ‘SPI1_negatives.tsv.gz’\n",
            "\n",
            "SPI1_negatives.tsv. 100%[===================>] 231.33M  4.22MB/s    in 39s     \n",
            "\n",
            "2019-09-04 00:26:31 (5.98 MB/s) - ‘SPI1_negatives.tsv.gz’ saved [242572693/242572693]\n",
            "\n",
            "--2019-09-04 00:26:32--  http://mitra.stanford.edu/kundaje/avanti/regression_labels_SPI1_GM12878/positives_in_peaks/SPI1_positives_regression_labels.tsv.gz\n",
            "Resolving mitra.stanford.edu (mitra.stanford.edu)... 171.67.96.243\n",
            "Connecting to mitra.stanford.edu (mitra.stanford.edu)|171.67.96.243|:80... connected.\n",
            "HTTP request sent, awaiting response... 200 OK\n",
            "Length: 4179271 (4.0M) [application/x-gzip]\n",
            "Saving to: ‘SPI1_positives_regression_labels.tsv.gz’\n",
            "\n",
            "SPI1_positives_regr 100%[===================>]   3.99M  2.80MB/s    in 1.4s    \n",
            "\n",
            "2019-09-04 00:26:33 (2.80 MB/s) - ‘SPI1_positives_regression_labels.tsv.gz’ saved [4179271/4179271]\n",
            "\n",
            "--2019-09-04 00:26:34--  https://hgdownload.soe.ucsc.edu/goldenPath/hg38/bigZips/hg38.fa.gz\n",
            "Resolving hgdownload.soe.ucsc.edu (hgdownload.soe.ucsc.edu)... 128.114.119.163\n",
            "Connecting to hgdownload.soe.ucsc.edu (hgdownload.soe.ucsc.edu)|128.114.119.163|:443... connected.\n",
            "HTTP request sent, awaiting response... 200 OK\n",
            "Length: 983659424 (938M) [application/x-gzip]\n",
            "Saving to: ‘hg38.fa.gz’\n",
            "\n",
            "hg38.fa.gz          100%[===================>] 938.09M  19.2MB/s    in 45s     \n",
            "\n",
            "2019-09-04 00:27:20 (20.8 MB/s) - ‘hg38.fa.gz’ saved [983659424/983659424]\n",
            "\n",
            "Collecting pyfaidx\n",
            "  Downloading https://files.pythonhosted.org/packages/75/a5/7e2569527b3849ea28d79b4f70d7cf46a47d36459bc59e0efa4e10e8c8b2/pyfaidx-0.5.5.2.tar.gz\n",
            "Requirement already satisfied: six in /usr/local/lib/python3.6/dist-packages (from pyfaidx) (1.12.0)\n",
            "Requirement already satisfied: setuptools>=0.7 in /usr/local/lib/python3.6/dist-packages (from pyfaidx) (41.2.0)\n",
            "Building wheels for collected packages: pyfaidx\n",
            "  Building wheel for pyfaidx (setup.py) ... \u001b[?25l\u001b[?25hdone\n",
            "  Created wheel for pyfaidx: filename=pyfaidx-0.5.5.2-cp36-none-any.whl size=24641 sha256=f27c24d19d8b638265a4eb9737799146117e6e7e2fa0c9d8d6107fbdef059808\n",
            "  Stored in directory: /root/.cache/pip/wheels/54/a2/b4/e242e58d23b2808e191b214067880faa46cd2341f363886e0b\n",
            "Successfully built pyfaidx\n",
            "Installing collected packages: pyfaidx\n",
            "Successfully installed pyfaidx-0.5.5.2\n"
          ],
          "name": "stdout"
        },
        {
          "output_type": "execute_result",
          "data": {
            "text/plain": [
              "Fasta(\"hg38.fa\")"
            ]
          },
          "metadata": {
            "tags": []
          },
          "execution_count": 1
        }
      ]
    },
    {
      "cell_type": "code",
      "metadata": {
        "id": "rsDv4DVlT7Kf",
        "colab_type": "code",
        "colab": {}
      },
      "source": [
        "![[ -e noheader_SPI1_negatives.tsv.gz ]] || zcat SPI1_negatives.tsv.gz | grep -v 'START' | gzip -c > noheader_SPI1_negatives.tsv.gz\n",
        "![[ -e noheader_SPI1_positives_regression_labels.tsv.gz ]] || zcat SPI1_positives_regression_labels.tsv.gz | grep -v 'START' | gzip -c > noheader_SPI1_positives_regression_labels.tsv.gz\n",
        "\n",
        "![[ -e train_SPI1_negatives.tsv.gz ]] || zcat noheader_SPI1_negatives.tsv.gz | egrep -v 'chr1|chr8|chr21|chr22' | gzip -c > train_SPI1_negatives.tsv.gz\n",
        "![[ -e train_SPI1_positives_regression_labels.tsv.gz ]] || zcat noheader_SPI1_positives_regression_labels.tsv.gz | egrep -v 'chr1|chr8|chr21|chr22' | gzip -c > train_SPI1_positives_regression_labels.tsv.gz\n",
        "!zcat noheader_SPI1_negatives.tsv.gz | egrep 'chr1|chr8|chr21' | gzip -c > test_SPI1_coords.tsv.gz\n",
        "!zcat noheader_SPI1_positives_regression_labels.tsv.gz | egrep 'chr1|chr8|chr21' | gzip -c >> test_SPI1_coords.tsv.gz"
      ],
      "execution_count": 0,
      "outputs": []
    },
    {
      "cell_type": "code",
      "metadata": {
        "id": "DK6tRLOs9VHT",
        "colab_type": "code",
        "colab": {
          "base_uri": "https://localhost:8080/",
          "height": 34
        },
        "outputId": "b526833c-ef38-4847-f389-f43d27d8ea0a"
      },
      "source": [
        "#num negs in validation set\n",
        "!zcat noheader_SPI1_negatives.tsv.gz | egrep 'chr22'  | wc -l"
      ],
      "execution_count": 3,
      "outputs": [
        {
          "output_type": "stream",
          "text": [
            "995472\n"
          ],
          "name": "stdout"
        }
      ]
    },
    {
      "cell_type": "code",
      "metadata": {
        "id": "ObFSZMTJ9YBR",
        "colab_type": "code",
        "colab": {
          "base_uri": "https://localhost:8080/",
          "height": 34
        },
        "outputId": "8249c584-8d8a-4640-bd19-a4bffd636fba"
      },
      "source": [
        "#num pos in validation set\n",
        "!zcat noheader_SPI1_positives_regression_labels.tsv.gz | egrep 'chr22' | wc -l"
      ],
      "execution_count": 6,
      "outputs": [
        {
          "output_type": "stream",
          "text": [
            "6127\n"
          ],
          "name": "stdout"
        }
      ]
    },
    {
      "cell_type": "code",
      "metadata": {
        "id": "SXOt1dQB92EB",
        "colab_type": "code",
        "colab": {
          "base_uri": "https://localhost:8080/",
          "height": 34
        },
        "outputId": "798d0730-41f7-41a4-d3a0-4a458cce0444"
      },
      "source": [
        "#combine the positives and negatives in the validation set; subsample the\n",
        "# validation set for speed of calculation\n",
        "!zcat noheader_SPI1_negatives.tsv.gz | egrep 'chr22' | perl -ne 'if ($.%25==0) {print $_}' | gzip -c > negsubsampled_valid.tsv.gz\n",
        "!zcat noheader_SPI1_positives_regression_labels.tsv.gz | egrep 'chr22' | gzip -c >> negsubsampled_valid.tsv.gz\n",
        "!zcat negsubsampled_valid.tsv.gz | wc -l"
      ],
      "execution_count": 8,
      "outputs": [
        {
          "output_type": "stream",
          "text": [
            "45945\n"
          ],
          "name": "stdout"
        }
      ]
    },
    {
      "cell_type": "code",
      "metadata": {
        "id": "PcoIFxv5IyI5",
        "colab_type": "code",
        "colab": {
          "base_uri": "https://localhost:8080/",
          "height": 136
        },
        "outputId": "0a913c0c-dc8a-4e85-d464-6593c7b7963b"
      },
      "source": [
        "!git clone https://github.com/kundajelab/seqdataloader.git"
      ],
      "execution_count": 3,
      "outputs": [
        {
          "output_type": "stream",
          "text": [
            "Cloning into 'seqdataloader'...\n",
            "remote: Enumerating objects: 44, done.\u001b[K\n",
            "remote: Counting objects: 100% (44/44), done.\u001b[K\n",
            "remote: Compressing objects: 100% (32/32), done.\u001b[K\n",
            "remote: Total 1047 (delta 17), reused 34 (delta 12), pack-reused 1003\u001b[K\n",
            "Receiving objects: 100% (1047/1047), 3.90 MiB | 3.56 MiB/s, done.\n",
            "Resolving deltas: 100% (643/643), done.\n"
          ],
          "name": "stdout"
        }
      ]
    },
    {
      "cell_type": "code",
      "metadata": {
        "id": "oCAssXO1N-Tm",
        "colab_type": "code",
        "colab": {
          "base_uri": "https://localhost:8080/",
          "height": 1000
        },
        "outputId": "89525d37-bac9-4cab-926e-df9128be50eb"
      },
      "source": [
        "%cd /content/seqdataloader\n",
        "!git checkout downsamplenegatives\n",
        "!git pull\n",
        "!pip uninstall seqdataloader\n",
        "!pip install .\n",
        "%cd /content"
      ],
      "execution_count": 1,
      "outputs": [
        {
          "output_type": "stream",
          "text": [
            "/content/seqdataloader\n",
            "Already on 'downsamplenegatives'\n",
            "Your branch is up to date with 'origin/downsamplenegatives'.\n",
            "remote: Enumerating objects: 13, done.\u001b[K\n",
            "remote: Counting objects: 100% (13/13), done.\u001b[K\n",
            "remote: Compressing objects: 100% (3/3), done.\u001b[K\n",
            "remote: Total 7 (delta 4), reused 7 (delta 4), pack-reused 0\u001b[K\n",
            "Unpacking objects: 100% (7/7), done.\n",
            "From https://github.com/kundajelab/seqdataloader\n",
            "   9d8eec0..873868f  downsamplenegatives -> origin/downsamplenegatives\n",
            "Updating 9d8eec0..873868f\n",
            "Fast-forward\n",
            " seqdataloader/batchproducers/coordbased/coordstovals/lookup.py | 7 \u001b[32m+++++\u001b[m\u001b[31m--\u001b[m\n",
            " 1 file changed, 5 insertions(+), 2 deletions(-)\n",
            "Uninstalling seqdataloader-0.126:\n",
            "  Would remove:\n",
            "    /usr/local/bin/db_ingest\n",
            "    /usr/local/bin/genomewide_labels\n",
            "    /usr/local/lib/python3.6/dist-packages/seqdataloader-0.126.dist-info/*\n",
            "    /usr/local/lib/python3.6/dist-packages/seqdataloader/batchproducers/*\n",
            "    /usr/local/lib/python3.6/dist-packages/seqdataloader/dbingest/*\n",
            "    /usr/local/lib/python3.6/dist-packages/seqdataloader/labelgen/*\n",
            "Proceed (y/n)? y\n",
            "  Successfully uninstalled seqdataloader-0.126\n",
            "Processing /content/seqdataloader\n",
            "Requirement already satisfied: numpy>=1.15 in /usr/local/lib/python3.6/dist-packages (from seqdataloader==0.126) (1.16.4)\n",
            "Requirement already satisfied: pandas>=0.23.4 in /usr/local/lib/python3.6/dist-packages (from seqdataloader==0.126) (0.24.2)\n",
            "Requirement already satisfied: cython>=0.27.3 in /usr/local/lib/python3.6/dist-packages (from seqdataloader==0.126) (0.29.13)\n",
            "Requirement already satisfied: deeptools>=3.0.1 in /usr/local/lib/python3.6/dist-packages (from seqdataloader==0.126) (3.3.0)\n",
            "Requirement already satisfied: pybedtools>=0.7 in /usr/local/lib/python3.6/dist-packages (from seqdataloader==0.126) (0.8.0)\n",
            "Requirement already satisfied: pyBigWig>=0.3.7 in /usr/local/lib/python3.6/dist-packages (from seqdataloader==0.126) (0.3.17)\n",
            "Requirement already satisfied: pyfaidx in /usr/local/lib/python3.6/dist-packages (from seqdataloader==0.126) (0.5.5.2)\n",
            "Requirement already satisfied: python-dateutil>=2.5.0 in /usr/local/lib/python3.6/dist-packages (from pandas>=0.23.4->seqdataloader==0.126) (2.5.3)\n",
            "Requirement already satisfied: pytz>=2011k in /usr/local/lib/python3.6/dist-packages (from pandas>=0.23.4->seqdataloader==0.126) (2018.9)\n",
            "Requirement already satisfied: matplotlib>=2.1.2 in /usr/local/lib/python3.6/dist-packages (from deeptools>=3.0.1->seqdataloader==0.126) (3.0.3)\n",
            "Requirement already satisfied: deeptoolsintervals>=0.1.8 in /usr/local/lib/python3.6/dist-packages (from deeptools>=3.0.1->seqdataloader==0.126) (0.1.9)\n",
            "Requirement already satisfied: py2bit>=0.2.0 in /usr/local/lib/python3.6/dist-packages (from deeptools>=3.0.1->seqdataloader==0.126) (0.3.0)\n",
            "Requirement already satisfied: plotly>=2.0.0 in /usr/local/lib/python3.6/dist-packages (from deeptools>=3.0.1->seqdataloader==0.126) (3.6.1)\n",
            "Requirement already satisfied: numpydoc>=0.5 in /usr/local/lib/python3.6/dist-packages (from deeptools>=3.0.1->seqdataloader==0.126) (0.9.1)\n",
            "Requirement already satisfied: pysam>=0.14.0 in /usr/local/lib/python3.6/dist-packages (from deeptools>=3.0.1->seqdataloader==0.126) (0.15.3)\n",
            "Requirement already satisfied: scipy>=0.17.0 in /usr/local/lib/python3.6/dist-packages (from deeptools>=3.0.1->seqdataloader==0.126) (1.3.1)\n",
            "Requirement already satisfied: six in /usr/local/lib/python3.6/dist-packages (from pybedtools>=0.7->seqdataloader==0.126) (1.12.0)\n",
            "Requirement already satisfied: setuptools>=0.7 in /usr/local/lib/python3.6/dist-packages (from pyfaidx->seqdataloader==0.126) (41.2.0)\n",
            "Requirement already satisfied: pyparsing!=2.0.4,!=2.1.2,!=2.1.6,>=2.0.1 in /usr/local/lib/python3.6/dist-packages (from matplotlib>=2.1.2->deeptools>=3.0.1->seqdataloader==0.126) (2.4.2)\n",
            "Requirement already satisfied: cycler>=0.10 in /usr/local/lib/python3.6/dist-packages (from matplotlib>=2.1.2->deeptools>=3.0.1->seqdataloader==0.126) (0.10.0)\n",
            "Requirement already satisfied: kiwisolver>=1.0.1 in /usr/local/lib/python3.6/dist-packages (from matplotlib>=2.1.2->deeptools>=3.0.1->seqdataloader==0.126) (1.1.0)\n",
            "Requirement already satisfied: retrying>=1.3.3 in /usr/local/lib/python3.6/dist-packages (from plotly>=2.0.0->deeptools>=3.0.1->seqdataloader==0.126) (1.3.3)\n",
            "Requirement already satisfied: nbformat>=4.2 in /usr/local/lib/python3.6/dist-packages (from plotly>=2.0.0->deeptools>=3.0.1->seqdataloader==0.126) (4.4.0)\n",
            "Requirement already satisfied: decorator>=4.0.6 in /usr/local/lib/python3.6/dist-packages (from plotly>=2.0.0->deeptools>=3.0.1->seqdataloader==0.126) (4.4.0)\n",
            "Requirement already satisfied: requests in /usr/local/lib/python3.6/dist-packages (from plotly>=2.0.0->deeptools>=3.0.1->seqdataloader==0.126) (2.21.0)\n",
            "Requirement already satisfied: sphinx>=1.6.5 in /usr/local/lib/python3.6/dist-packages (from numpydoc>=0.5->deeptools>=3.0.1->seqdataloader==0.126) (1.8.5)\n",
            "Requirement already satisfied: Jinja2>=2.3 in /usr/local/lib/python3.6/dist-packages (from numpydoc>=0.5->deeptools>=3.0.1->seqdataloader==0.126) (2.10.1)\n",
            "Requirement already satisfied: ipython-genutils in /usr/local/lib/python3.6/dist-packages (from nbformat>=4.2->plotly>=2.0.0->deeptools>=3.0.1->seqdataloader==0.126) (0.2.0)\n",
            "Requirement already satisfied: traitlets>=4.1 in /usr/local/lib/python3.6/dist-packages (from nbformat>=4.2->plotly>=2.0.0->deeptools>=3.0.1->seqdataloader==0.126) (4.3.2)\n",
            "Requirement already satisfied: jsonschema!=2.5.0,>=2.4 in /usr/local/lib/python3.6/dist-packages (from nbformat>=4.2->plotly>=2.0.0->deeptools>=3.0.1->seqdataloader==0.126) (2.6.0)\n",
            "Requirement already satisfied: jupyter-core in /usr/local/lib/python3.6/dist-packages (from nbformat>=4.2->plotly>=2.0.0->deeptools>=3.0.1->seqdataloader==0.126) (4.5.0)\n",
            "Requirement already satisfied: urllib3<1.25,>=1.21.1 in /usr/local/lib/python3.6/dist-packages (from requests->plotly>=2.0.0->deeptools>=3.0.1->seqdataloader==0.126) (1.24.3)\n",
            "Requirement already satisfied: certifi>=2017.4.17 in /usr/local/lib/python3.6/dist-packages (from requests->plotly>=2.0.0->deeptools>=3.0.1->seqdataloader==0.126) (2019.6.16)\n",
            "Requirement already satisfied: chardet<3.1.0,>=3.0.2 in /usr/local/lib/python3.6/dist-packages (from requests->plotly>=2.0.0->deeptools>=3.0.1->seqdataloader==0.126) (3.0.4)\n",
            "Requirement already satisfied: idna<2.9,>=2.5 in /usr/local/lib/python3.6/dist-packages (from requests->plotly>=2.0.0->deeptools>=3.0.1->seqdataloader==0.126) (2.8)\n",
            "Requirement already satisfied: docutils>=0.11 in /usr/local/lib/python3.6/dist-packages (from sphinx>=1.6.5->numpydoc>=0.5->deeptools>=3.0.1->seqdataloader==0.126) (0.15.2)\n",
            "Requirement already satisfied: sphinxcontrib-websupport in /usr/local/lib/python3.6/dist-packages (from sphinx>=1.6.5->numpydoc>=0.5->deeptools>=3.0.1->seqdataloader==0.126) (1.1.2)\n",
            "Requirement already satisfied: packaging in /usr/local/lib/python3.6/dist-packages (from sphinx>=1.6.5->numpydoc>=0.5->deeptools>=3.0.1->seqdataloader==0.126) (19.1)\n",
            "Requirement already satisfied: imagesize in /usr/local/lib/python3.6/dist-packages (from sphinx>=1.6.5->numpydoc>=0.5->deeptools>=3.0.1->seqdataloader==0.126) (1.1.0)\n",
            "Requirement already satisfied: alabaster<0.8,>=0.7 in /usr/local/lib/python3.6/dist-packages (from sphinx>=1.6.5->numpydoc>=0.5->deeptools>=3.0.1->seqdataloader==0.126) (0.7.12)\n",
            "Requirement already satisfied: babel!=2.0,>=1.3 in /usr/local/lib/python3.6/dist-packages (from sphinx>=1.6.5->numpydoc>=0.5->deeptools>=3.0.1->seqdataloader==0.126) (2.7.0)\n",
            "Requirement already satisfied: snowballstemmer>=1.1 in /usr/local/lib/python3.6/dist-packages (from sphinx>=1.6.5->numpydoc>=0.5->deeptools>=3.0.1->seqdataloader==0.126) (1.9.0)\n",
            "Requirement already satisfied: Pygments>=2.0 in /usr/local/lib/python3.6/dist-packages (from sphinx>=1.6.5->numpydoc>=0.5->deeptools>=3.0.1->seqdataloader==0.126) (2.1.3)\n",
            "Requirement already satisfied: MarkupSafe>=0.23 in /usr/local/lib/python3.6/dist-packages (from Jinja2>=2.3->numpydoc>=0.5->deeptools>=3.0.1->seqdataloader==0.126) (1.1.1)\n",
            "Requirement already satisfied: attrs in /usr/local/lib/python3.6/dist-packages (from packaging->sphinx>=1.6.5->numpydoc>=0.5->deeptools>=3.0.1->seqdataloader==0.126) (19.1.0)\n",
            "Building wheels for collected packages: seqdataloader\n",
            "  Building wheel for seqdataloader (setup.py) ... \u001b[?25l\u001b[?25hdone\n",
            "  Created wheel for seqdataloader: filename=seqdataloader-0.126-cp36-none-any.whl size=27287 sha256=121a7356155d378f17becbdc3fbb5eef47bb34a6769d2370dd9ca09ea1c9ec3b\n",
            "  Stored in directory: /tmp/pip-ephem-wheel-cache-c5rgni5_/wheels/c2/db/13/112d41662f69fb8c7986c218293570cc1550fc21eed966e31b\n",
            "Successfully built seqdataloader\n",
            "Installing collected packages: seqdataloader\n",
            "Successfully installed seqdataloader-0.126\n",
            "/content\n"
          ],
          "name": "stdout"
        }
      ]
    },
    {
      "cell_type": "code",
      "metadata": {
        "id": "gQt-2mghOHu_",
        "colab_type": "code",
        "colab": {
          "base_uri": "https://localhost:8080/",
          "height": 207
        },
        "outputId": "bc609e62-4de8-4a84-9796-5f6dcdd9db36"
      },
      "source": [
        "from seqdataloader.batchproducers import coordbased\n",
        "import numpy as np\n",
        "\n",
        "labels_coordstovals = coordbased.coordstovals.lookup.SimpleLookup(\n",
        "    lookup_file=\"noheader_SPI1_positives_regression_labels.tsv.gz\",\n",
        "    transformation=lambda x: np.log(1+x))\n",
        "input_coordstovals = coordbased.coordstovals.fasta.PyfaidxCoordsToVals(\n",
        "    genome_fasta_path=\"hg38.fa\")\n",
        "\n",
        "valid_batchproducer = coordbased.coordbatchproducers.SimpleCoordsBatchProducer(\n",
        "    bed_file=\"negsubsampled_valid.tsv.gz\",\n",
        "    batch_size=64,\n",
        "    shuffle_before_epoch=False,\n",
        "    seed=None)\n",
        "\n",
        "train_batchproducer = (\n",
        "  coordbased.coordbatchproducers.DownsampleNegativesCoordsBatchProducer(\n",
        "    pos_bed_file=\"train_SPI1_positives_regression_labels.tsv.gz\",\n",
        "    neg_bed_file=\"train_SPI1_negatives.tsv.gz\",\n",
        "    target_proportion_positives=0.5,\n",
        "    batch_size=64,\n",
        "    shuffle_before_epoch=True,\n",
        "    seed=1234))\n",
        "\n",
        "train_batch_generator = coordbased.core.KerasBatchGenerator(\n",
        "    coordsbatch_producer=train_batchproducer,\n",
        "    inputs_coordstovals=input_coordstovals,\n",
        "    targets_coordstovals=labels_coordstovals,\n",
        "    coordsbatch_transformer=\\\n",
        "      coordbased.coordbatchtransformers.ReverseComplementAugmenter())\n",
        "\n",
        "valid_batch_generator = coordbased.core.KerasBatchGenerator(\n",
        "    coordsbatch_producer=valid_batchproducer,\n",
        "    inputs_coordstovals=input_coordstovals,\n",
        "    targets_coordstovals=labels_coordstovals)\n"
      ],
      "execution_count": 2,
      "outputs": [
        {
          "output_type": "stream",
          "text": [
            "Using TensorFlow backend.\n"
          ],
          "name": "stderr"
        },
        {
          "output_type": "stream",
          "text": [
            "Heads up: coordinates in bed file are assumed to be on the positive strand; if strand in the bed file is improtant to you, please add that feature to SimpleCoordsBatchProducer\n",
            "Reading in positive bed file\n",
            "Heads up: coordinates in bed file are assumed to be on the positive strand; if strand in the bed file is improtant to you, please add that feature to SimpleCoordsBatchProducer\n",
            "Got 140650  coords in positive bed file\n",
            "Reading in negative bed file\n",
            "Heads up: coordinates in bed file are assumed to be on the positive strand; if strand in the bed file is improtant to you, please add that feature to SimpleCoordsBatchProducer\n",
            "Got 27967753  coords in negative bed file\n",
            "The target proportion of positives of 0.5 requires the negative set to be subsampled by a factor of 199 which will result in a #neg of 140541\n",
            "Using an offset of  0  before striding\n"
          ],
          "name": "stdout"
        }
      ]
    },
    {
      "cell_type": "code",
      "metadata": {
        "id": "tfL1GMYoFHyw",
        "colab_type": "code",
        "colab": {
          "base_uri": "https://localhost:8080/",
          "height": 269
        },
        "outputId": "71381fb6-45fc-409c-b18a-180edae102ef"
      },
      "source": [
        "vals = list(labels_coordstovals.lookup.values())\n",
        "from matplotlib import pyplot as plt\n",
        "plt.hist(np.array(vals).squeeze(), bins=20)\n",
        "plt.show()"
      ],
      "execution_count": 9,
      "outputs": [
        {
          "output_type": "display_data",
          "data": {
            "image/png": "[encoded data removed]",
            "text/plain": [
              "<Figure size 432x288 with 1 Axes>"
            ]
          },
          "metadata": {
            "tags": []
          }
        }
      ]
    },
    {
      "cell_type": "code",
      "metadata": {
        "id": "gh5QkUsfPUXb",
        "colab_type": "code",
        "colab": {
          "base_uri": "https://localhost:8080/",
          "height": 765
        },
        "outputId": "c5948739-23d7-4a87-e5b8-85af8a02f222"
      },
      "source": [
        "import keras\n",
        "from keras import backend as K\n",
        "import tensorflow as tf\n",
        "\n",
        "def manual_mse(y_true, y_pred):\n",
        "  return K.mean(K.square(y_pred-y_true), axis=-1)\n",
        "\n",
        "def mse_on_positives(y_true, y_pred):\n",
        "  the_mask = tf.greater(y_true, 0.0)\n",
        "  masked_y_true = tf.boolean_mask(y_true, the_mask)\n",
        "  masked_y_pred = tf.boolean_mask(y_pred, the_mask)\n",
        "  return K.mean(K.square(masked_y_pred-masked_y_true),axis=-1)\n",
        "\n",
        "def mse_on_negatives(y_true, y_pred):\n",
        "  the_mask = tf.equal(y_true, 0.0)\n",
        "  masked_y_true = tf.boolean_mask(y_true, the_mask)\n",
        "  masked_y_pred = tf.boolean_mask(y_pred, the_mask)\n",
        "  return K.mean(K.square(masked_y_pred-masked_y_true),axis=-1)\n",
        "\n",
        "\n",
        "def get_model(num_conv_filters,\n",
        "              conv_filter_length,\n",
        "              pool_length_and_stride,\n",
        "              num_dense_units):\n",
        "  input = keras.layers.Input(shape=(1000,4), name=\"sequence\")\n",
        "  conv1 = keras.layers.convolutional.Conv1D(\n",
        "              filters=num_conv_filters, kernel_size=conv_filter_length,\n",
        "              padding=\"same\")(input)\n",
        "  conv1batchnorm = keras.layers.normalization.BatchNormalization()(conv1)\n",
        "  conv1relu = keras.layers.core.Activation(activation=\"relu\")(conv1batchnorm)\n",
        "  conv2 = keras.layers.convolutional.Conv1D(\n",
        "              filters=num_conv_filters,\n",
        "              kernel_size=conv_filter_length,\n",
        "              padding=\"same\")(conv1relu)\n",
        "  conv2batchnorm = keras.layers.normalization.BatchNormalization()(conv2)\n",
        "  conv2relu = keras.layers.core.Activation(activation=\"relu\")(conv2batchnorm)\n",
        "  conv3 = keras.layers.convolutional.Conv1D(\n",
        "              filters=num_conv_filters,\n",
        "              kernel_size=conv_filter_length,\n",
        "              padding=\"same\")(conv2relu)\n",
        "  conv3batchnorm = keras.layers.normalization.BatchNormalization()(conv3)\n",
        "  conv3relu = keras.layers.core.Activation(activation=\"relu\")(conv3batchnorm)\n",
        "  avgpool = keras.layers.convolutional.AveragePooling1D(\n",
        "                pool_size=pool_length_and_stride,\n",
        "                strides=pool_length_and_stride)(conv3relu)\n",
        "  flatten = keras.layers.core.Flatten()(avgpool)\n",
        "  dense1 = keras.layers.core.Dense(units=num_dense_units)(flatten)\n",
        "  dense1relu = keras.layers.core.Activation(activation=\"relu\")(dense1)\n",
        "  dense2 = keras.layers.core.Dense(units=num_dense_units)(dense1relu)\n",
        "  dense2relu = keras.layers.core.Activation(activation=\"relu\")(dense2)\n",
        "  output = keras.layers.core.Dense(units=1,\n",
        "                                   name=\"output\")(dense2relu)\n",
        "  conv_model = keras.models.Model(inputs=input, outputs=output)\n",
        "  conv_model.compile(optimizer=keras.optimizers.Adam(),\n",
        "                     loss={\"output\": \"mse\"},\n",
        "                     metrics=[mse_on_positives,\n",
        "                              mse_on_negatives,\n",
        "                              manual_mse])\n",
        "  return conv_model\n",
        "\n",
        "conv_model = get_model(num_conv_filters=30,\n",
        "                       conv_filter_length=15,\n",
        "                       pool_length_and_stride=40,\n",
        "                       num_dense_units=30)\n",
        "\n",
        "conv_model.summary()\n",
        "early_stopping_callback = keras.callbacks.EarlyStopping(\n",
        "                              monitor='mse_on_positives',\n",
        "                              patience=3,\n",
        "                              restore_best_weights=True)\n",
        "fit_history = conv_model.fit_generator(\n",
        "  generator=train_batch_generator,\n",
        "  validation_data=valid_batch_generator,\n",
        "  epochs=100,\n",
        "  callbacks=[early_stopping_callback]\n",
        ")\n",
        "#the callback isn't triggered if the upper epoch limit is hit,\n",
        "# so make sure the set the weights from the best epoch at the end\n",
        "model.set_weights(early_stopping_callback.best_weights)"
      ],
      "execution_count": 0,
      "outputs": [
        {
          "output_type": "stream",
          "text": [
            "Model: \"model_8\"\n",
            "_________________________________________________________________\n",
            "Layer (type)                 Output Shape              Param #   \n",
            "=================================================================\n",
            "sequence (InputLayer)        (None, 1000, 4)           0         \n",
            "_________________________________________________________________\n",
            "conv1d_22 (Conv1D)           (None, 1000, 30)          1830      \n",
            "_________________________________________________________________\n",
            "batch_normalization_22 (Batc (None, 1000, 30)          120       \n",
            "_________________________________________________________________\n",
            "activation_36 (Activation)   (None, 1000, 30)          0         \n",
            "_________________________________________________________________\n",
            "conv1d_23 (Conv1D)           (None, 1000, 30)          13530     \n",
            "_________________________________________________________________\n",
            "batch_normalization_23 (Batc (None, 1000, 30)          120       \n",
            "_________________________________________________________________\n",
            "activation_37 (Activation)   (None, 1000, 30)          0         \n",
            "_________________________________________________________________\n",
            "conv1d_24 (Conv1D)           (None, 1000, 30)          13530     \n",
            "_________________________________________________________________\n",
            "batch_normalization_24 (Batc (None, 1000, 30)          120       \n",
            "_________________________________________________________________\n",
            "activation_38 (Activation)   (None, 1000, 30)          0         \n",
            "_________________________________________________________________\n",
            "average_pooling1d_8 (Average (None, 25, 30)            0         \n",
            "_________________________________________________________________\n",
            "flatten_8 (Flatten)          (None, 750)               0         \n",
            "_________________________________________________________________\n",
            "dense_15 (Dense)             (None, 30)                22530     \n",
            "_________________________________________________________________\n",
            "activation_39 (Activation)   (None, 30)                0         \n",
            "_________________________________________________________________\n",
            "dense_16 (Dense)             (None, 30)                930       \n",
            "_________________________________________________________________\n",
            "activation_40 (Activation)   (None, 30)                0         \n",
            "_________________________________________________________________\n",
            "output (Dense)               (None, 1)                 31        \n",
            "=================================================================\n",
            "Total params: 52,741\n",
            "Trainable params: 52,561\n",
            "Non-trainable params: 180\n",
            "_________________________________________________________________\n",
            "Epoch 1/100\n",
            " 661/4394 [===>..........................] - ETA: 6:46 - loss: 0.0853 - mse_on_positives: 0.2620 - mse_on_negatives: 0.0266 - manual_mse: 0.0853"
          ],
          "name": "stdout"
        }
      ]
    },
    {
      "cell_type": "code",
      "metadata": {
        "id": "hkRn8FpqFGUD",
        "colab_type": "code",
        "colab": {}
      },
      "source": [
        ""
      ],
      "execution_count": 0,
      "outputs": []
    },
    {
      "cell_type": "markdown",
      "metadata": {
        "id": "EiKjC52zXwJN",
        "colab_type": "text"
      },
      "source": [
        ""
      ]
    }
  ]
}