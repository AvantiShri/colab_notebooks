{
  "nbformat": 4,
  "nbformat_minor": 0,
  "metadata": {
    "colab": {
      "name": "RandDataGen",
      "provenance": [],
      "authorship_tag": "ABX9TyOfGV4Ajq8Ky4CJEJIWcPBc",
      "include_colab_link": true
    },
    "kernelspec": {
      "name": "python3",
      "display_name": "Python 3"
    }
  },
  "cells": [
    {
      "cell_type": "markdown",
      "metadata": {
        "id": "view-in-github",
        "colab_type": "text"
      },
      "source": [
        "<a href=\"https://colab.research.google.com/github/AvantiShri/colab_notebooks/blob/master/RandDataGen.ipynb\" target=\"_parent\"><img src=\"https://colab.research.google.com/assets/colab-badge.svg\" alt=\"Open In Colab\"/></a>"
      ]
    },
    {
      "cell_type": "code",
      "metadata": {
        "id": "yH5hVvVE8CgB",
        "outputId": "6a5934f8-b6f9-436b-d79b-07189764b356",
        "colab": {
          "base_uri": "https://localhost:8080/",
          "height": 364
        }
      },
      "source": [
        "import numpy as np\n",
        "import scipy.stats\n",
        "\n",
        "\n",
        "DIMS = 10\n",
        "\n",
        "\n",
        "def get_rand_mat(shape, scale, rng):\n",
        "    rand_mat = rng.uniform(size=shape )*scale\n",
        "    return rand_mat\n",
        "\n",
        "\n",
        "def get_rand_cov_mat(dims, scale, rng):\n",
        "    rand_mat = get_rand_mat(shape=(dims, dims), scale=scale, rng=rng)\n",
        "    rand_covariance = rand_mat.dot(np.transpose(rand_mat))\n",
        "    return rand_covariance\n",
        "\n",
        "\n",
        "def generate_blob(dims, var_scale, translation_scale, num_samples, rng):\n",
        "    #random covariance matrix\n",
        "    rand_translation = get_rand_mat(shape=(dims,), scale=translation_scale,\n",
        "                                  rng=rng)\n",
        "    rand_covariance = np.eye(dims)*get_rand_mat(shape=(dims,),\n",
        "                                              scale=var_scale,\n",
        "                                              rng=rng)\n",
        "    rand_rotation = scipy.stats.ortho_group.rvs(dim=dims, random_state=rng)\n",
        "    samples = np.dot((rng.multivariate_normal(\n",
        "                    mean=np.zeros(dims),\n",
        "                    cov=rand_covariance,\n",
        "                    size=num_samples) + rand_translation),\n",
        "                   rand_rotation)\n",
        "    return samples\n",
        "\n",
        "\n",
        "#def generate_blob_along_function(dims, function, x_max,\n",
        "#                                 num_samples, rng):\n",
        "#  \n",
        "#    y_vals = np.array([funcion(x) for x in\n",
        "#                       np.linspace(0,x_max,num=num_samples) ])\n",
        "\n",
        "\n",
        "rng = np.random.RandomState(1234)\n",
        "generate_blob(dims=20, var_scale=2, translation_scale=3,\n",
        "              num_samples=5, rng=rng)\n"
      ],
      "execution_count": 22,
      "outputs": [
        {
          "output_type": "execute_result",
          "data": {
            "text/plain": [
              "array([[ 2.05126661, -1.0690872 , -1.16252625, -0.76792193,  1.4461695 ,\n",
              "         4.48948766,  2.74865664, -3.27420867, -2.22390273,  2.9181856 ,\n",
              "         1.88577187, -0.21807703, -1.37781578,  0.5462631 , -3.57840498,\n",
              "        -1.70801208, -1.87868764, -1.18904294,  1.74030334, -0.13433473],\n",
              "       [-1.54393855, -1.9354199 ,  0.05131345,  0.17958095,  0.81438708,\n",
              "         2.25784699,  1.63433822, -2.30182753, -2.25234917,  2.99436646,\n",
              "         2.02603306,  0.44393852, -0.8340564 ,  0.93962554, -4.29427475,\n",
              "        -3.54181933, -0.04636622, -1.42090721,  1.65689601, -0.52406128],\n",
              "       [-1.36831036, -1.01750682,  0.06218594,  1.74977614,  0.64805672,\n",
              "         2.08008173,  3.19150181, -4.28975152, -2.99568198,  2.97606245,\n",
              "         1.31386644, -1.40035518, -1.31793407, -0.60964765, -3.82932487,\n",
              "        -3.08060509,  0.61985755, -0.31417511, -0.38554987, -1.43565545],\n",
              "       [-0.03812145, -3.13899956, -1.64951243,  0.07214886,  0.91030599,\n",
              "         2.20006776,  4.65787664, -4.04872138, -1.97962377,  2.35850135,\n",
              "         1.66748516, -1.18513835, -0.57849023, -0.88806811, -3.67399314,\n",
              "        -2.00546343, -1.39091158, -2.56282736,  1.20528854,  0.8626521 ],\n",
              "       [-1.23261577, -2.58704949, -2.07538582,  0.2317948 ,  0.46030938,\n",
              "         3.05386269,  4.19665664, -3.79393405, -2.2338402 ,  3.41059731,\n",
              "         3.02961799, -0.29562767,  0.49309214, -0.10937189, -3.13303707,\n",
              "        -2.48422726, -0.99823562, -3.57079826,  1.19930822,  0.42574461]])"
            ]
          },
          "metadata": {
            "tags": []
          },
          "execution_count": 22
        }
      ]
    },
    {
      "cell_type": "code",
      "metadata": {
        "id": "6IpdthWxBaKd"
      },
      "source": [
        ""
      ],
      "execution_count": null,
      "outputs": []
    }
  ]
}