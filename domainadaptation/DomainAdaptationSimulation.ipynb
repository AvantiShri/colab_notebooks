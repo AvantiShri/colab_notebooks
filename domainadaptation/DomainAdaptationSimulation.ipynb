{
  "nbformat": 4,
  "nbformat_minor": 0,
  "metadata": {
    "colab": {
      "name": "DomainAdaptationSimulation.ipynb",
      "provenance": [],
      "include_colab_link": true
    },
    "kernelspec": {
      "name": "python3",
      "display_name": "Python 3"
    }
  },
  "cells": [
    {
      "cell_type": "markdown",
      "metadata": {
        "id": "view-in-github",
        "colab_type": "text"
      },
      "source": [
        "<a href=\"https://colab.research.google.com/github/AvantiShri/colab_notebooks/blob/master/domainadaptation/DomainAdaptationSimulation.ipynb\" target=\"_parent\"><img src=\"https://colab.research.google.com/assets/colab-badge.svg\" alt=\"Open In Colab\"/></a>"
      ]
    },
    {
      "cell_type": "code",
      "metadata": {
        "id": "DNiwY6RYXxvN",
        "colab_type": "code",
        "colab": {
          "base_uri": "https://localhost:8080/",
          "height": 377
        },
        "outputId": "7b246fe3-cd67-43b9-8733-f30221a61a0f"
      },
      "source": [
        "!pip install simdna"
      ],
      "execution_count": 1,
      "outputs": [
        {
          "output_type": "stream",
          "text": [
            "Collecting simdna\n",
            "\u001b[?25l  Downloading https://files.pythonhosted.org/packages/14/c6/dc6cc2e9ac09c85d5ec6d896c6c43c8dd5ef50bb9c14423e9290131dce27/simdna-0.4.3.2.tar.gz (634kB)\n",
            "\u001b[K     |████████████████████████████████| 634kB 2.8MB/s \n",
            "\u001b[?25hRequirement already satisfied: numpy>=1.9 in /usr/local/lib/python3.6/dist-packages (from simdna) (1.17.3)\n",
            "Requirement already satisfied: matplotlib in /usr/local/lib/python3.6/dist-packages (from simdna) (3.1.1)\n",
            "Requirement already satisfied: scipy in /usr/local/lib/python3.6/dist-packages (from simdna) (1.3.1)\n",
            "Requirement already satisfied: python-dateutil>=2.1 in /usr/local/lib/python3.6/dist-packages (from matplotlib->simdna) (2.6.1)\n",
            "Requirement already satisfied: kiwisolver>=1.0.1 in /usr/local/lib/python3.6/dist-packages (from matplotlib->simdna) (1.1.0)\n",
            "Requirement already satisfied: pyparsing!=2.0.4,!=2.1.2,!=2.1.6,>=2.0.1 in /usr/local/lib/python3.6/dist-packages (from matplotlib->simdna) (2.4.2)\n",
            "Requirement already satisfied: cycler>=0.10 in /usr/local/lib/python3.6/dist-packages (from matplotlib->simdna) (0.10.0)\n",
            "Requirement already satisfied: six>=1.5 in /usr/local/lib/python3.6/dist-packages (from python-dateutil>=2.1->matplotlib->simdna) (1.12.0)\n",
            "Requirement already satisfied: setuptools in /usr/local/lib/python3.6/dist-packages (from kiwisolver>=1.0.1->matplotlib->simdna) (41.4.0)\n",
            "Building wheels for collected packages: simdna\n",
            "  Building wheel for simdna (setup.py) ... \u001b[?25lerror\n",
            "\u001b[31m  ERROR: Failed building wheel for simdna\u001b[0m\n",
            "\u001b[?25h  Running setup.py clean for simdna\n",
            "Failed to build simdna\n",
            "Installing collected packages: simdna\n",
            "    Running setup.py install for simdna ... \u001b[?25l\u001b[?25hdone\n",
            "Successfully installed simdna-0.4.3.2\n"
          ],
          "name": "stdout"
        }
      ]
    },
    {
      "cell_type": "markdown",
      "metadata": {
        "id": "D66wPJHHfxAg",
        "colab_type": "text"
      },
      "source": [
        "The simulation is as follows:\n",
        "- For each sequence, a background sequence of length `seqLength` is simulated with a 40% GC content\n",
        "- Then simualtor iterates over the REST_known1 motif and the HNF4_known2 motif (the PWMs can be found at http://compbio.mit.edu/encode-motifs/)\n",
        "- For a given type of motif, the number of motifs that will be inserted into the sequence needs to be determined. With `zero_prob` probability (here 0.5), no instances of that motif will be inserted. Otherwise, with `1-zero_prob` probability, the number of motif instances will be sampled from a poisson distribution with a mean of `mean_motifs`. If the number returned by the poisson distribution lies below `min_motifs` or above `max_motifs`, the number of motifs will be sampled again until a number that is within the min/max range is found. (Aside: this is why you occasionally see the message `warning: made (num) tries at trying to sample from distribution with min/max limits`).\n",
        "- Once the number of the motifs is determined, the instances of the motifs will be embedded in the background sequence. Each instance is sampled from the corresponding PWM and embedded uniformly at random at an unoccupied position in the background sequence (\"unoccupied\" means it does not overlap the position of any other embedded motif. This is why you see warnings to the effect of `made (num) attemps at trying to embed (motif instance) in region of length (length) with (num) occupied sites\"`). The instance will be reverse-complemented with probability `rc_prob`, specified at the command line.\n",
        "- A total of `numSeqs` sequences are simulated"
      ]
    },
    {
      "cell_type": "code",
      "metadata": {
        "id": "hrsPdIcKX1w_",
        "colab_type": "code",
        "colab": {
          "base_uri": "https://localhost:8080/",
          "height": 666
        },
        "outputId": "21e6d812-fb0b-4276-b160-1db572d7aa61"
      },
      "source": [
        "!densityMotifSimulation.py --prefix sourcedomain --motifNames REST_known1 HNF4_known2 --rc-prob 0.5  --mean-motifs 1 --max-motifs 3 --min-motifs 1 --zero-prob 0.5 --seqLength 200 --numSeqs 50000"
      ],
      "execution_count": 2,
      "outputs": [
        {
          "output_type": "stream",
          "text": [
            "Warning: made 10 attemps at trying to embed revComp-HNF4_known2-CTGTTTAAGGGCCA in region of length 200 with 70.0 occupied sites\n",
            "warning: made 10 tries at trying to sample from distribution with min/max limits\n",
            "Warning: made 10 attemps at trying to embed HNF4_known2-GAACCTTTACGCAT in region of length 200 with 70.0 occupied sites\n",
            "Warning: made 10 attemps at trying to embed HNF4_known2-TGACCCTTGGAAAT in region of length 200 with 77.0 occupied sites\n",
            "warning: made 10 tries at trying to sample from distribution with min/max limits\n",
            "Warning: made 10 attemps at trying to embed revComp-HNF4_known2-AGGGTCAAAGTCCA in region of length 200 with 63.0 occupied sites\n",
            "Warning: made 10 attemps at trying to embed revComp-HNF4_known2-CAGTTCAAAGTTCA in region of length 200 with 63.0 occupied sites\n",
            "Warning: made 10 attemps at trying to embed revComp-HNF4_known2-CGGTTCAAAGGTCA in region of length 200 with 70.0 occupied sites\n",
            "Warning: made 10 attemps at trying to embed HNF4_known2-TGAACTTTACCCTT in region of length 200 with 77.0 occupied sites\n",
            "Warning: made 10 attemps at trying to embed revComp-HNF4_known2-CGATCCAAAGTTCA in region of length 200 with 77.0 occupied sites\n",
            "Warning: made 10 attemps at trying to embed revComp-HNF4_known2-ATCTGCAAAGGTCA in region of length 200 with 56.0 occupied sites\n",
            "Warning: made 10 attemps at trying to embed HNF4_known2-TGACCTTTGCCCCC in region of length 200 with 77.0 occupied sites\n",
            "Warning: made 10 attemps at trying to embed HNF4_known2-TGAACTTTGAATAG in region of length 200 with 77.0 occupied sites\n",
            "Warning: made 10 attemps at trying to embed HNF4_known2-TGACCTTTGAGCCT in region of length 200 with 77.0 occupied sites\n",
            "Warning: made 10 attemps at trying to embed revComp-HNF4_known2-GGGGGCAAGGGTCA in region of length 200 with 70.0 occupied sites\n",
            "Warning: made 10 attemps at trying to embed revComp-HNF4_known2-GGGTTCAAAGGTCA in region of length 200 with 63.0 occupied sites\n",
            "Warning: made 10 attemps at trying to embed revComp-HNF4_known2-GGGTGCAGAGGTCA in region of length 200 with 77.0 occupied sites\n",
            "warning: made 10 tries at trying to sample from distribution with min/max limits\n",
            "Warning: made 10 attemps at trying to embed revComp-HNF4_known2-AAGGTCAAAGTTCA in region of length 200 with 91.0 occupied sites\n",
            "Warning: made 20 attemps at trying to embed revComp-HNF4_known2-AAGGTCAAAGTTCA in region of length 200 with 91.0 occupied sites\n",
            "Warning: made 10 attemps at trying to embed revComp-HNF4_known2-AGGTTCTAAGTTCA in region of length 200 with 70.0 occupied sites\n",
            "Warning: made 10 attemps at trying to embed HNF4_known2-TGACCCTTAAACCG in region of length 200 with 77.0 occupied sites\n",
            "Warning: made 10 attemps at trying to embed HNF4_known2-TGAACTCTGACCCG in region of length 200 with 70.0 occupied sites\n",
            "Warning: made 10 attemps at trying to embed revComp-REST_known1-GTTGCTGACCTCGGTGCTGAC in region of length 200 with 42.0 occupied sites\n",
            "warning: made 10 tries at trying to sample from distribution with min/max limits\n",
            "Warning: made 10 attemps at trying to embed revComp-HNF4_known2-ATCTGCTAAGTTCA in region of length 200 with 63.0 occupied sites\n",
            "Warning: made 10 attemps at trying to embed revComp-HNF4_known2-AGGGTCAAAGGTCA in region of length 200 with 91.0 occupied sites\n",
            "warning: made 10 tries at trying to sample from distribution with min/max limits\n",
            "Warning: made 10 attemps at trying to embed revComp-HNF4_known2-AAGATCAAGGTTCA in region of length 200 with 63.0 occupied sites\n",
            "Warning: made 10 attemps at trying to embed revComp-HNF4_known2-ATATCCAAAGTTCA in region of length 200 with 63.0 occupied sites\n",
            "Warning: made 10 attemps at trying to embed revComp-HNF4_known2-GAGTGCAAAGTTCA in region of length 200 with 56.0 occupied sites\n",
            "Warning: made 10 attemps at trying to embed HNF4_known2-TGACCTTTGAACCT in region of length 200 with 70.0 occupied sites\n",
            "Warning: made 10 attemps at trying to embed revComp-REST_known1-GGGGCTGTCCGTGGTGCTGAA in region of length 200 with 42.0 occupied sites\n",
            "Warning: made 10 attemps at trying to embed revComp-HNF4_known2-ATGTTCAAAGGTCC in region of length 200 with 77.0 occupied sites\n",
            "Warning: made 10 attemps at trying to embed HNF4_known2-TGACCTCTGCCAAT in region of length 200 with 56.0 occupied sites\n",
            "Warning: made 10 attemps at trying to embed HNF4_known2-TGACCTTTGCACTT in region of length 200 with 70.0 occupied sites\n",
            "Warning: made 10 attemps at trying to embed revComp-HNF4_known2-AAGTCCAAGGTTCA in region of length 200 with 70.0 occupied sites\n"
          ],
          "name": "stdout"
        }
      ]
    },
    {
      "cell_type": "code",
      "metadata": {
        "id": "3QB37HUpYwdl",
        "colab_type": "code",
        "colab": {
          "base_uri": "https://localhost:8080/",
          "height": 207
        },
        "outputId": "3bf1ee79-8c78-41ec-8e3d-e781ce4f75b4"
      },
      "source": [
        "!head -10 DensityEmbedding_prefix-sourcedomain_motifs-REST_known1+HNF4_known2_min-1_max-3_mean-1_zeroProb-0p5_seqLength-200_numSeqs-50000.simdata"
      ],
      "execution_count": 3,
      "outputs": [
        {
          "output_type": "stream",
          "text": [
            "seqName\tsequence\tembeddings\n",
            "sourcedomain-synth0\tCTACAAACCGCGATAGCGAATTCGTTAAATACTGGCGTATTTATACTAAAAGAACAGAGGACGCAGGGTGTAATCATCTTTGTCATCTGGATCGCATGAGCGTCTTCAGCACCAAGGTCAGAAGCGGTAAGTGATATCTTGAAAAAATGAATGAATAGTTACGTATTCAGCACCACGGACAGCGACAGGTAATTTTAAGT\tpos-104_REST_known1-TTCAGCACCAAGGTCAGAAGC,pos-165_REST_known1-TTCAGCACCACGGACAGCGAC\n",
            "sourcedomain-synth1\tTCTGTGGAGTTTGTCGCCCCCGCTGACCTTTGAATGTGTGTGCCACATATTGGACCAGCTTAAACTAATCGAAGCAGGGATAGTACTTGTTTTAGTGTATTAAGCTCTTCATGGGCTCTGTCCGTGGTGCTGAAATCAGATAAGTCTGGTTATCTAAACAGTGTCTCTGAAAACAATCTCCCCTCTATAGAGATTTTAAA\tpos-113_revComp-REST_known1-GGCTCTGTCCGTGGTGCTGAA\n",
            "sourcedomain-synth2\tAGCGTCACTTTTAAACAGCTATAGCAAGCGAGTTGTTGAAACCTATTTGGCACCTCGCGGCTGTCCTTGGTGCTGATGGCTGACTTGGGAATATTAGAGGTCACTTAAAACAAGTAAATTGCTCTTCATAACCATAGTAGTGGATTCTATACCATCGCAAGTCCAAAGTTCAAGTAGATTATATGCTTTAATTTGTTCTT\tpos-56_revComp-REST_known1-GCGGCTGTCCTTGGTGCTGAT,pos-158_revComp-HNF4_known2-AAGTCCAAAGTTCA,pos-89_revComp-HNF4_known2-AATATTAGAGGTCA\n",
            "sourcedomain-synth3\tATTCTCGCGATAAAATGTGTGTCGATTTAGCACCATGGTCAGACCCGCTTAGTCTAGGAACTCTACATGGAGACCCAGTGGAAGTACCCACATTCGAGATGGACTTGAGGCCGTTGTATAACAGAAATGCATCTCGAGCACCCTCTGTCATATGCTAGAGAGTTCTTCGACATCCTGCAACAAGTAGCTAACTATAAACC\tpos-25_REST_known1-TTTAGCACCATGGTCAGACCC\n",
            "sourcedomain-synth4\tTACGGATTTAGCGTCGCTCTTTCAACAGGCTGAAACAGGGCTCATGTTAAACTACATTACATTGTCTCATGATTGTAGTAATGGAATCATATTCGGGTATGAAGAAATGTCGGGATTTGACCCTTGCACCTCAGAATACATGATGCGACCAGGATTTTACCGCTGGGATTTAACCTGTCAACATGGCAACAATTCTCTGG\tpos-117_HNF4_known2-TGACCCTTGCACCT\n",
            "sourcedomain-synth5\tTGACCTCTGAACAGCTTACCGTCCATATAGCTAATGCAAAATTTCTCCATAGGTCTGTCCCTGGTGCTGAAGCCAAACTGGAGGAAATTTCTGTCGTAGCGTCCTGCGCACCATGGTGTGACCTCTGAGGTCGCGGCGGGGCGTGTCTATGAAGTAGTGTAATTGTTTTAAAATATGCCCATTACAATTCTCCTTGTTGC\tpos-50_revComp-REST_known1-AGGTCTGTCCCTGGTGCTGAA,pos-118_HNF4_known2-TGACCTCTGAGGTC\n",
            "sourcedomain-synth6\tACACAAAGGTAGAGTTAAAAACAAGAAGCTCGCAATTTATTAAGACATCTGCTAGGCACCTACAGTATAAATTATTCCGAAAAGGCTAAAAATAGAAGTTGGACTTTGAACCCGGCGCTGACCGCGGTGCTGCACACGATTTTCTTTCAGCACCAAGGACAGTATCAGTGACCTTTGCACCGGGAAGTGATCTGAATTTC\tpos-113_revComp-REST_known1-GGCGCTGACCGCGGTGCTGCA,pos-145_REST_known1-TTCAGCACCAAGGACAGTATC,pos-99_HNF4_known2-TGGACTTTGAACCC,pos-168_HNF4_known2-TGACCTTTGCACCG\n",
            "sourcedomain-synth7\tGTCTCAATCAGAGCCAAAGGTCAAAAACTAGGCAAATGCTATTGCCCTTCGTTGTCTTGTTTAGTTCTACTTTACAATTCCGGGGCTAGTATAGGATGATAGAGAGTGGTTGCCTTAGTATGAACTTTACCGATACCTGCGCGGATGTACTGTCGTATTAAATATCTACTGCGGCAAAAGTCACGCTTTTCGATATTTAA\tpos-120_HNF4_known2-TGAACTTTACCGAT,pos-9_revComp-HNF4_known2-AGAGCCAAAGGTCA\n",
            "sourcedomain-synth8\tAAGACAATGAGTTCATAAATCGTTCATATGTGAAGTAGCTTCAAAAGTATGTTCGGGAAATGTGAGCATCCTTAGGGGCAAAGGTCCAAAATAAAGACACCCCATACACGGACCTATGGAACTAATGACCGTTGATTCCTAGATCTACTCAGTACTTTGTTACGTACACCGCGGCAACAGGGCGAATCGAACGAACGTAG\tpos-73_revComp-HNF4_known2-AGGGGCAAAGGTCC\n"
          ],
          "name": "stdout"
        }
      ]
    },
    {
      "cell_type": "markdown",
      "metadata": {
        "id": "WD_7hFCNY_7g",
        "colab_type": "text"
      },
      "source": [
        "Label sequences with a 1 if BOTH REST and HNF4-A have been embedded, 0 otherwise"
      ]
    },
    {
      "cell_type": "code",
      "metadata": {
        "id": "mQ33K2-zYzrz",
        "colab_type": "code",
        "colab": {}
      },
      "source": [
        "import simdna.synthetic\n",
        "data = simdna.synthetic.read_simdata_file(\"DensityEmbedding_prefix-sourcedomain_motifs-REST_known1+HNF4_known2_min-1_max-3_mean-1_zeroProb-0p5_seqLength-200_numSeqs-50000.simdata\")  "
      ],
      "execution_count": 0,
      "outputs": []
    },
    {
      "cell_type": "code",
      "metadata": {
        "id": "m7b3UiccZL94",
        "colab_type": "code",
        "colab": {}
      },
      "source": [
        "import numpy as np\n",
        "rng = np.random.RandomState(1)\n",
        "from scipy.special import expit\n",
        "#get the labels for the sequences\n",
        "labels = []\n",
        "outf = open(\"sourcedomain_sequences_and_labels.txt\",'w')\n",
        "for sequence, embeddings in zip(data.sequences, data.embeddings):\n",
        "    num_rest = sum([1 if 'REST' in x.what.stringDescription else 0\n",
        "                    for x in embeddings])\n",
        "    num_hnf = sum([1 if 'HNF4' in x.what.stringDescription else 0\n",
        "                    for x in embeddings])   \n",
        "    #all sequences that do not have a REST motif get a label of 0\n",
        "    if (num_rest == 0):\n",
        "        label = 0\n",
        "    #if a sequence has BOTH REST and HNF4, the label is 1\n",
        "    elif (num_hnf > 0 and num_rest > 0):\n",
        "        label = 1\n",
        "    #if there are ONLY REST motifs, sample the probability of being 1\n",
        "    # according to the number of REST motifs\n",
        "    else: #num_rest > 0 but num_hnf = 0\n",
        "        #sample the label depending on the number of rest motifs\n",
        "        #expit is the same as sigmoid\n",
        "        if (rng.uniform() < expit(num_rest)):\n",
        "            label = 1\n",
        "        else:\n",
        "            label = 0\n",
        "    outf.write(sequence+\"\\t\"+str(label)+\"\\n\")\n",
        "    labels.append(label)\n",
        "outf.close()"
      ],
      "execution_count": 0,
      "outputs": []
    },
    {
      "cell_type": "code",
      "metadata": {
        "id": "O9v5YspWaDh4",
        "colab_type": "code",
        "colab": {
          "base_uri": "https://localhost:8080/",
          "height": 34
        },
        "outputId": "1afc3e07-19ae-4d9d-bfe1-8a336b59cfbb"
      },
      "source": [
        "import numpy as np\n",
        "np.mean(labels)"
      ],
      "execution_count": 6,
      "outputs": [
        {
          "output_type": "execute_result",
          "data": {
            "text/plain": [
              "0.44876"
            ]
          },
          "metadata": {
            "tags": []
          },
          "execution_count": 6
        }
      ]
    },
    {
      "cell_type": "code",
      "metadata": {
        "id": "_E_RMYtRaIa3",
        "colab_type": "code",
        "colab": {
          "base_uri": "https://localhost:8080/",
          "height": 207
        },
        "outputId": "51191559-da90-4ee0-895e-2f4131796e65"
      },
      "source": [
        "!head sourcedomain_sequences_and_labels.txt"
      ],
      "execution_count": 7,
      "outputs": [
        {
          "output_type": "stream",
          "text": [
            "CTACAAACCGCGATAGCGAATTCGTTAAATACTGGCGTATTTATACTAAAAGAACAGAGGACGCAGGGTGTAATCATCTTTGTCATCTGGATCGCATGAGCGTCTTCAGCACCAAGGTCAGAAGCGGTAAGTGATATCTTGAAAAAATGAATGAATAGTTACGTATTCAGCACCACGGACAGCGACAGGTAATTTTAAGT\t1\n",
            "TCTGTGGAGTTTGTCGCCCCCGCTGACCTTTGAATGTGTGTGCCACATATTGGACCAGCTTAAACTAATCGAAGCAGGGATAGTACTTGTTTTAGTGTATTAAGCTCTTCATGGGCTCTGTCCGTGGTGCTGAAATCAGATAAGTCTGGTTATCTAAACAGTGTCTCTGAAAACAATCTCCCCTCTATAGAGATTTTAAA\t1\n",
            "AGCGTCACTTTTAAACAGCTATAGCAAGCGAGTTGTTGAAACCTATTTGGCACCTCGCGGCTGTCCTTGGTGCTGATGGCTGACTTGGGAATATTAGAGGTCACTTAAAACAAGTAAATTGCTCTTCATAACCATAGTAGTGGATTCTATACCATCGCAAGTCCAAAGTTCAAGTAGATTATATGCTTTAATTTGTTCTT\t1\n",
            "ATTCTCGCGATAAAATGTGTGTCGATTTAGCACCATGGTCAGACCCGCTTAGTCTAGGAACTCTACATGGAGACCCAGTGGAAGTACCCACATTCGAGATGGACTTGAGGCCGTTGTATAACAGAAATGCATCTCGAGCACCCTCTGTCATATGCTAGAGAGTTCTTCGACATCCTGCAACAAGTAGCTAACTATAAACC\t1\n",
            "TACGGATTTAGCGTCGCTCTTTCAACAGGCTGAAACAGGGCTCATGTTAAACTACATTACATTGTCTCATGATTGTAGTAATGGAATCATATTCGGGTATGAAGAAATGTCGGGATTTGACCCTTGCACCTCAGAATACATGATGCGACCAGGATTTTACCGCTGGGATTTAACCTGTCAACATGGCAACAATTCTCTGG\t0\n",
            "TGACCTCTGAACAGCTTACCGTCCATATAGCTAATGCAAAATTTCTCCATAGGTCTGTCCCTGGTGCTGAAGCCAAACTGGAGGAAATTTCTGTCGTAGCGTCCTGCGCACCATGGTGTGACCTCTGAGGTCGCGGCGGGGCGTGTCTATGAAGTAGTGTAATTGTTTTAAAATATGCCCATTACAATTCTCCTTGTTGC\t1\n",
            "ACACAAAGGTAGAGTTAAAAACAAGAAGCTCGCAATTTATTAAGACATCTGCTAGGCACCTACAGTATAAATTATTCCGAAAAGGCTAAAAATAGAAGTTGGACTTTGAACCCGGCGCTGACCGCGGTGCTGCACACGATTTTCTTTCAGCACCAAGGACAGTATCAGTGACCTTTGCACCGGGAAGTGATCTGAATTTC\t1\n",
            "GTCTCAATCAGAGCCAAAGGTCAAAAACTAGGCAAATGCTATTGCCCTTCGTTGTCTTGTTTAGTTCTACTTTACAATTCCGGGGCTAGTATAGGATGATAGAGAGTGGTTGCCTTAGTATGAACTTTACCGATACCTGCGCGGATGTACTGTCGTATTAAATATCTACTGCGGCAAAAGTCACGCTTTTCGATATTTAA\t0\n",
            "AAGACAATGAGTTCATAAATCGTTCATATGTGAAGTAGCTTCAAAAGTATGTTCGGGAAATGTGAGCATCCTTAGGGGCAAAGGTCCAAAATAAAGACACCCCATACACGGACCTATGGAACTAATGACCGTTGATTCCTAGATCTACTCAGTACTTTGTTACGTACACCGCGGCAACAGGGCGAATCGAACGAACGTAG\t0\n",
            "ACAGAGAGTCGATATACTTTCTTCGACTCCAGCACCACGGACAGAGCCTCAAACGTTCTACACACATGTTCTGCGTCAATTGATGTTTGTTTTTTCATGGTATAGGGCAGTGGCTTCGGTAAACTAGGCATACCGAGATGCAGTCTATTGTATGTGTGAGATAAACGGTCCTGGACGAAACAGAACAAATGCACCTAGGA\t1\n"
          ],
          "name": "stdout"
        }
      ]
    },
    {
      "cell_type": "markdown",
      "metadata": {
        "id": "StDZ69xOh_Tk",
        "colab_type": "text"
      },
      "source": [
        "Simulate the target domain, but with GATA_disc1 as the cofactor motif, rather than HNF4_known2"
      ]
    },
    {
      "cell_type": "code",
      "metadata": {
        "id": "I9h4kfGSe8A_",
        "colab_type": "code",
        "colab": {
          "base_uri": "https://localhost:8080/",
          "height": 156
        },
        "outputId": "d884aa1b-6236-4400-f624-d1ca528de5e9"
      },
      "source": [
        "!densityMotifSimulation.py --prefix targetdomain --motifNames REST_known1 GATA_disc1 --rc-prob 0.5  --mean-motifs 1 --max-motifs 3 --min-motifs 1 --zero-prob 0.5 --seqLength 200 --numSeqs 50000"
      ],
      "execution_count": 8,
      "outputs": [
        {
          "output_type": "stream",
          "text": [
            "Warning: made 10 attemps at trying to embed revComp-GATA_disc1-TCTTATCGGG in region of length 200 with 73.0 occupied sites\n",
            "Warning: made 10 attemps at trying to embed REST_known1-TTCAGCACCGCGGACAGCTCT in region of length 200 with 42.0 occupied sites\n",
            "Warning: made 10 attemps at trying to embed GATA_disc1-GGCGATAAGC in region of length 200 with 52.0 occupied sites\n",
            "warning: made 10 tries at trying to sample from distribution with min/max limits\n",
            "Warning: made 10 attemps at trying to embed GATA_disc1-ACAGATTAGG in region of length 200 with 83.0 occupied sites\n",
            "warning: made 10 tries at trying to sample from distribution with min/max limits\n",
            "warning: made 10 tries at trying to sample from distribution with min/max limits\n"
          ],
          "name": "stdout"
        }
      ]
    },
    {
      "cell_type": "code",
      "metadata": {
        "id": "LyPTf8C1fBxG",
        "colab_type": "code",
        "colab": {
          "base_uri": "https://localhost:8080/",
          "height": 207
        },
        "outputId": "1fd40f97-cc26-4344-bd91-9a2f5c3b7b08"
      },
      "source": [
        "!head DensityEmbedding_prefix-targetdomain_motifs-REST_known1+GATA_disc1_min-1_max-3_mean-1_zeroProb-0p5_seqLength-200_numSeqs-50000.simdata"
      ],
      "execution_count": 9,
      "outputs": [
        {
          "output_type": "stream",
          "text": [
            "seqName\tsequence\tembeddings\n",
            "targetdomain-synth0\tCTACAAACCGCGATAGCGAATTCGTTAAATACTGGCGTATTTATACTAAAAGAACAGAGGACGCAGGGTGTAATCATCTTTGTCATCTGGATCGCATGAGCGTCTTCAGCACCAAGGTCAGAAGCGGTAAGTGATATCTTGAAAAAATGAATGAATAGTTACGTATTCAGCACCACGGACAGCGACAGGTAATTTTAAGT\tpos-104_REST_known1-TTCAGCACCAAGGTCAGAAGC,pos-165_REST_known1-TTCAGCACCACGGACAGCGAC\n",
            "targetdomain-synth1\tTCTGTGGAGTTTGTCGCCCCCGCTGACCTTTGAATGTGTGTGCCACATATTGGACCAGCTTAAACTAATCGAAGCAGGGATAGTACTTGTTTTAGTGTATTAAGCTCTTCATGGGCTCTGTCCGTGGTGCTGAAATCAGATAAGTCTGGTTATCTAAACAGTGTCTCTGAAAACAATCTCCCCTCTATAGAGATTTTAAA\tpos-113_revComp-REST_known1-GGCTCTGTCCGTGGTGCTGAA\n",
            "targetdomain-synth2\tAGCGTCACTTTTAAACAGCTATAGCAAGCGAGTTGTTGAAACCTATTTGGCACCTCGCGGCTGTCCTTGGTGCTGATGGCTGACTTGGGAGGCTATATCTCATCTTAAACCTTATCTCGTGCTCTTCATAACCATAGTAGTGGATTCTATACCATCGCAAAGACATATAGATAGTAGATTATATGCTTCCTTATCTGATT\tpos-56_revComp-REST_known1-GCGGCTGTCCTTGGTGCTGAT,pos-109_revComp-GATA_disc1-CCTTATCTCG,pos-188_revComp-GATA_disc1-CCTTATCTGA\n",
            "targetdomain-synth3\tACTATTCATCATTCTCGCGATAAAATGTGTGTCGACACACTCTGCTGATCCCGATAGCTTAGTCTAGGAACTCTACATGGAGACCCAGTGGAAGTACCCACATTCGAGATGGACTTGAGGCCGTTGTATAACAGAAATGCATCTCGAGCACCCTCTGTCATATGCTAGAGAGTTCTTCGACATCCTGCAACAAGTAGCTA\t\n",
            "targetdomain-synth4\tTATAAACCGAAAAGCCGTTGTAACCTCGTCTAACGAGAATACGGATTTAGCGTCGCTCTTTCAACAGGCTGAAACAGGGCTCATGTTATTCAGCACCACGGACAGCAGCGATTGTAGTAATGGAATCATATTCGGGTATGAAGAAATGTCGGGATTGATACTGTGTTCATCAGAATACATGATGCGACCAGGATTTTACC\tpos-88_REST_known1-TTCAGCACCACGGACAGCAGC\n",
            "targetdomain-synth5\tACAATTCTCTGGAGTCTTCGTATATGCAGTTGTCCTGATAAGGCAGCTTACCGTCCATATAGCTAATGCAAAATTTCTCCATCCATCATAATTGAGGCATCTAGCCAAACTGGAGGAAATTTCTGTCGTAGCGTCCTGCGCACCATGGTGTTTAAATAGTTCAGCACCACAGACAGAGTCATGAAGTAGTGTAATTGTTT\tpos-159_REST_known1-TTCAGCACCACAGACAGAGTC,pos-33_GATA_disc1-CCTGATAAGG\n",
            "targetdomain-synth6\tTTTAAACAACTCAGGATTTTCCAATATTTATGACACAAAGGTAGAGTTAAAAACAAGAAGCTCGCAATTTATTAAGACATCTGCTAGGCACCTACAGTATAAATTATTCCGAAAAGGCTAAAAATAGAAGTTCATTTGTTCGGGGGTGTAATTAGTAAGATGGAAGCACGATTTTCTACGGTATTACGTATCTAATGCAG\t\n",
            "targetdomain-synth7\tCGGTTGGCTATCGGAAGTGATCTGAATTCCTTATCGCGATCGAGCATTGATTTATAGTTCTTGAAAAATAATTGTATCTTTCTATGTATGCACAATGATGTGCTATTCAGATAATTGTCTCAATCTGTATTGTAGCGCTAAAACTATTCAGCACCTCGGACAGAGGCTTGTCTTGTTTAGTTCTACTTTACAATTCCGGG\tpos-146_REST_known1-TTCAGCACCTCGGACAGAGGC,pos-28_revComp-GATA_disc1-CCTTATCGCG\n",
            "targetdomain-synth8\tTACGATAGGACCTGCGCGGATGTACTGTCGTATTAAATATCTACTGCGGCAAAAGTCACGCTTTTCGATATTTAACTCTCGTGACCGAAGGTATTGAACGCCTTTTGTGGCGAAAGACAATGAGTTCATAAATCGTTCATATGTGAAGTAGCTTCAAAAGTATGTTCGGGAAATGTGAGCATCCTTAACACTTGAATAGT\t\n"
          ],
          "name": "stdout"
        }
      ]
    },
    {
      "cell_type": "code",
      "metadata": {
        "id": "dcZFziKZfUoa",
        "colab_type": "code",
        "colab": {}
      },
      "source": [
        ""
      ],
      "execution_count": 0,
      "outputs": []
    }
  ]
}