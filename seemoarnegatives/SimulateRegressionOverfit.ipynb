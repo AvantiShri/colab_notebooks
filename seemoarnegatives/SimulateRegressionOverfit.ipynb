{
  "nbformat": 4,
  "nbformat_minor": 0,
  "metadata": {
    "colab": {
      "name": "SimulateRegressionOverfit.ipynb",
      "provenance": [],
      "collapsed_sections": [],
      "authorship_tag": "ABX9TyMQeBQ66ni7a+rK3lwh4ei9",
      "include_colab_link": true
    },
    "kernelspec": {
      "name": "python3",
      "display_name": "Python 3"
    }
  },
  "cells": [
    {
      "cell_type": "markdown",
      "metadata": {
        "id": "view-in-github",
        "colab_type": "text"
      },
      "source": [
        "<a href=\"https://colab.research.google.com/github/AvantiShri/colab_notebooks/blob/master/seemoarnegatives/SimulateRegressionOverfit.ipynb\" target=\"_parent\"><img src=\"https://colab.research.google.com/assets/colab-badge.svg\" alt=\"Open In Colab\"/></a>"
      ]
    },
    {
      "cell_type": "code",
      "metadata": {
        "id": "RufzeKEwG9r7",
        "colab_type": "code",
        "colab": {
          "base_uri": "https://localhost:8080/",
          "height": 357
        },
        "outputId": "39ee16cb-9ec1-4c71-9fdf-3ff1a6c45f72"
      },
      "source": [
        "!pip install simdna"
      ],
      "execution_count": 1,
      "outputs": [
        {
          "output_type": "stream",
          "text": [
            "Collecting simdna\n",
            "\u001b[?25l  Downloading https://files.pythonhosted.org/packages/14/c6/dc6cc2e9ac09c85d5ec6d896c6c43c8dd5ef50bb9c14423e9290131dce27/simdna-0.4.3.2.tar.gz (634kB)\n",
            "\u001b[K     |████████████████████████████████| 634kB 3.4MB/s \n",
            "\u001b[?25hRequirement already satisfied: numpy>=1.9 in /usr/local/lib/python3.6/dist-packages (from simdna) (1.17.5)\n",
            "Requirement already satisfied: matplotlib in /usr/local/lib/python3.6/dist-packages (from simdna) (3.1.3)\n",
            "Requirement already satisfied: scipy in /usr/local/lib/python3.6/dist-packages (from simdna) (1.4.1)\n",
            "Requirement already satisfied: kiwisolver>=1.0.1 in /usr/local/lib/python3.6/dist-packages (from matplotlib->simdna) (1.1.0)\n",
            "Requirement already satisfied: cycler>=0.10 in /usr/local/lib/python3.6/dist-packages (from matplotlib->simdna) (0.10.0)\n",
            "Requirement already satisfied: python-dateutil>=2.1 in /usr/local/lib/python3.6/dist-packages (from matplotlib->simdna) (2.6.1)\n",
            "Requirement already satisfied: pyparsing!=2.0.4,!=2.1.2,!=2.1.6,>=2.0.1 in /usr/local/lib/python3.6/dist-packages (from matplotlib->simdna) (2.4.6)\n",
            "Requirement already satisfied: setuptools in /usr/local/lib/python3.6/dist-packages (from kiwisolver>=1.0.1->matplotlib->simdna) (45.1.0)\n",
            "Requirement already satisfied: six in /usr/local/lib/python3.6/dist-packages (from cycler>=0.10->matplotlib->simdna) (1.12.0)\n",
            "Building wheels for collected packages: simdna\n",
            "  Building wheel for simdna (setup.py) ... \u001b[?25lerror\n",
            "\u001b[31m  ERROR: Failed building wheel for simdna\u001b[0m\n",
            "\u001b[?25h  Running setup.py clean for simdna\n",
            "Failed to build simdna\n",
            "Installing collected packages: simdna\n",
            "    Running setup.py install for simdna ... \u001b[?25l\u001b[?25hdone\n",
            "Successfully installed simdna-0.4.3.2\n"
          ],
          "name": "stdout"
        }
      ]
    },
    {
      "cell_type": "code",
      "metadata": {
        "id": "1J3xCLNKHDvh",
        "colab_type": "code",
        "colab": {}
      },
      "source": [
        "!densityMotifSimulation.py --prefix gata --motifNames GATA_disc1 --max-motifs 3 --min-motifs 1 --mean-motifs 2 --seqLength 200 --numSeqs 100"
      ],
      "execution_count": 0,
      "outputs": []
    },
    {
      "cell_type": "code",
      "metadata": {
        "id": "N2MXrRHGHhXy",
        "colab_type": "code",
        "colab": {
          "base_uri": "https://localhost:8080/",
          "height": 207
        },
        "outputId": "2dc37f85-b6be-44af-ab13-e20e25e6f1b3"
      },
      "source": [
        "!head DensityEmbedding_prefix-gata_motifs-GATA_disc1_min-1_max-3_mean-2_zeroProb-0_seqLength-200_numSeqs-100.simdata"
      ],
      "execution_count": 12,
      "outputs": [
        {
          "output_type": "stream",
          "text": [
            "seqName\tsequence\tembeddings\n",
            "gata-synth0\tCTACCCAGATTAGAAGCGAATTCGTTAAATACTGGCGTATTTATACTAAAAGAACAGAGGTCAGATAAGCTAATCATCTTTGTCATCTGGATCGCATGAGCGTCTGATGTAATGATTTTAAAAATGGTAAGTGATATCTTGAAAAAATGAATGAATAGTTATGAGATAAGGTGCGTGAACGATAATAGGTAATTTTAAGT\tpos-4_GATA_disc1-CCAGATTAGA,pos-161_GATA_disc1-TGAGATAAGG,pos-60_GATA_disc1-TCAGATAAGC\n",
            "gata-synth1\tTGATGACGTATCTGTGGAGTTTGTCGCCCCCGCTGACCTTTGAATGTGTGTGCCACATATTGGACCAGCTTAAACTAATCGAAGCAGGGATAGTACTTGTTTTAGTGTATTAAGCTCTTCATGTGTGGACAATACTGGATGTGATAAGGATAAGTCTGGTTATCTAAACAGTGTCTCTGAAAACAATCTCCCCTCTATAG\tpos-139_GATA_disc1-TGTGATAAGG\n",
            "gata-synth2\tTCAAATAATCTAGCTCCGTATTAGCTGGCGAAGCGTCACTTTTAAACAGCTATAGCAAGCGAGTTGTTGAAACCTATGCAGATAACGCAATCTACGTCACGGTAAGTAGGCTGACTTGGGAGGCTATATCTCATCTTAAAACAAGTAGGTGATAAGGCATAACCATAGTAGTGGATTCTATACCATCGCAAAGACATATA\tpos-77_GATA_disc1-GCAGATAACG,pos-147_GATA_disc1-GGTGATAAGG\n",
            "gata-synth3\tTGCGATTACCAGATAAGCCCTCCGACCGTCTCGACTGTGCTAGTGATATGTGTATACTATTCATCATTCTCGCGATAAAATGTGTGTCGACACACTCTGCTGATCCCGATAGCTTAGTCTAGGAACTCTACATGGAGACCCAGTGGAAGTACCCACATTCGAGATGGTCAGATAAGGGTTGTATAACAGAAATGCATCTC\tpos-8_GATA_disc1-CCAGATAAGC,pos-167_GATA_disc1-TCAGATAAGG\n",
            "gata-synth4\tCTTCGACATCCTGCAACAAGTAGCTAACTATAAACCGAAAAGCCGTTGTAACCTCGTCTAACGAGAATACAATGATAAGCTCGCTCTTTCAACAGGCTGAAACAGGGCTCATGTTAAACTACATTACAACCGATAAGCATTGTAGTAATGGAATCATATTCGGGTATGAAGAAATGTCGGGATTGATACTGTGTTCATCA\tpos-70_GATA_disc1-AATGATAAGC,pos-128_GATA_disc1-ACCGATAAGC\n",
            "gata-synth5\tCTGGGATTTAACCTGTCAACATGGCAACAATTCTCTGGAGTCTTCGTATATGCAGTTGTGACCTCTGAACAGCTTACCGTCCATATAGCTAATGCAAAATTTCTCCATCCATCATAATTGAGGCATCTAGCCAAACTGGAGGAAATACTGATAAGCGCGTGGTGATAACGATGGTGTTTAAATAGAAGACGCGGCGGGGC\tpos-146_GATA_disc1-ACTGATAAGC,pos-160_GATA_disc1-GGTGATAACG\n",
            "gata-synth6\tGCCCATTACAATTCTCCTTGTTGCTCGTTCAAGCTTATTTAAACAACTCAGGATTTTCCAATATTTATGGGAGATAAGAAGAGTTAAAAACAAGAAGCTCGCAATTTATTAAGACCGAGATAAGCCACCTACAGTATAAATTATTCCGAAAAGGCTAAAAATAGAAGTTCATTTGTTCGGGGGTGTAATTAGTAAGATGG\tpos-115_GATA_disc1-CGAGATAAGC,pos-69_GATA_disc1-GGAGATAAGA\n",
            "gata-synth7\tTAATGCAGACCGGTTGGCTATCGGAAGTGATCTGAATTTCGGGACATTATCGAGCATTGATTTATAGTTCTTGAAAAATAATTGTATCTTTCTATGTATGCACAATGATGTGCTATTCAGATAATGGAGATAAGGTGTATTGTAGCGCTAAAACTAGGCAAATGCTATTGCCCTTCGTTGTCTTGTTTAGTTCTACTTTA\tpos-125_GATA_disc1-GGAGATAAGG\n",
            "gata-synth8\tTATAGGATGATAGAGAGTGGTTGCCTTAGTATTCAATACGATAGGACCTGCGCGGATGTACTGTCGTATTAAATATCTACTAGAGATAACGTCACGCTTTTCGATATTTAACTCTCGTGACCGAAGGTATTGAACGCCTTTTGTGGCGAAAGACAATGAGTTCATAAATCGTTCATATGTGAAGTAGCTTCAAAAGTATG\tpos-81_GATA_disc1-AGAGATAACG\n"
          ],
          "name": "stdout"
        }
      ]
    },
    {
      "cell_type": "code",
      "metadata": {
        "id": "PcferWbgILZP",
        "colab_type": "code",
        "colab": {
          "base_uri": "https://localhost:8080/",
          "height": 207
        },
        "outputId": "79a00074-eacf-4764-b974-9faba0bee606"
      },
      "source": [
        "!head EmptyBackground_prefix-empty_seqLength-200_numSeqs-10000.simdata"
      ],
      "execution_count": 17,
      "outputs": [
        {
          "output_type": "stream",
          "text": [
            "seqName\tsequence\tembeddings\n",
            "empty-synth0\tCTACAAACCGCGATAGCGAATTCGTTAAATACTGGCGTATTTATACTAAAAGAACAGAGGACGCAGGGTGTAATCATCTTTGTCATCTGGATCGCATGAGCGTCTGATGTAATGATTTTAAAAATGGTAAGTGATATCTTGAAAAAATGAATGAATAGTTACGTAAACGGCTGCGTGAACGATAATAGGTAATTTTAAGT\t\n",
            "empty-synth1\tTGTGCCGGTTCTAAAGATTAACATCTGTTTCGTACGAGCTCTGATGACGTATCTGTGGAGTTTGTCGCCCCCGCTGACCTTTGAATGTGTGTGCCACATATTGGACCAGCTTAAACTAATCGAAGCAGGGATAGTACTTGTTTTAGTGTATTAAGCTCTTCATGTGTGGACAATACTGGACGTAAATCAGATAAGTCTGG\t\n",
            "empty-synth2\tTTATCTAAACAGTGTCTCTGAAAACAATCTCCCCTCTATAGAGATTTTAAAGTTTTTCAAATAATCTAGCTCCGTATTAGCTGGCGAAGCGTCACTTTTAAACAGCTATAGCAAGCGAGTTGTTGAAACCTATTTGGCACCTCCAATCTACGTCACGGTAAGTAGGCTGACTTGGGAGGCTATATCTCATCTTAAAACAA\t\n",
            "empty-synth3\tGTAAATTGCTCTTCATAACCATAGTAGTGGATTCTATACCATCGCAAAGACATATAGATAGTAGATTATATGCTTTAATTTGTTCTTGCGATTAAACTGAAAGCCCTCCGACCGTCTCGACTGTGCTAGTGATATGTGTATACTATTCATCATTCTCGCGATAAAATGTGTGTCGACACACTCTGCTGATCCCGATAGCT\t\n",
            "empty-synth4\tTAGTCTAGGAACTCTACATGGAGACCCAGTGGAAGTACCCACATTCGAGATGGACTTGAGGCCGTTGTATAACAGAAATGCATCTCGAGCACCCTCTGTCATATGCTAGAGAGTTCTTCGACATCCTGCAACAAGTAGCTAACTATAAACCGAAAAGCCGTTGTAACCTCGTCTAACGAGAATACGGATTTAGCGTCGCT\t\n",
            "empty-synth5\tCTTTCAACAGGCTGAAACAGGGCTCATGTTAAACTACATTACATTGTCTCATGATTGTAGTAATGGAATCATATTCGGGTATGAAGAAATGTCGGGATTGATACTGTGTTCATCAGAATACATGATGCGACCAGGATTTTACCGCTGGGATTTAACCTGTCAACATGGCAACAATTCTCTGGAGTCTTCGTATATGCAGT\t\n",
            "empty-synth6\tTGTGACCTCTGAACAGCTTACCGTCCATATAGCTAATGCAAAATTTCTCCATCCATCATAATTGAGGCATCTAGCCAAACTGGAGGAAATTTCTGTCGTAGCGTCCTGCGCACCATGGTGTTTAAATAGAAGACGCGGCGGGGCGTGTCTATGAAGTAGTGTAATTGTTTTAAAATATGCCCATTACAATTCTCCTTGTT\t\n",
            "empty-synth7\tGCTCGTTCAAGCTTATTTAAACAACTCAGGATTTTCCAATATTTATGACACAAAGGTAGAGTTAAAAACAAGAAGCTCGCAATTTATTAAGACATCTGCTAGGCACCTACAGTATAAATTATTCCGAAAAGGCTAAAAATAGAAGTTCATTTGTTCGGGGGTGTAATTAGTAAGATGGAAGCACGATTTTCTACGGTATT\t\n",
            "empty-synth8\tACGTATCTAATGCAGACCGGTTGGCTATCGGAAGTGATCTGAATTTCGGGACATTATCGAGCATTGATTTATAGTTCTTGAAAAATAATTGTATCTTTCTATGTATGCACAATGATGTGCTATTCAGATAATTGTCTCAATCTGTATTGTAGCGCTAAAACTAGGCAAATGCTATTGCCCTTCGTTGTCTTGTTTAGTTC\t\n"
          ],
          "name": "stdout"
        }
      ]
    },
    {
      "cell_type": "code",
      "metadata": {
        "id": "lNhLqzvrKhlY",
        "colab_type": "code",
        "colab": {
          "base_uri": "https://localhost:8080/",
          "height": 238
        },
        "outputId": "707ac12a-172c-4b47-87a4-c97df696f571"
      },
      "source": [
        "!ls"
      ],
      "execution_count": 25,
      "outputs": [
        {
          "output_type": "stream",
          "text": [
            "DensityEmbedding_prefix-gata_motifs-GATA_disc1_min-1_max-3_mean-2_zeroProb-0_seqLength-200_numSeqs-100.fa\n",
            "DensityEmbedding_prefix-gata_motifs-GATA_disc1_min-1_max-3_mean-2_zeroProb-0_seqLength-200_numSeqs-100_info.txt\n",
            "DensityEmbedding_prefix-gata_motifs-GATA_disc1_min-1_max-3_mean-2_zeroProb-0_seqLength-200_numSeqs-100.simdata\n",
            "DensityEmbedding_prefix-gata_motifs-GATA_disc1_min-1_max-3_mean-2_zeroProb-0_seqLength-200_numSeqs-700.fa\n",
            "DensityEmbedding_prefix-gata_motifs-GATA_disc1_min-1_max-3_mean-2_zeroProb-0_seqLength-200_numSeqs-700_info.txt\n",
            "DensityEmbedding_prefix-gata_motifs-GATA_disc1_min-1_max-3_mean-2_zeroProb-0_seqLength-200_numSeqs-700.simdata\n",
            "EmptyBackground_prefix-empty_seqLength-200_numSeqs-10000.fa\n",
            "EmptyBackground_prefix-empty_seqLength-200_numSeqs-10000_info.txt\n",
            "EmptyBackground_prefix-empty_seqLength-200_numSeqs-10000.simdata\n",
            "EmptyBackground_prefix-empty_seqLength-200_numSeqs-30000.fa\n",
            "EmptyBackground_prefix-empty_seqLength-200_numSeqs-30000_info.txt\n",
            "EmptyBackground_prefix-empty_seqLength-200_numSeqs-30000.simdata\n",
            "sample_data\n"
          ],
          "name": "stdout"
        }
      ]
    },
    {
      "cell_type": "code",
      "metadata": {
        "id": "0M8OtrdeIUV7",
        "colab_type": "code",
        "colab": {}
      },
      "source": [
        "import numpy as np\n",
        "\n",
        "gata_pfm = np.array([[float(y) for y in x.split(\" \")] for x in \"\"\"0.322751 0.185185 0.359788 0.132275\n",
        "0.137566 0.476190 0.322751 0.063492\n",
        "0.666667 0.100529 0.000000 0.232804\n",
        "0.000000 0.000000 1.000000 0.000000\n",
        "1.000000 0.000000 0.000000 0.000000\n",
        "0.000000 0.000000 0.000000 1.000000\n",
        "0.878307 0.000000 0.000000 0.121693\n",
        "0.973545 0.026455 0.000000 0.000000\n",
        "0.000000 0.052910 0.947090 0.000000\n",
        "0.243386 0.248677 0.507937 0.000000\"\"\".split(\"\\n\")])"
      ],
      "execution_count": 0,
      "outputs": []
    },
    {
      "cell_type": "code",
      "metadata": {
        "id": "kPPXjQDOI_c3",
        "colab_type": "code",
        "colab": {
          "base_uri": "https://localhost:8080/",
          "height": 326
        },
        "outputId": "9b86ebda-b360-42f6-a151-46b3a0c3f1ee"
      },
      "source": [
        "!pip install vizsequence"
      ],
      "execution_count": 19,
      "outputs": [
        {
          "output_type": "stream",
          "text": [
            "Collecting vizsequence\n",
            "  Downloading https://files.pythonhosted.org/packages/a6/10/b3b210eba27de588fba3c261b80317413e18ac3e371df9578b3cdc61096c/vizsequence-0.1.1.0.tar.gz\n",
            "Requirement already satisfied: numpy>=1.9 in /usr/local/lib/python3.6/dist-packages (from vizsequence) (1.17.5)\n",
            "Requirement already satisfied: matplotlib>=2.2.2 in /usr/local/lib/python3.6/dist-packages (from vizsequence) (3.1.3)\n",
            "Requirement already satisfied: cycler>=0.10 in /usr/local/lib/python3.6/dist-packages (from matplotlib>=2.2.2->vizsequence) (0.10.0)\n",
            "Requirement already satisfied: pyparsing!=2.0.4,!=2.1.2,!=2.1.6,>=2.0.1 in /usr/local/lib/python3.6/dist-packages (from matplotlib>=2.2.2->vizsequence) (2.4.6)\n",
            "Requirement already satisfied: kiwisolver>=1.0.1 in /usr/local/lib/python3.6/dist-packages (from matplotlib>=2.2.2->vizsequence) (1.1.0)\n",
            "Requirement already satisfied: python-dateutil>=2.1 in /usr/local/lib/python3.6/dist-packages (from matplotlib>=2.2.2->vizsequence) (2.6.1)\n",
            "Requirement already satisfied: six in /usr/local/lib/python3.6/dist-packages (from cycler>=0.10->matplotlib>=2.2.2->vizsequence) (1.12.0)\n",
            "Requirement already satisfied: setuptools in /usr/local/lib/python3.6/dist-packages (from kiwisolver>=1.0.1->matplotlib>=2.2.2->vizsequence) (45.1.0)\n",
            "Building wheels for collected packages: vizsequence\n",
            "  Building wheel for vizsequence (setup.py) ... \u001b[?25l\u001b[?25hdone\n",
            "  Created wheel for vizsequence: filename=vizsequence-0.1.1.0-cp36-none-any.whl size=3268 sha256=31ceadb6c0a123b8a8796721a9eb1e4e711fec5f31f26c365907d55fb9d48d76\n",
            "  Stored in directory: /root/.cache/pip/wheels/08/eb/de/6b398b439ba39c278e5c341bdeed57d66280910e096496eaef\n",
            "Successfully built vizsequence\n",
            "Installing collected packages: vizsequence\n",
            "Successfully installed vizsequence-0.1.1.0\n"
          ],
          "name": "stdout"
        }
      ]
    },
    {
      "cell_type": "code",
      "metadata": {
        "id": "QX7LGBMzJA2D",
        "colab_type": "code",
        "colab": {
          "base_uri": "https://localhost:8080/",
          "height": 157
        },
        "outputId": "08032bbe-38ae-4bea-8c33-3e53b30fadac"
      },
      "source": [
        "import vizsequence\n",
        "vizsequence.plot_weights(gata_pfm)"
      ],
      "execution_count": 21,
      "outputs": [
        {
          "output_type": "display_data",
          "data": {
            "image/png": "[encoded data removed]",
            "text/plain": [
              "<Figure size 1440x144 with 1 Axes>"
            ]
          },
          "metadata": {
            "tags": []
          }
        }
      ]
    },
    {
      "cell_type": "code",
      "metadata": {
        "id": "NhzfsCf1JHDx",
        "colab_type": "code",
        "colab": {}
      },
      "source": [
        "#convert from pfm to something like log-odds (isn't actually logodds due to pseudocount)\n",
        "gata_logodds = np.log((gata_pfm+0.001)/np.array([0.3, 0.2, 0.2, 0.3])[None,:] )"
      ],
      "execution_count": 0,
      "outputs": []
    },
    {
      "cell_type": "code",
      "metadata": {
        "id": "GkK_qaizK1W0",
        "colab_type": "code",
        "colab": {
          "base_uri": "https://localhost:8080/",
          "height": 207
        },
        "outputId": "e0d4047f-0977-468c-d2fa-c4caf6a5fab8"
      },
      "source": [
        "!head DensityEmbedding_prefix-gata_motifs-GATA_disc1_min-1_max-3_mean-2_zeroProb-0_seqLength-200_numSeqs-100.fa"
      ],
      "execution_count": 26,
      "outputs": [
        {
          "output_type": "stream",
          "text": [
            ">gata-synth0\n",
            "CTACCCAGATTAGAAGCGAATTCGTTAAATACTGGCGTATTTATACTAAAAGAACAGAGGTCAGATAAGCTAATCATCTTTGTCATCTGGATCGCATGAGCGTCTGATGTAATGATTTTAAAAATGGTAAGTGATATCTTGAAAAAATGAATGAATAGTTATGAGATAAGGTGCGTGAACGATAATAGGTAATTTTAAGT\n",
            ">gata-synth1\n",
            "TGATGACGTATCTGTGGAGTTTGTCGCCCCCGCTGACCTTTGAATGTGTGTGCCACATATTGGACCAGCTTAAACTAATCGAAGCAGGGATAGTACTTGTTTTAGTGTATTAAGCTCTTCATGTGTGGACAATACTGGATGTGATAAGGATAAGTCTGGTTATCTAAACAGTGTCTCTGAAAACAATCTCCCCTCTATAG\n",
            ">gata-synth2\n",
            "TCAAATAATCTAGCTCCGTATTAGCTGGCGAAGCGTCACTTTTAAACAGCTATAGCAAGCGAGTTGTTGAAACCTATGCAGATAACGCAATCTACGTCACGGTAAGTAGGCTGACTTGGGAGGCTATATCTCATCTTAAAACAAGTAGGTGATAAGGCATAACCATAGTAGTGGATTCTATACCATCGCAAAGACATATA\n",
            ">gata-synth3\n",
            "TGCGATTACCAGATAAGCCCTCCGACCGTCTCGACTGTGCTAGTGATATGTGTATACTATTCATCATTCTCGCGATAAAATGTGTGTCGACACACTCTGCTGATCCCGATAGCTTAGTCTAGGAACTCTACATGGAGACCCAGTGGAAGTACCCACATTCGAGATGGTCAGATAAGGGTTGTATAACAGAAATGCATCTC\n",
            ">gata-synth4\n",
            "CTTCGACATCCTGCAACAAGTAGCTAACTATAAACCGAAAAGCCGTTGTAACCTCGTCTAACGAGAATACAATGATAAGCTCGCTCTTTCAACAGGCTGAAACAGGGCTCATGTTAAACTACATTACAACCGATAAGCATTGTAGTAATGGAATCATATTCGGGTATGAAGAAATGTCGGGATTGATACTGTGTTCATCA\n"
          ],
          "name": "stdout"
        }
      ]
    },
    {
      "cell_type": "code",
      "metadata": {
        "id": "42F1MqHOLXuA",
        "colab_type": "code",
        "colab": {}
      },
      "source": [
        "#read in the sequences and one-hot encode them\n",
        "positives_file = \"DensityEmbedding_prefix-gata_motifs-GATA_disc1_min-1_max-3_mean-2_zeroProb-0_seqLength-200_numSeqs-100.fa\"\n",
        "negatives_file = \"EmptyBackground_prefix-empty_seqLength-200_numSeqs-10000.fa\"\n",
        "positives_sequences = [x.rstrip(\"\\n\") for i,x in enumerate(open(positives_file))\n",
        "                       if i%2==1]\n",
        "negatives_sequences = [x.rstrip(\"\\n\") for i,x in enumerate(open(negatives_file))\n",
        "                       if i%2==1]\n",
        "\n",
        "letter_lookup = {'A': [1,0,0,0], 'C': [0,1,0,0], 'G':[0,0,1,0], 'T':[0,0,0,1]}\n",
        "positives_onehot = np.array([[letter_lookup[letter] for letter in seq]\n",
        "                             for seq in positives_sequences])\n",
        "negatives_onehot = np.array([[letter_lookup[letter] for letter in seq]\n",
        "                             for seq in negatives_sequences])"
      ],
      "execution_count": 0,
      "outputs": []
    },
    {
      "cell_type": "code",
      "metadata": {
        "id": "ZUM5rUIgJpFJ",
        "colab_type": "code",
        "colab": {}
      },
      "source": [
        "#will score binding by doing a scan of the gata_logodds across the sequence\n",
        "#set up the code for the pwm scan\n",
        "\n",
        "#rolling_window is from this blog post by Erik Rigtorp:\n",
        "# https://rigtorp.se/2011/01/01/rolling-statistics-numpy.html\n",
        "def rolling_window(a, window):\n",
        "    shape = a.shape[:-1] + (a.shape[-1] - window + 1, window)\n",
        "    strides = a.strides + (a.strides[-1],)\n",
        "    return np.lib.stride_tricks.as_strided(a, shape=shape, strides=strides)\n",
        "\n",
        "def compute_pwm_scan(onehot_seq, weightmat):\n",
        "    strided_onehotseq = rolling_window(\n",
        "        onehot_seq.transpose((0,2,1)),\n",
        "        window=len(weightmat)).transpose((0,2,3,1))\n",
        "    pwm_scan = np.sum(\n",
        "        strided_onehotseq*weightmat[None,None,:,:], axis=(2,3)) \n",
        "    return pwm_scan\n",
        "\n",
        "#scan positives and negatives with pwm\n",
        "positives_gatapwm_scan = compute_pwm_scan(onehot_seq=positives_onehot,\n",
        "                                          weightmat=gata_logodds)\n",
        "negatives_gatapwm_scan = compute_pwm_scan(onehot_seq=negatives_onehot,\n",
        "                                          weightmat=gata_logodds)\n",
        "\n",
        "#transform the pwm score with a sigmoid, pretend this represents the\n",
        "# per-position binding score\n",
        "import scipy.special\n",
        "bias = -3\n",
        "positives_gatapwm_perposbinding = scipy.special.expit(positives_gatapwm_scan + bias)\n",
        "negatives_gatapwm_perposbinding = scipy.special.expit(negatives_gatapwm_scan + bias)\n",
        "\n",
        "#let the total binding score be the sum of the perpos binding across the sequence\n",
        "positives_gatapwm_totalbindingscore = np.sum(positives_gatapwm_perposbinding, axis=-1)\n",
        "negatives_gatapwm_totalbindingscore = np.sum(negatives_gatapwm_perposbinding, axis=-1)\n",
        "\n",
        "#add noise\n",
        "noise_scale = 0.1\n",
        "noisy_positives_gatapwm_totalbindingscore = positives_gatapwm_totalbindingscore + np.random.poisson(positives_gatapwm_totalbindingscore)*noise_scale\n",
        "noisy_negatives_gatapwm_totalbindingscore = negatives_gatapwm_totalbindingscore + np.random.poisson(negatives_gatapwm_totalbindingscore)*noise_scale"
      ],
      "execution_count": 0,
      "outputs": []
    },
    {
      "cell_type": "code",
      "metadata": {
        "id": "cEI9RgfVJyhJ",
        "colab_type": "code",
        "colab": {
          "base_uri": "https://localhost:8080/",
          "height": 265
        },
        "outputId": "f6fd41d9-983b-4ec3-aaf0-807363999cbf"
      },
      "source": [
        "from matplotlib import pyplot as plt\n",
        "plt.hist(noisy_positives_gatapwm_totalbindingscore, density=True, bins=20, alpha=0.5)\n",
        "plt.hist(noisy_negatives_gatapwm_totalbindingscore, density=True, bins=20, alpha=0.5)\n",
        "plt.show()"
      ],
      "execution_count": 48,
      "outputs": [
        {
          "output_type": "display_data",
          "data": {
            "image/png": "[encoded data removed]",
            "text/plain": [
              "<Figure size 432x288 with 1 Axes>"
            ]
          },
          "metadata": {
            "tags": []
          }
        }
      ]
    },
    {
      "cell_type": "code",
      "metadata": {
        "id": "RkAY9yhRL7Kh",
        "colab_type": "code",
        "colab": {}
      },
      "source": [
        ""
      ],
      "execution_count": 0,
      "outputs": []
    }
  ]
}